{
 "cells": [
  {
   "cell_type": "markdown",
   "metadata": {
    "slideshow": {
     "slide_type": "slide"
    }
   },
   "source": [
    "# David Kohl \n",
    "### On my honor, as a student, I have neither given nor received unauthorized aid on this academic work."
   ]
  },
  {
   "cell_type": "markdown",
   "metadata": {
    "slideshow": {
     "slide_type": "slide"
    }
   },
   "source": [
    "# 1. Business Understanding"
   ]
  },
  {
   "cell_type": "markdown",
   "metadata": {
    "slideshow": {
     "slide_type": "subslide"
    }
   },
   "source": [
    "#### IMDB scores have long been used to represent the quality of a movie; is it good? or bad? While this may sway ones decision to see one movie over another, if at all; generally we would look at the box office numbers to judge a movie's overall success. However, is there a correlation between IMDB scores and the \"success\" of a movie? That is the basis of this project. The goal is to predict a movie's success through the use of IMDB scores and variables that are highly correlated to the results of the score. To accomplish this goal, large amounts of data will be collected and analyzed to uncover insightful information which will be used to predict movie success. In doing so the following data is some of what I would like to collect:\n",
    "\n",
    "- Time of Year\n",
    "- Studio\n",
    "- Production Value\n",
    "- Actors/Directors\n",
    "- Generes \n",
    "- Country of Origin\n",
    "\n",
    "#### These are just a few of what I want to look at in order to predict movie success via IMDB scores. Below will contain code and data that will be used to analyze the information from movie data over the years. "
   ]
  },
  {
   "cell_type": "markdown",
   "metadata": {
    "slideshow": {
     "slide_type": "slide"
    }
   },
   "source": [
    "# 2. Data Understanding"
   ]
  },
  {
   "cell_type": "code",
   "execution_count": 1166,
   "metadata": {
    "slideshow": {
     "slide_type": "skip"
    }
   },
   "outputs": [],
   "source": [
    "# import packages\n",
    "\n",
    "import pandas as pd\n",
    "import numpy as np\n",
    "from scipy import stats\n",
    "import matplotlib.pyplot as plt\n",
    "import seaborn as sns\n",
    "%matplotlib inline\n",
    "from pandas.plotting import scatter_matrix\n",
    "import pingouin as pg\n",
    "import sklearn.linear_model as lm\n",
    "from sklearn.metrics import mean_squared_error\n",
    "from sklearn.metrics import explained_variance_score\n",
    "\n",
    "#lasso regression\n",
    "from sklearn import linear_model\n",
    "\n",
    "#f_regression (feature selection)\n",
    "from sklearn.feature_selection import f_regression\n",
    "from sklearn.feature_selection import SelectKBest\n",
    "\n",
    "# recursive feature selection (feature selection)\n",
    "from sklearn.feature_selection import RFE\n",
    "\n",
    "import statsmodels.api as sm\n",
    "from statsmodels.formula.api import ols"
   ]
  },
  {
   "cell_type": "code",
   "execution_count": 1167,
   "metadata": {
    "slideshow": {
     "slide_type": "subslide"
    }
   },
   "outputs": [
    {
     "data": {
      "text/html": [
       "<div>\n",
       "<style scoped>\n",
       "    .dataframe tbody tr th:only-of-type {\n",
       "        vertical-align: middle;\n",
       "    }\n",
       "\n",
       "    .dataframe tbody tr th {\n",
       "        vertical-align: top;\n",
       "    }\n",
       "\n",
       "    .dataframe thead th {\n",
       "        text-align: right;\n",
       "    }\n",
       "</style>\n",
       "<table border=\"1\" class=\"dataframe\">\n",
       "  <thead>\n",
       "    <tr style=\"text-align: right;\">\n",
       "      <th></th>\n",
       "      <th>color</th>\n",
       "      <th>director_name</th>\n",
       "      <th>num_critic_for_reviews</th>\n",
       "      <th>duration</th>\n",
       "      <th>director_facebook_likes</th>\n",
       "      <th>actor_3_facebook_likes</th>\n",
       "      <th>actor_2_name</th>\n",
       "      <th>actor_1_facebook_likes</th>\n",
       "      <th>gross</th>\n",
       "      <th>genres</th>\n",
       "      <th>...</th>\n",
       "      <th>num_user_for_reviews</th>\n",
       "      <th>language</th>\n",
       "      <th>country</th>\n",
       "      <th>content_rating</th>\n",
       "      <th>budget</th>\n",
       "      <th>title_year</th>\n",
       "      <th>actor_2_facebook_likes</th>\n",
       "      <th>imdb_score</th>\n",
       "      <th>aspect_ratio</th>\n",
       "      <th>movie_facebook_likes</th>\n",
       "    </tr>\n",
       "  </thead>\n",
       "  <tbody>\n",
       "    <tr>\n",
       "      <th>0</th>\n",
       "      <td>Color</td>\n",
       "      <td>James Cameron</td>\n",
       "      <td>723.0</td>\n",
       "      <td>178.0</td>\n",
       "      <td>0.0</td>\n",
       "      <td>855.0</td>\n",
       "      <td>Joel David Moore</td>\n",
       "      <td>1000.0</td>\n",
       "      <td>760505847.0</td>\n",
       "      <td>Action|Adventure|Fantasy|Sci-Fi</td>\n",
       "      <td>...</td>\n",
       "      <td>3054.0</td>\n",
       "      <td>English</td>\n",
       "      <td>USA</td>\n",
       "      <td>PG-13</td>\n",
       "      <td>237000000.0</td>\n",
       "      <td>2009.0</td>\n",
       "      <td>936.0</td>\n",
       "      <td>7.9</td>\n",
       "      <td>1.78</td>\n",
       "      <td>33000</td>\n",
       "    </tr>\n",
       "    <tr>\n",
       "      <th>1</th>\n",
       "      <td>Color</td>\n",
       "      <td>Gore Verbinski</td>\n",
       "      <td>302.0</td>\n",
       "      <td>169.0</td>\n",
       "      <td>563.0</td>\n",
       "      <td>1000.0</td>\n",
       "      <td>Orlando Bloom</td>\n",
       "      <td>40000.0</td>\n",
       "      <td>309404152.0</td>\n",
       "      <td>Action|Adventure|Fantasy</td>\n",
       "      <td>...</td>\n",
       "      <td>1238.0</td>\n",
       "      <td>English</td>\n",
       "      <td>USA</td>\n",
       "      <td>PG-13</td>\n",
       "      <td>300000000.0</td>\n",
       "      <td>2007.0</td>\n",
       "      <td>5000.0</td>\n",
       "      <td>7.1</td>\n",
       "      <td>2.35</td>\n",
       "      <td>0</td>\n",
       "    </tr>\n",
       "    <tr>\n",
       "      <th>2</th>\n",
       "      <td>Color</td>\n",
       "      <td>Sam Mendes</td>\n",
       "      <td>602.0</td>\n",
       "      <td>148.0</td>\n",
       "      <td>0.0</td>\n",
       "      <td>161.0</td>\n",
       "      <td>Rory Kinnear</td>\n",
       "      <td>11000.0</td>\n",
       "      <td>200074175.0</td>\n",
       "      <td>Action|Adventure|Thriller</td>\n",
       "      <td>...</td>\n",
       "      <td>994.0</td>\n",
       "      <td>English</td>\n",
       "      <td>UK</td>\n",
       "      <td>PG-13</td>\n",
       "      <td>245000000.0</td>\n",
       "      <td>2015.0</td>\n",
       "      <td>393.0</td>\n",
       "      <td>6.8</td>\n",
       "      <td>2.35</td>\n",
       "      <td>85000</td>\n",
       "    </tr>\n",
       "    <tr>\n",
       "      <th>3</th>\n",
       "      <td>Color</td>\n",
       "      <td>Christopher Nolan</td>\n",
       "      <td>813.0</td>\n",
       "      <td>164.0</td>\n",
       "      <td>22000.0</td>\n",
       "      <td>23000.0</td>\n",
       "      <td>Christian Bale</td>\n",
       "      <td>27000.0</td>\n",
       "      <td>448130642.0</td>\n",
       "      <td>Action|Thriller</td>\n",
       "      <td>...</td>\n",
       "      <td>2701.0</td>\n",
       "      <td>English</td>\n",
       "      <td>USA</td>\n",
       "      <td>PG-13</td>\n",
       "      <td>250000000.0</td>\n",
       "      <td>2012.0</td>\n",
       "      <td>23000.0</td>\n",
       "      <td>8.5</td>\n",
       "      <td>2.35</td>\n",
       "      <td>164000</td>\n",
       "    </tr>\n",
       "    <tr>\n",
       "      <th>4</th>\n",
       "      <td>NaN</td>\n",
       "      <td>Doug Walker</td>\n",
       "      <td>NaN</td>\n",
       "      <td>NaN</td>\n",
       "      <td>131.0</td>\n",
       "      <td>NaN</td>\n",
       "      <td>Rob Walker</td>\n",
       "      <td>131.0</td>\n",
       "      <td>NaN</td>\n",
       "      <td>Documentary</td>\n",
       "      <td>...</td>\n",
       "      <td>NaN</td>\n",
       "      <td>NaN</td>\n",
       "      <td>NaN</td>\n",
       "      <td>NaN</td>\n",
       "      <td>NaN</td>\n",
       "      <td>NaN</td>\n",
       "      <td>12.0</td>\n",
       "      <td>7.1</td>\n",
       "      <td>NaN</td>\n",
       "      <td>0</td>\n",
       "    </tr>\n",
       "  </tbody>\n",
       "</table>\n",
       "<p>5 rows × 28 columns</p>\n",
       "</div>"
      ],
      "text/plain": [
       "   color      director_name  num_critic_for_reviews  duration  \\\n",
       "0  Color      James Cameron                   723.0     178.0   \n",
       "1  Color     Gore Verbinski                   302.0     169.0   \n",
       "2  Color         Sam Mendes                   602.0     148.0   \n",
       "3  Color  Christopher Nolan                   813.0     164.0   \n",
       "4    NaN        Doug Walker                     NaN       NaN   \n",
       "\n",
       "   director_facebook_likes  actor_3_facebook_likes      actor_2_name  \\\n",
       "0                      0.0                   855.0  Joel David Moore   \n",
       "1                    563.0                  1000.0     Orlando Bloom   \n",
       "2                      0.0                   161.0      Rory Kinnear   \n",
       "3                  22000.0                 23000.0    Christian Bale   \n",
       "4                    131.0                     NaN        Rob Walker   \n",
       "\n",
       "   actor_1_facebook_likes        gross                           genres  ...  \\\n",
       "0                  1000.0  760505847.0  Action|Adventure|Fantasy|Sci-Fi  ...   \n",
       "1                 40000.0  309404152.0         Action|Adventure|Fantasy  ...   \n",
       "2                 11000.0  200074175.0        Action|Adventure|Thriller  ...   \n",
       "3                 27000.0  448130642.0                  Action|Thriller  ...   \n",
       "4                   131.0          NaN                      Documentary  ...   \n",
       "\n",
       "  num_user_for_reviews language  country  content_rating       budget  \\\n",
       "0               3054.0  English      USA           PG-13  237000000.0   \n",
       "1               1238.0  English      USA           PG-13  300000000.0   \n",
       "2                994.0  English       UK           PG-13  245000000.0   \n",
       "3               2701.0  English      USA           PG-13  250000000.0   \n",
       "4                  NaN      NaN      NaN             NaN          NaN   \n",
       "\n",
       "   title_year actor_2_facebook_likes imdb_score  aspect_ratio  \\\n",
       "0      2009.0                  936.0        7.9          1.78   \n",
       "1      2007.0                 5000.0        7.1          2.35   \n",
       "2      2015.0                  393.0        6.8          2.35   \n",
       "3      2012.0                23000.0        8.5          2.35   \n",
       "4         NaN                   12.0        7.1           NaN   \n",
       "\n",
       "  movie_facebook_likes  \n",
       "0                33000  \n",
       "1                    0  \n",
       "2                85000  \n",
       "3               164000  \n",
       "4                    0  \n",
       "\n",
       "[5 rows x 28 columns]"
      ]
     },
     "execution_count": 1167,
     "metadata": {},
     "output_type": "execute_result"
    }
   ],
   "source": [
    "# Load Data\n",
    "\n",
    "df = pd.read_csv(\"movie_metadata.csv\")\n",
    "df.head()"
   ]
  },
  {
   "cell_type": "code",
   "execution_count": 1168,
   "metadata": {
    "slideshow": {
     "slide_type": "skip"
    }
   },
   "outputs": [
    {
     "name": "stdout",
     "output_type": "stream",
     "text": [
      "<class 'pandas.core.frame.DataFrame'>\n",
      "RangeIndex: 5043 entries, 0 to 5042\n",
      "Data columns (total 28 columns):\n",
      "color                        5024 non-null object\n",
      "director_name                4939 non-null object\n",
      "num_critic_for_reviews       4993 non-null float64\n",
      "duration                     5028 non-null float64\n",
      "director_facebook_likes      4939 non-null float64\n",
      "actor_3_facebook_likes       5020 non-null float64\n",
      "actor_2_name                 5030 non-null object\n",
      "actor_1_facebook_likes       5036 non-null float64\n",
      "gross                        4159 non-null float64\n",
      "genres                       5043 non-null object\n",
      "actor_1_name                 5036 non-null object\n",
      "movie_title                  5043 non-null object\n",
      "num_voted_users              5043 non-null int64\n",
      "cast_total_facebook_likes    5043 non-null int64\n",
      "actor_3_name                 5020 non-null object\n",
      "facenumber_in_poster         5030 non-null float64\n",
      "plot_keywords                4890 non-null object\n",
      "movie_imdb_link              5043 non-null object\n",
      "num_user_for_reviews         5022 non-null float64\n",
      "language                     5031 non-null object\n",
      "country                      5038 non-null object\n",
      "content_rating               4740 non-null object\n",
      "budget                       4551 non-null float64\n",
      "title_year                   4935 non-null float64\n",
      "actor_2_facebook_likes       5030 non-null float64\n",
      "imdb_score                   5043 non-null float64\n",
      "aspect_ratio                 4714 non-null float64\n",
      "movie_facebook_likes         5043 non-null int64\n",
      "dtypes: float64(13), int64(3), object(12)\n",
      "memory usage: 1.1+ MB\n"
     ]
    }
   ],
   "source": [
    "# Identifying data types\n",
    "\n",
    "df.info()"
   ]
  },
  {
   "cell_type": "markdown",
   "metadata": {
    "slideshow": {
     "slide_type": "slide"
    }
   },
   "source": [
    "### Searching for data quality issues"
   ]
  },
  {
   "cell_type": "code",
   "execution_count": 1169,
   "metadata": {
    "slideshow": {
     "slide_type": "skip"
    }
   },
   "outputs": [
    {
     "data": {
      "text/html": [
       "<div>\n",
       "<style scoped>\n",
       "    .dataframe tbody tr th:only-of-type {\n",
       "        vertical-align: middle;\n",
       "    }\n",
       "\n",
       "    .dataframe tbody tr th {\n",
       "        vertical-align: top;\n",
       "    }\n",
       "\n",
       "    .dataframe thead th {\n",
       "        text-align: right;\n",
       "    }\n",
       "</style>\n",
       "<table border=\"1\" class=\"dataframe\">\n",
       "  <thead>\n",
       "    <tr style=\"text-align: right;\">\n",
       "      <th></th>\n",
       "      <th>num_critic_for_reviews</th>\n",
       "      <th>duration</th>\n",
       "      <th>director_facebook_likes</th>\n",
       "      <th>actor_3_facebook_likes</th>\n",
       "      <th>actor_1_facebook_likes</th>\n",
       "      <th>gross</th>\n",
       "      <th>num_voted_users</th>\n",
       "      <th>cast_total_facebook_likes</th>\n",
       "      <th>facenumber_in_poster</th>\n",
       "      <th>num_user_for_reviews</th>\n",
       "      <th>budget</th>\n",
       "      <th>title_year</th>\n",
       "      <th>actor_2_facebook_likes</th>\n",
       "      <th>imdb_score</th>\n",
       "      <th>aspect_ratio</th>\n",
       "      <th>movie_facebook_likes</th>\n",
       "    </tr>\n",
       "  </thead>\n",
       "  <tbody>\n",
       "    <tr>\n",
       "      <th>count</th>\n",
       "      <td>4993.000000</td>\n",
       "      <td>5028.000000</td>\n",
       "      <td>4939.000000</td>\n",
       "      <td>5020.000000</td>\n",
       "      <td>5036.000000</td>\n",
       "      <td>4.159000e+03</td>\n",
       "      <td>5.043000e+03</td>\n",
       "      <td>5043.000000</td>\n",
       "      <td>5030.000000</td>\n",
       "      <td>5022.000000</td>\n",
       "      <td>4.551000e+03</td>\n",
       "      <td>4935.000000</td>\n",
       "      <td>5030.000000</td>\n",
       "      <td>5043.000000</td>\n",
       "      <td>4714.000000</td>\n",
       "      <td>5043.000000</td>\n",
       "    </tr>\n",
       "    <tr>\n",
       "      <th>mean</th>\n",
       "      <td>140.194272</td>\n",
       "      <td>107.201074</td>\n",
       "      <td>686.509212</td>\n",
       "      <td>645.009761</td>\n",
       "      <td>6560.047061</td>\n",
       "      <td>4.846841e+07</td>\n",
       "      <td>8.366816e+04</td>\n",
       "      <td>9699.063851</td>\n",
       "      <td>1.371173</td>\n",
       "      <td>272.770808</td>\n",
       "      <td>3.975262e+07</td>\n",
       "      <td>2002.470517</td>\n",
       "      <td>1651.754473</td>\n",
       "      <td>6.442138</td>\n",
       "      <td>2.220403</td>\n",
       "      <td>7525.964505</td>\n",
       "    </tr>\n",
       "    <tr>\n",
       "      <th>std</th>\n",
       "      <td>121.601675</td>\n",
       "      <td>25.197441</td>\n",
       "      <td>2813.328607</td>\n",
       "      <td>1665.041728</td>\n",
       "      <td>15020.759120</td>\n",
       "      <td>6.845299e+07</td>\n",
       "      <td>1.384853e+05</td>\n",
       "      <td>18163.799124</td>\n",
       "      <td>2.013576</td>\n",
       "      <td>377.982886</td>\n",
       "      <td>2.061149e+08</td>\n",
       "      <td>12.474599</td>\n",
       "      <td>4042.438863</td>\n",
       "      <td>1.125116</td>\n",
       "      <td>1.385113</td>\n",
       "      <td>19320.445110</td>\n",
       "    </tr>\n",
       "    <tr>\n",
       "      <th>min</th>\n",
       "      <td>1.000000</td>\n",
       "      <td>7.000000</td>\n",
       "      <td>0.000000</td>\n",
       "      <td>0.000000</td>\n",
       "      <td>0.000000</td>\n",
       "      <td>1.620000e+02</td>\n",
       "      <td>5.000000e+00</td>\n",
       "      <td>0.000000</td>\n",
       "      <td>0.000000</td>\n",
       "      <td>1.000000</td>\n",
       "      <td>2.180000e+02</td>\n",
       "      <td>1916.000000</td>\n",
       "      <td>0.000000</td>\n",
       "      <td>1.600000</td>\n",
       "      <td>1.180000</td>\n",
       "      <td>0.000000</td>\n",
       "    </tr>\n",
       "    <tr>\n",
       "      <th>25%</th>\n",
       "      <td>50.000000</td>\n",
       "      <td>93.000000</td>\n",
       "      <td>7.000000</td>\n",
       "      <td>133.000000</td>\n",
       "      <td>614.000000</td>\n",
       "      <td>5.340988e+06</td>\n",
       "      <td>8.593500e+03</td>\n",
       "      <td>1411.000000</td>\n",
       "      <td>0.000000</td>\n",
       "      <td>65.000000</td>\n",
       "      <td>6.000000e+06</td>\n",
       "      <td>1999.000000</td>\n",
       "      <td>281.000000</td>\n",
       "      <td>5.800000</td>\n",
       "      <td>1.850000</td>\n",
       "      <td>0.000000</td>\n",
       "    </tr>\n",
       "    <tr>\n",
       "      <th>50%</th>\n",
       "      <td>110.000000</td>\n",
       "      <td>103.000000</td>\n",
       "      <td>49.000000</td>\n",
       "      <td>371.500000</td>\n",
       "      <td>988.000000</td>\n",
       "      <td>2.551750e+07</td>\n",
       "      <td>3.435900e+04</td>\n",
       "      <td>3090.000000</td>\n",
       "      <td>1.000000</td>\n",
       "      <td>156.000000</td>\n",
       "      <td>2.000000e+07</td>\n",
       "      <td>2005.000000</td>\n",
       "      <td>595.000000</td>\n",
       "      <td>6.600000</td>\n",
       "      <td>2.350000</td>\n",
       "      <td>166.000000</td>\n",
       "    </tr>\n",
       "    <tr>\n",
       "      <th>75%</th>\n",
       "      <td>195.000000</td>\n",
       "      <td>118.000000</td>\n",
       "      <td>194.500000</td>\n",
       "      <td>636.000000</td>\n",
       "      <td>11000.000000</td>\n",
       "      <td>6.230944e+07</td>\n",
       "      <td>9.630900e+04</td>\n",
       "      <td>13756.500000</td>\n",
       "      <td>2.000000</td>\n",
       "      <td>326.000000</td>\n",
       "      <td>4.500000e+07</td>\n",
       "      <td>2011.000000</td>\n",
       "      <td>918.000000</td>\n",
       "      <td>7.200000</td>\n",
       "      <td>2.350000</td>\n",
       "      <td>3000.000000</td>\n",
       "    </tr>\n",
       "    <tr>\n",
       "      <th>max</th>\n",
       "      <td>813.000000</td>\n",
       "      <td>511.000000</td>\n",
       "      <td>23000.000000</td>\n",
       "      <td>23000.000000</td>\n",
       "      <td>640000.000000</td>\n",
       "      <td>7.605058e+08</td>\n",
       "      <td>1.689764e+06</td>\n",
       "      <td>656730.000000</td>\n",
       "      <td>43.000000</td>\n",
       "      <td>5060.000000</td>\n",
       "      <td>1.221550e+10</td>\n",
       "      <td>2016.000000</td>\n",
       "      <td>137000.000000</td>\n",
       "      <td>9.500000</td>\n",
       "      <td>16.000000</td>\n",
       "      <td>349000.000000</td>\n",
       "    </tr>\n",
       "  </tbody>\n",
       "</table>\n",
       "</div>"
      ],
      "text/plain": [
       "       num_critic_for_reviews     duration  director_facebook_likes  \\\n",
       "count             4993.000000  5028.000000              4939.000000   \n",
       "mean               140.194272   107.201074               686.509212   \n",
       "std                121.601675    25.197441              2813.328607   \n",
       "min                  1.000000     7.000000                 0.000000   \n",
       "25%                 50.000000    93.000000                 7.000000   \n",
       "50%                110.000000   103.000000                49.000000   \n",
       "75%                195.000000   118.000000               194.500000   \n",
       "max                813.000000   511.000000             23000.000000   \n",
       "\n",
       "       actor_3_facebook_likes  actor_1_facebook_likes         gross  \\\n",
       "count             5020.000000             5036.000000  4.159000e+03   \n",
       "mean               645.009761             6560.047061  4.846841e+07   \n",
       "std               1665.041728            15020.759120  6.845299e+07   \n",
       "min                  0.000000                0.000000  1.620000e+02   \n",
       "25%                133.000000              614.000000  5.340988e+06   \n",
       "50%                371.500000              988.000000  2.551750e+07   \n",
       "75%                636.000000            11000.000000  6.230944e+07   \n",
       "max              23000.000000           640000.000000  7.605058e+08   \n",
       "\n",
       "       num_voted_users  cast_total_facebook_likes  facenumber_in_poster  \\\n",
       "count     5.043000e+03                5043.000000           5030.000000   \n",
       "mean      8.366816e+04                9699.063851              1.371173   \n",
       "std       1.384853e+05               18163.799124              2.013576   \n",
       "min       5.000000e+00                   0.000000              0.000000   \n",
       "25%       8.593500e+03                1411.000000              0.000000   \n",
       "50%       3.435900e+04                3090.000000              1.000000   \n",
       "75%       9.630900e+04               13756.500000              2.000000   \n",
       "max       1.689764e+06              656730.000000             43.000000   \n",
       "\n",
       "       num_user_for_reviews        budget   title_year  \\\n",
       "count           5022.000000  4.551000e+03  4935.000000   \n",
       "mean             272.770808  3.975262e+07  2002.470517   \n",
       "std              377.982886  2.061149e+08    12.474599   \n",
       "min                1.000000  2.180000e+02  1916.000000   \n",
       "25%               65.000000  6.000000e+06  1999.000000   \n",
       "50%              156.000000  2.000000e+07  2005.000000   \n",
       "75%              326.000000  4.500000e+07  2011.000000   \n",
       "max             5060.000000  1.221550e+10  2016.000000   \n",
       "\n",
       "       actor_2_facebook_likes   imdb_score  aspect_ratio  movie_facebook_likes  \n",
       "count             5030.000000  5043.000000   4714.000000           5043.000000  \n",
       "mean              1651.754473     6.442138      2.220403           7525.964505  \n",
       "std               4042.438863     1.125116      1.385113          19320.445110  \n",
       "min                  0.000000     1.600000      1.180000              0.000000  \n",
       "25%                281.000000     5.800000      1.850000              0.000000  \n",
       "50%                595.000000     6.600000      2.350000            166.000000  \n",
       "75%                918.000000     7.200000      2.350000           3000.000000  \n",
       "max             137000.000000     9.500000     16.000000         349000.000000  "
      ]
     },
     "execution_count": 1169,
     "metadata": {},
     "output_type": "execute_result"
    }
   ],
   "source": [
    "# Describing data\n",
    "\n",
    "df.describe()"
   ]
  },
  {
   "cell_type": "code",
   "execution_count": 1170,
   "metadata": {
    "scrolled": true,
    "slideshow": {
     "slide_type": "subslide"
    }
   },
   "outputs": [
    {
     "data": {
      "text/plain": [
       "color                         19\n",
       "director_name                104\n",
       "num_critic_for_reviews        50\n",
       "duration                      15\n",
       "director_facebook_likes      104\n",
       "actor_3_facebook_likes        23\n",
       "actor_2_name                  13\n",
       "actor_1_facebook_likes         7\n",
       "gross                        884\n",
       "genres                         0\n",
       "actor_1_name                   7\n",
       "movie_title                    0\n",
       "num_voted_users                0\n",
       "cast_total_facebook_likes      0\n",
       "actor_3_name                  23\n",
       "facenumber_in_poster          13\n",
       "plot_keywords                153\n",
       "movie_imdb_link                0\n",
       "num_user_for_reviews          21\n",
       "language                      12\n",
       "country                        5\n",
       "content_rating               303\n",
       "budget                       492\n",
       "title_year                   108\n",
       "actor_2_facebook_likes        13\n",
       "imdb_score                     0\n",
       "aspect_ratio                 329\n",
       "movie_facebook_likes           0\n",
       "dtype: int64"
      ]
     },
     "execution_count": 1170,
     "metadata": {},
     "output_type": "execute_result"
    }
   ],
   "source": [
    "# Identifying data quality issues: Many missing values.\n",
    "\n",
    "df.isnull().sum()"
   ]
  },
  {
   "cell_type": "code",
   "execution_count": 1171,
   "metadata": {
    "slideshow": {
     "slide_type": "skip"
    }
   },
   "outputs": [
    {
     "data": {
      "image/png": "[encoded data removed]",
      "text/plain": [
       "<Figure size 432x288 with 1 Axes>"
      ]
     },
     "metadata": {
      "needs_background": "light"
     },
     "output_type": "display_data"
    }
   ],
   "source": [
    "# visualize missing data\n",
    "\n",
    "sns.heatmap(df.isnull(), cbar=False);"
   ]
  },
  {
   "cell_type": "code",
   "execution_count": 1172,
   "metadata": {
    "slideshow": {
     "slide_type": "subslide"
    }
   },
   "outputs": [
    {
     "data": {
      "text/plain": [
       "color                        0\n",
       "director_name                0\n",
       "num_critic_for_reviews       0\n",
       "duration                     0\n",
       "director_facebook_likes      0\n",
       "actor_3_facebook_likes       0\n",
       "actor_2_name                 0\n",
       "actor_1_facebook_likes       0\n",
       "gross                        0\n",
       "genres                       0\n",
       "actor_1_name                 0\n",
       "movie_title                  0\n",
       "num_voted_users              0\n",
       "cast_total_facebook_likes    0\n",
       "actor_3_name                 0\n",
       "facenumber_in_poster         0\n",
       "plot_keywords                0\n",
       "movie_imdb_link              0\n",
       "num_user_for_reviews         0\n",
       "language                     0\n",
       "country                      0\n",
       "content_rating               0\n",
       "budget                       0\n",
       "title_year                   0\n",
       "actor_2_facebook_likes       0\n",
       "imdb_score                   0\n",
       "aspect_ratio                 0\n",
       "movie_facebook_likes         0\n",
       "dtype: int64"
      ]
     },
     "execution_count": 1172,
     "metadata": {},
     "output_type": "execute_result"
    }
   ],
   "source": [
    "# Fixing data quality issues by removing rows with missing information\n",
    "\n",
    "df = df.dropna()\n",
    "df.isnull().sum()"
   ]
  },
  {
   "cell_type": "code",
   "execution_count": 1173,
   "metadata": {
    "slideshow": {
     "slide_type": "subslide"
    }
   },
   "outputs": [
    {
     "data": {
      "text/plain": [
       "33"
      ]
     },
     "execution_count": 1173,
     "metadata": {},
     "output_type": "execute_result"
    }
   ],
   "source": [
    "# Duplicate rows\n",
    "\n",
    "df.duplicated().sum()"
   ]
  },
  {
   "cell_type": "markdown",
   "metadata": {
    "slideshow": {
     "slide_type": "subslide"
    }
   },
   "source": [
    "#### we will need to remove these duplicate rows"
   ]
  },
  {
   "cell_type": "code",
   "execution_count": 1174,
   "metadata": {
    "slideshow": {
     "slide_type": "subslide"
    }
   },
   "outputs": [],
   "source": [
    "df.drop_duplicates(keep = 'first', inplace = True)"
   ]
  },
  {
   "cell_type": "code",
   "execution_count": 1175,
   "metadata": {
    "slideshow": {
     "slide_type": "subslide"
    }
   },
   "outputs": [
    {
     "data": {
      "text/plain": [
       "0"
      ]
     },
     "execution_count": 1175,
     "metadata": {},
     "output_type": "execute_result"
    }
   ],
   "source": [
    "df.duplicated().sum()"
   ]
  },
  {
   "cell_type": "markdown",
   "metadata": {
    "slideshow": {
     "slide_type": "slide"
    }
   },
   "source": [
    "### Checking columns for data quality issues"
   ]
  },
  {
   "cell_type": "code",
   "execution_count": 1176,
   "metadata": {
    "slideshow": {
     "slide_type": "skip"
    }
   },
   "outputs": [
    {
     "data": {
      "text/plain": [
       "genres\n",
       "Comedy|Horror|Musical                        1\n",
       "Adventure|Biography|Drama|War                1\n",
       "Comedy|Drama|Family|Fantasy|Sci-Fi           1\n",
       "Adventure|Biography|Drama|Horror|Thriller    1\n",
       "Comedy|Drama|Family|Musical                  1\n",
       "dtype: int64"
      ]
     },
     "execution_count": 1176,
     "metadata": {},
     "output_type": "execute_result"
    }
   ],
   "source": [
    "df.groupby('genres').size().sort_values().head()"
   ]
  },
  {
   "cell_type": "code",
   "execution_count": 1177,
   "metadata": {
    "slideshow": {
     "slide_type": "subslide"
    }
   },
   "outputs": [
    {
     "data": {
      "text/plain": [
       "country\n",
       "Afghanistan      1\n",
       "Poland           1\n",
       "Peru             1\n",
       "Official site    1\n",
       "New Line         1\n",
       "Israel           1\n",
       "Indonesia        1\n",
       "Iceland          1\n",
       "Greece           1\n",
       "Georgia          1\n",
       "dtype: int64"
      ]
     },
     "execution_count": 1177,
     "metadata": {},
     "output_type": "execute_result"
    }
   ],
   "source": [
    "df.groupby('country').size().sort_values().head(10)"
   ]
  },
  {
   "cell_type": "markdown",
   "metadata": {
    "slideshow": {
     "slide_type": "subslide"
    }
   },
   "source": [
    "#### Found data inaccuracy here: \"Official site\" and \"New Line\" are not countries"
   ]
  },
  {
   "cell_type": "code",
   "execution_count": 1178,
   "metadata": {
    "slideshow": {
     "slide_type": "skip"
    }
   },
   "outputs": [
    {
     "data": {
      "text/plain": [
       "language\n",
       "Zulu         1\n",
       "Arabic       1\n",
       "Aramaic      1\n",
       "Bosnian      1\n",
       "Russian      1\n",
       "Czech        1\n",
       "Romanian     1\n",
       "None         1\n",
       "Mongolian    1\n",
       "Maya         1\n",
       "dtype: int64"
      ]
     },
     "execution_count": 1178,
     "metadata": {},
     "output_type": "execute_result"
    }
   ],
   "source": [
    "df.groupby('language').size().sort_values().head(10)"
   ]
  },
  {
   "cell_type": "code",
   "execution_count": 1179,
   "metadata": {
    "slideshow": {
     "slide_type": "subslide"
    }
   },
   "outputs": [
    {
     "data": {
      "text/plain": [
       "content_rating\n",
       "GP         1\n",
       "M          2\n",
       "Passed     3\n",
       "NC-17      6\n",
       "X         10\n",
       "dtype: int64"
      ]
     },
     "execution_count": 1179,
     "metadata": {},
     "output_type": "execute_result"
    }
   ],
   "source": [
    "df.groupby('content_rating').size().sort_values().head()"
   ]
  },
  {
   "cell_type": "code",
   "execution_count": 1180,
   "metadata": {
    "slideshow": {
     "slide_type": "skip"
    }
   },
   "outputs": [
    {
     "data": {
      "text/plain": [
       "Steven Spielberg    25\n",
       "Woody Allen         19\n",
       "Clint Eastwood      19\n",
       "Ridley Scott        17\n",
       "Tim Burton          16\n",
       "Name: director_name, dtype: int64"
      ]
     },
     "execution_count": 1180,
     "metadata": {},
     "output_type": "execute_result"
    }
   ],
   "source": [
    "# Identifying value counts of important columns\n",
    "\n",
    "df['director_name'].value_counts().head()"
   ]
  },
  {
   "cell_type": "code",
   "execution_count": 1181,
   "metadata": {
    "slideshow": {
     "slide_type": "skip"
    }
   },
   "outputs": [
    {
     "data": {
      "text/plain": [
       "Comedy|Drama|Romance    147\n",
       "Drama                   140\n",
       "Comedy|Drama            137\n",
       "Comedy                  137\n",
       "Comedy|Romance          131\n",
       "Name: genres, dtype: int64"
      ]
     },
     "execution_count": 1181,
     "metadata": {},
     "output_type": "execute_result"
    }
   ],
   "source": [
    "df['genres'].value_counts().head()"
   ]
  },
  {
   "cell_type": "code",
   "execution_count": 1182,
   "metadata": {
    "slideshow": {
     "slide_type": "skip"
    }
   },
   "outputs": [
    {
     "data": {
      "text/plain": [
       "20000000.0    155\n",
       "30000000.0    133\n",
       "15000000.0    130\n",
       "40000000.0    129\n",
       "25000000.0    124\n",
       "Name: budget, dtype: int64"
      ]
     },
     "execution_count": 1182,
     "metadata": {},
     "output_type": "execute_result"
    }
   ],
   "source": [
    "df['budget'].value_counts().head()"
   ]
  },
  {
   "cell_type": "code",
   "execution_count": 1183,
   "metadata": {
    "slideshow": {
     "slide_type": "subslide"
    }
   },
   "outputs": [
    {
     "data": {
      "text/plain": [
       "USA        2961\n",
       "UK          313\n",
       "France      101\n",
       "Germany      79\n",
       "Canada       59\n",
       "Name: country, dtype: int64"
      ]
     },
     "execution_count": 1183,
     "metadata": {},
     "output_type": "execute_result"
    }
   ],
   "source": [
    "df['country'].value_counts().head()"
   ]
  },
  {
   "cell_type": "code",
   "execution_count": 1184,
   "metadata": {
    "slideshow": {
     "slide_type": "skip"
    }
   },
   "outputs": [
    {
     "data": {
      "text/plain": [
       "animal name in title|ape abducts a woman|gorilla|island|king kong                    3\n",
       "alien friendship|alien invasion|australia|flying car|mother daughter relationship    3\n",
       "fire|jungle|remake|tiger|wolf                                                        2\n",
       "outcast|prom|self injury|telekinesis|tragic event                                    2\n",
       "sandman|spider man|symbiote|venom|villain                                            2\n",
       "Name: plot_keywords, dtype: int64"
      ]
     },
     "execution_count": 1184,
     "metadata": {},
     "output_type": "execute_result"
    }
   ],
   "source": [
    "df['plot_keywords'].value_counts().head()"
   ]
  },
  {
   "cell_type": "code",
   "execution_count": 1185,
   "metadata": {
    "slideshow": {
     "slide_type": "skip"
    }
   },
   "outputs": [
    {
     "data": {
      "text/html": [
       "<div>\n",
       "<style scoped>\n",
       "    .dataframe tbody tr th:only-of-type {\n",
       "        vertical-align: middle;\n",
       "    }\n",
       "\n",
       "    .dataframe tbody tr th {\n",
       "        vertical-align: top;\n",
       "    }\n",
       "\n",
       "    .dataframe thead th {\n",
       "        text-align: right;\n",
       "    }\n",
       "</style>\n",
       "<table border=\"1\" class=\"dataframe\">\n",
       "  <thead>\n",
       "    <tr style=\"text-align: right;\">\n",
       "      <th></th>\n",
       "      <th>num_critic_for_reviews</th>\n",
       "      <th>duration</th>\n",
       "      <th>director_facebook_likes</th>\n",
       "      <th>actor_3_facebook_likes</th>\n",
       "      <th>actor_1_facebook_likes</th>\n",
       "      <th>gross</th>\n",
       "      <th>num_voted_users</th>\n",
       "      <th>cast_total_facebook_likes</th>\n",
       "      <th>facenumber_in_poster</th>\n",
       "      <th>num_user_for_reviews</th>\n",
       "      <th>budget</th>\n",
       "      <th>title_year</th>\n",
       "      <th>actor_2_facebook_likes</th>\n",
       "      <th>imdb_score</th>\n",
       "      <th>aspect_ratio</th>\n",
       "      <th>movie_facebook_likes</th>\n",
       "    </tr>\n",
       "  </thead>\n",
       "  <tbody>\n",
       "    <tr>\n",
       "      <th>count</th>\n",
       "      <td>3723.000000</td>\n",
       "      <td>3723.000000</td>\n",
       "      <td>3723.000000</td>\n",
       "      <td>3723.000000</td>\n",
       "      <td>3723.000000</td>\n",
       "      <td>3.723000e+03</td>\n",
       "      <td>3.723000e+03</td>\n",
       "      <td>3723.000000</td>\n",
       "      <td>3723.000000</td>\n",
       "      <td>3723.000000</td>\n",
       "      <td>3.723000e+03</td>\n",
       "      <td>3723.000000</td>\n",
       "      <td>3723.000000</td>\n",
       "      <td>3723.000000</td>\n",
       "      <td>3723.000000</td>\n",
       "      <td>3723.000000</td>\n",
       "    </tr>\n",
       "    <tr>\n",
       "      <th>mean</th>\n",
       "      <td>167.040559</td>\n",
       "      <td>110.263497</td>\n",
       "      <td>809.864357</td>\n",
       "      <td>765.010207</td>\n",
       "      <td>7743.335751</td>\n",
       "      <td>5.248034e+07</td>\n",
       "      <td>1.055543e+05</td>\n",
       "      <td>11494.966694</td>\n",
       "      <td>1.376041</td>\n",
       "      <td>335.897663</td>\n",
       "      <td>4.623049e+07</td>\n",
       "      <td>2002.965351</td>\n",
       "      <td>2009.926403</td>\n",
       "      <td>6.465673</td>\n",
       "      <td>2.110682</td>\n",
       "      <td>9299.497717</td>\n",
       "    </tr>\n",
       "    <tr>\n",
       "      <th>std</th>\n",
       "      <td>123.345135</td>\n",
       "      <td>22.678325</td>\n",
       "      <td>3076.624412</td>\n",
       "      <td>1868.841589</td>\n",
       "      <td>15557.953218</td>\n",
       "      <td>6.980333e+07</td>\n",
       "      <td>1.515651e+05</td>\n",
       "      <td>19113.274232</td>\n",
       "      <td>2.045134</td>\n",
       "      <td>411.078619</td>\n",
       "      <td>2.269511e+08</td>\n",
       "      <td>9.892253</td>\n",
       "      <td>4531.151446</td>\n",
       "      <td>1.053644</td>\n",
       "      <td>0.353879</td>\n",
       "      <td>21426.654643</td>\n",
       "    </tr>\n",
       "    <tr>\n",
       "      <th>min</th>\n",
       "      <td>2.000000</td>\n",
       "      <td>37.000000</td>\n",
       "      <td>0.000000</td>\n",
       "      <td>0.000000</td>\n",
       "      <td>0.000000</td>\n",
       "      <td>1.620000e+02</td>\n",
       "      <td>9.100000e+01</td>\n",
       "      <td>0.000000</td>\n",
       "      <td>0.000000</td>\n",
       "      <td>4.000000</td>\n",
       "      <td>2.180000e+02</td>\n",
       "      <td>1927.000000</td>\n",
       "      <td>0.000000</td>\n",
       "      <td>1.600000</td>\n",
       "      <td>1.180000</td>\n",
       "      <td>0.000000</td>\n",
       "    </tr>\n",
       "    <tr>\n",
       "      <th>25%</th>\n",
       "      <td>77.000000</td>\n",
       "      <td>96.000000</td>\n",
       "      <td>11.000000</td>\n",
       "      <td>194.000000</td>\n",
       "      <td>744.500000</td>\n",
       "      <td>8.124330e+06</td>\n",
       "      <td>1.959850e+04</td>\n",
       "      <td>1907.000000</td>\n",
       "      <td>0.000000</td>\n",
       "      <td>109.000000</td>\n",
       "      <td>1.000000e+07</td>\n",
       "      <td>1999.000000</td>\n",
       "      <td>383.500000</td>\n",
       "      <td>5.900000</td>\n",
       "      <td>1.850000</td>\n",
       "      <td>0.000000</td>\n",
       "    </tr>\n",
       "    <tr>\n",
       "      <th>50%</th>\n",
       "      <td>138.000000</td>\n",
       "      <td>106.000000</td>\n",
       "      <td>63.000000</td>\n",
       "      <td>436.000000</td>\n",
       "      <td>1000.000000</td>\n",
       "      <td>3.005003e+07</td>\n",
       "      <td>5.397700e+04</td>\n",
       "      <td>4050.000000</td>\n",
       "      <td>1.000000</td>\n",
       "      <td>209.000000</td>\n",
       "      <td>2.500000e+07</td>\n",
       "      <td>2004.000000</td>\n",
       "      <td>683.000000</td>\n",
       "      <td>6.600000</td>\n",
       "      <td>2.350000</td>\n",
       "      <td>226.000000</td>\n",
       "    </tr>\n",
       "    <tr>\n",
       "      <th>75%</th>\n",
       "      <td>224.000000</td>\n",
       "      <td>120.000000</td>\n",
       "      <td>235.000000</td>\n",
       "      <td>690.000000</td>\n",
       "      <td>13000.000000</td>\n",
       "      <td>6.690181e+07</td>\n",
       "      <td>1.285240e+05</td>\n",
       "      <td>16232.500000</td>\n",
       "      <td>2.000000</td>\n",
       "      <td>398.000000</td>\n",
       "      <td>5.000000e+07</td>\n",
       "      <td>2010.000000</td>\n",
       "      <td>975.000000</td>\n",
       "      <td>7.200000</td>\n",
       "      <td>2.350000</td>\n",
       "      <td>11000.000000</td>\n",
       "    </tr>\n",
       "    <tr>\n",
       "      <th>max</th>\n",
       "      <td>813.000000</td>\n",
       "      <td>330.000000</td>\n",
       "      <td>23000.000000</td>\n",
       "      <td>23000.000000</td>\n",
       "      <td>640000.000000</td>\n",
       "      <td>7.605058e+08</td>\n",
       "      <td>1.689764e+06</td>\n",
       "      <td>656730.000000</td>\n",
       "      <td>43.000000</td>\n",
       "      <td>5060.000000</td>\n",
       "      <td>1.221550e+10</td>\n",
       "      <td>2016.000000</td>\n",
       "      <td>137000.000000</td>\n",
       "      <td>9.300000</td>\n",
       "      <td>16.000000</td>\n",
       "      <td>349000.000000</td>\n",
       "    </tr>\n",
       "  </tbody>\n",
       "</table>\n",
       "</div>"
      ],
      "text/plain": [
       "       num_critic_for_reviews     duration  director_facebook_likes  \\\n",
       "count             3723.000000  3723.000000              3723.000000   \n",
       "mean               167.040559   110.263497               809.864357   \n",
       "std                123.345135    22.678325              3076.624412   \n",
       "min                  2.000000    37.000000                 0.000000   \n",
       "25%                 77.000000    96.000000                11.000000   \n",
       "50%                138.000000   106.000000                63.000000   \n",
       "75%                224.000000   120.000000               235.000000   \n",
       "max                813.000000   330.000000             23000.000000   \n",
       "\n",
       "       actor_3_facebook_likes  actor_1_facebook_likes         gross  \\\n",
       "count             3723.000000             3723.000000  3.723000e+03   \n",
       "mean               765.010207             7743.335751  5.248034e+07   \n",
       "std               1868.841589            15557.953218  6.980333e+07   \n",
       "min                  0.000000                0.000000  1.620000e+02   \n",
       "25%                194.000000              744.500000  8.124330e+06   \n",
       "50%                436.000000             1000.000000  3.005003e+07   \n",
       "75%                690.000000            13000.000000  6.690181e+07   \n",
       "max              23000.000000           640000.000000  7.605058e+08   \n",
       "\n",
       "       num_voted_users  cast_total_facebook_likes  facenumber_in_poster  \\\n",
       "count     3.723000e+03                3723.000000           3723.000000   \n",
       "mean      1.055543e+05               11494.966694              1.376041   \n",
       "std       1.515651e+05               19113.274232              2.045134   \n",
       "min       9.100000e+01                   0.000000              0.000000   \n",
       "25%       1.959850e+04                1907.000000              0.000000   \n",
       "50%       5.397700e+04                4050.000000              1.000000   \n",
       "75%       1.285240e+05               16232.500000              2.000000   \n",
       "max       1.689764e+06              656730.000000             43.000000   \n",
       "\n",
       "       num_user_for_reviews        budget   title_year  \\\n",
       "count           3723.000000  3.723000e+03  3723.000000   \n",
       "mean             335.897663  4.623049e+07  2002.965351   \n",
       "std              411.078619  2.269511e+08     9.892253   \n",
       "min                4.000000  2.180000e+02  1927.000000   \n",
       "25%              109.000000  1.000000e+07  1999.000000   \n",
       "50%              209.000000  2.500000e+07  2004.000000   \n",
       "75%              398.000000  5.000000e+07  2010.000000   \n",
       "max             5060.000000  1.221550e+10  2016.000000   \n",
       "\n",
       "       actor_2_facebook_likes   imdb_score  aspect_ratio  movie_facebook_likes  \n",
       "count             3723.000000  3723.000000   3723.000000           3723.000000  \n",
       "mean              2009.926403     6.465673      2.110682           9299.497717  \n",
       "std               4531.151446     1.053644      0.353879          21426.654643  \n",
       "min                  0.000000     1.600000      1.180000              0.000000  \n",
       "25%                383.500000     5.900000      1.850000              0.000000  \n",
       "50%                683.000000     6.600000      2.350000            226.000000  \n",
       "75%                975.000000     7.200000      2.350000          11000.000000  \n",
       "max             137000.000000     9.300000     16.000000         349000.000000  "
      ]
     },
     "execution_count": 1185,
     "metadata": {},
     "output_type": "execute_result"
    }
   ],
   "source": [
    "df.describe()"
   ]
  },
  {
   "cell_type": "markdown",
   "metadata": {
    "slideshow": {
     "slide_type": "slide"
    }
   },
   "source": [
    "# 3. Data Preparation"
   ]
  },
  {
   "cell_type": "code",
   "execution_count": 1186,
   "metadata": {
    "slideshow": {
     "slide_type": "skip"
    }
   },
   "outputs": [
    {
     "name": "stdout",
     "output_type": "stream",
     "text": [
      "<class 'pandas.core.frame.DataFrame'>\n",
      "Int64Index: 3723 entries, 0 to 5042\n",
      "Data columns (total 28 columns):\n",
      "color                        3723 non-null object\n",
      "director_name                3723 non-null object\n",
      "num_critic_for_reviews       3723 non-null float64\n",
      "duration                     3723 non-null float64\n",
      "director_facebook_likes      3723 non-null float64\n",
      "actor_3_facebook_likes       3723 non-null float64\n",
      "actor_2_name                 3723 non-null object\n",
      "actor_1_facebook_likes       3723 non-null float64\n",
      "gross                        3723 non-null float64\n",
      "genres                       3723 non-null object\n",
      "actor_1_name                 3723 non-null object\n",
      "movie_title                  3723 non-null object\n",
      "num_voted_users              3723 non-null int64\n",
      "cast_total_facebook_likes    3723 non-null int64\n",
      "actor_3_name                 3723 non-null object\n",
      "facenumber_in_poster         3723 non-null float64\n",
      "plot_keywords                3723 non-null object\n",
      "movie_imdb_link              3723 non-null object\n",
      "num_user_for_reviews         3723 non-null float64\n",
      "language                     3723 non-null object\n",
      "country                      3723 non-null object\n",
      "content_rating               3723 non-null object\n",
      "budget                       3723 non-null float64\n",
      "title_year                   3723 non-null float64\n",
      "actor_2_facebook_likes       3723 non-null float64\n",
      "imdb_score                   3723 non-null float64\n",
      "aspect_ratio                 3723 non-null float64\n",
      "movie_facebook_likes         3723 non-null int64\n",
      "dtypes: float64(13), int64(3), object(12)\n",
      "memory usage: 843.5+ KB\n"
     ]
    }
   ],
   "source": [
    "df.info()"
   ]
  },
  {
   "cell_type": "code",
   "execution_count": 1187,
   "metadata": {
    "slideshow": {
     "slide_type": "subslide"
    }
   },
   "outputs": [
    {
     "name": "stdout",
     "output_type": "stream",
     "text": [
      "<class 'pandas.core.frame.DataFrame'>\n",
      "Int64Index: 3723 entries, 0 to 5042\n",
      "Data columns (total 25 columns):\n",
      "color                        3723 non-null object\n",
      "director_name                3723 non-null object\n",
      "num_critic_for_reviews       3723 non-null float64\n",
      "duration                     3723 non-null float64\n",
      "director_facebook_likes      3723 non-null float64\n",
      "actor_3_facebook_likes       3723 non-null float64\n",
      "actor_2_name                 3723 non-null object\n",
      "actor_1_facebook_likes       3723 non-null float64\n",
      "gross                        3723 non-null float64\n",
      "genres                       3723 non-null object\n",
      "actor_1_name                 3723 non-null object\n",
      "movie_title                  3723 non-null object\n",
      "num_voted_users              3723 non-null int64\n",
      "cast_total_facebook_likes    3723 non-null int64\n",
      "actor_3_name                 3723 non-null object\n",
      "plot_keywords                3723 non-null object\n",
      "num_user_for_reviews         3723 non-null float64\n",
      "language                     3723 non-null object\n",
      "country                      3723 non-null object\n",
      "content_rating               3723 non-null object\n",
      "budget                       3723 non-null float64\n",
      "title_year                   3723 non-null float64\n",
      "actor_2_facebook_likes       3723 non-null float64\n",
      "imdb_score                   3723 non-null float64\n",
      "movie_facebook_likes         3723 non-null int64\n",
      "dtypes: float64(11), int64(3), object(11)\n",
      "memory usage: 756.2+ KB\n"
     ]
    }
   ],
   "source": [
    "# removing unnecessary variables\n",
    "\n",
    "df = df.drop(['aspect_ratio', 'movie_imdb_link', 'facenumber_in_poster'], axis=1)\n",
    "df.info()"
   ]
  },
  {
   "cell_type": "code",
   "execution_count": 1188,
   "metadata": {
    "slideshow": {
     "slide_type": "skip"
    }
   },
   "outputs": [
    {
     "name": "stdout",
     "output_type": "stream",
     "text": [
      "<class 'pandas.core.frame.DataFrame'>\n",
      "Int64Index: 3723 entries, 0 to 5042\n",
      "Data columns (total 25 columns):\n",
      "color                        3723 non-null object\n",
      "director_name                3723 non-null object\n",
      "num_critic_for_reviews       3723 non-null int64\n",
      "duration                     3723 non-null int64\n",
      "director_facebook_likes      3723 non-null int64\n",
      "actor_3_facebook_likes       3723 non-null int64\n",
      "actor_2_name                 3723 non-null object\n",
      "actor_1_facebook_likes       3723 non-null int64\n",
      "gross                        3723 non-null int64\n",
      "genres                       3723 non-null object\n",
      "actor_1_name                 3723 non-null object\n",
      "movie_title                  3723 non-null object\n",
      "num_voted_users              3723 non-null int64\n",
      "cast_total_facebook_likes    3723 non-null int64\n",
      "actor_3_name                 3723 non-null object\n",
      "plot_keywords                3723 non-null object\n",
      "num_user_for_reviews         3723 non-null int64\n",
      "language                     3723 non-null object\n",
      "country                      3723 non-null object\n",
      "content_rating               3723 non-null object\n",
      "budget                       3723 non-null int64\n",
      "title_year                   3723 non-null int64\n",
      "actor_2_facebook_likes       3723 non-null int64\n",
      "imdb_score                   3723 non-null float64\n",
      "movie_facebook_likes         3723 non-null int64\n",
      "dtypes: float64(1), int64(13), object(11)\n",
      "memory usage: 756.2+ KB\n"
     ]
    }
   ],
   "source": [
    "convert_dict = {'num_critic_for_reviews': 'int64', 'duration': 'int64', 'director_facebook_likes': 'int64', 'actor_3_facebook_likes': 'int64', 'actor_1_facebook_likes': 'int64', 'gross': 'int64', 'num_user_for_reviews': 'int64', 'budget': 'int64', 'title_year': 'int64', 'actor_2_facebook_likes': 'int64'} \n",
    "  \n",
    "df = df.astype(convert_dict)\n",
    "df.info()"
   ]
  },
  {
   "cell_type": "code",
   "execution_count": 1189,
   "metadata": {
    "slideshow": {
     "slide_type": "skip"
    }
   },
   "outputs": [
    {
     "data": {
      "text/html": [
       "<div>\n",
       "<style scoped>\n",
       "    .dataframe tbody tr th:only-of-type {\n",
       "        vertical-align: middle;\n",
       "    }\n",
       "\n",
       "    .dataframe tbody tr th {\n",
       "        vertical-align: top;\n",
       "    }\n",
       "\n",
       "    .dataframe thead th {\n",
       "        text-align: right;\n",
       "    }\n",
       "</style>\n",
       "<table border=\"1\" class=\"dataframe\">\n",
       "  <thead>\n",
       "    <tr style=\"text-align: right;\">\n",
       "      <th></th>\n",
       "      <th>color</th>\n",
       "      <th>director_name</th>\n",
       "      <th>num_critic_for_reviews</th>\n",
       "      <th>duration</th>\n",
       "      <th>director_facebook_likes</th>\n",
       "      <th>actor_3_facebook_likes</th>\n",
       "      <th>actor_2_name</th>\n",
       "      <th>actor_1_facebook_likes</th>\n",
       "      <th>gross</th>\n",
       "      <th>genres</th>\n",
       "      <th>...</th>\n",
       "      <th>plot_keywords</th>\n",
       "      <th>num_user_for_reviews</th>\n",
       "      <th>language</th>\n",
       "      <th>country</th>\n",
       "      <th>content_rating</th>\n",
       "      <th>budget</th>\n",
       "      <th>title_year</th>\n",
       "      <th>actor_2_facebook_likes</th>\n",
       "      <th>imdb_score</th>\n",
       "      <th>movie_facebook_likes</th>\n",
       "    </tr>\n",
       "  </thead>\n",
       "  <tbody>\n",
       "    <tr>\n",
       "      <th>0</th>\n",
       "      <td>Color</td>\n",
       "      <td>James Cameron</td>\n",
       "      <td>723</td>\n",
       "      <td>178</td>\n",
       "      <td>0</td>\n",
       "      <td>855</td>\n",
       "      <td>Joel David Moore</td>\n",
       "      <td>1000</td>\n",
       "      <td>760505847</td>\n",
       "      <td>Action|Adventure|Fantasy|Sci-Fi</td>\n",
       "      <td>...</td>\n",
       "      <td>avatar|future|marine|native|paraplegic</td>\n",
       "      <td>3054</td>\n",
       "      <td>English</td>\n",
       "      <td>USA</td>\n",
       "      <td>PG-13</td>\n",
       "      <td>237000000</td>\n",
       "      <td>2009</td>\n",
       "      <td>936</td>\n",
       "      <td>7.9</td>\n",
       "      <td>33000</td>\n",
       "    </tr>\n",
       "    <tr>\n",
       "      <th>1</th>\n",
       "      <td>Color</td>\n",
       "      <td>Gore Verbinski</td>\n",
       "      <td>302</td>\n",
       "      <td>169</td>\n",
       "      <td>563</td>\n",
       "      <td>1000</td>\n",
       "      <td>Orlando Bloom</td>\n",
       "      <td>40000</td>\n",
       "      <td>309404152</td>\n",
       "      <td>Action|Adventure|Fantasy</td>\n",
       "      <td>...</td>\n",
       "      <td>goddess|marriage ceremony|marriage proposal|pi...</td>\n",
       "      <td>1238</td>\n",
       "      <td>English</td>\n",
       "      <td>USA</td>\n",
       "      <td>PG-13</td>\n",
       "      <td>300000000</td>\n",
       "      <td>2007</td>\n",
       "      <td>5000</td>\n",
       "      <td>7.1</td>\n",
       "      <td>0</td>\n",
       "    </tr>\n",
       "    <tr>\n",
       "      <th>2</th>\n",
       "      <td>Color</td>\n",
       "      <td>Sam Mendes</td>\n",
       "      <td>602</td>\n",
       "      <td>148</td>\n",
       "      <td>0</td>\n",
       "      <td>161</td>\n",
       "      <td>Rory Kinnear</td>\n",
       "      <td>11000</td>\n",
       "      <td>200074175</td>\n",
       "      <td>Action|Adventure|Thriller</td>\n",
       "      <td>...</td>\n",
       "      <td>bomb|espionage|sequel|spy|terrorist</td>\n",
       "      <td>994</td>\n",
       "      <td>English</td>\n",
       "      <td>UK</td>\n",
       "      <td>PG-13</td>\n",
       "      <td>245000000</td>\n",
       "      <td>2015</td>\n",
       "      <td>393</td>\n",
       "      <td>6.8</td>\n",
       "      <td>85000</td>\n",
       "    </tr>\n",
       "    <tr>\n",
       "      <th>3</th>\n",
       "      <td>Color</td>\n",
       "      <td>Christopher Nolan</td>\n",
       "      <td>813</td>\n",
       "      <td>164</td>\n",
       "      <td>22000</td>\n",
       "      <td>23000</td>\n",
       "      <td>Christian Bale</td>\n",
       "      <td>27000</td>\n",
       "      <td>448130642</td>\n",
       "      <td>Action|Thriller</td>\n",
       "      <td>...</td>\n",
       "      <td>deception|imprisonment|lawlessness|police offi...</td>\n",
       "      <td>2701</td>\n",
       "      <td>English</td>\n",
       "      <td>USA</td>\n",
       "      <td>PG-13</td>\n",
       "      <td>250000000</td>\n",
       "      <td>2012</td>\n",
       "      <td>23000</td>\n",
       "      <td>8.5</td>\n",
       "      <td>164000</td>\n",
       "    </tr>\n",
       "    <tr>\n",
       "      <th>5</th>\n",
       "      <td>Color</td>\n",
       "      <td>Andrew Stanton</td>\n",
       "      <td>462</td>\n",
       "      <td>132</td>\n",
       "      <td>475</td>\n",
       "      <td>530</td>\n",
       "      <td>Samantha Morton</td>\n",
       "      <td>640</td>\n",
       "      <td>73058679</td>\n",
       "      <td>Action|Adventure|Sci-Fi</td>\n",
       "      <td>...</td>\n",
       "      <td>alien|american civil war|male nipple|mars|prin...</td>\n",
       "      <td>738</td>\n",
       "      <td>English</td>\n",
       "      <td>USA</td>\n",
       "      <td>PG-13</td>\n",
       "      <td>263700000</td>\n",
       "      <td>2012</td>\n",
       "      <td>632</td>\n",
       "      <td>6.6</td>\n",
       "      <td>24000</td>\n",
       "    </tr>\n",
       "  </tbody>\n",
       "</table>\n",
       "<p>5 rows × 25 columns</p>\n",
       "</div>"
      ],
      "text/plain": [
       "   color      director_name  num_critic_for_reviews  duration  \\\n",
       "0  Color      James Cameron                     723       178   \n",
       "1  Color     Gore Verbinski                     302       169   \n",
       "2  Color         Sam Mendes                     602       148   \n",
       "3  Color  Christopher Nolan                     813       164   \n",
       "5  Color     Andrew Stanton                     462       132   \n",
       "\n",
       "   director_facebook_likes  actor_3_facebook_likes      actor_2_name  \\\n",
       "0                        0                     855  Joel David Moore   \n",
       "1                      563                    1000     Orlando Bloom   \n",
       "2                        0                     161      Rory Kinnear   \n",
       "3                    22000                   23000    Christian Bale   \n",
       "5                      475                     530   Samantha Morton   \n",
       "\n",
       "   actor_1_facebook_likes      gross                           genres  ...  \\\n",
       "0                    1000  760505847  Action|Adventure|Fantasy|Sci-Fi  ...   \n",
       "1                   40000  309404152         Action|Adventure|Fantasy  ...   \n",
       "2                   11000  200074175        Action|Adventure|Thriller  ...   \n",
       "3                   27000  448130642                  Action|Thriller  ...   \n",
       "5                     640   73058679          Action|Adventure|Sci-Fi  ...   \n",
       "\n",
       "                                       plot_keywords num_user_for_reviews  \\\n",
       "0             avatar|future|marine|native|paraplegic                 3054   \n",
       "1  goddess|marriage ceremony|marriage proposal|pi...                 1238   \n",
       "2                bomb|espionage|sequel|spy|terrorist                  994   \n",
       "3  deception|imprisonment|lawlessness|police offi...                 2701   \n",
       "5  alien|american civil war|male nipple|mars|prin...                  738   \n",
       "\n",
       "   language  country content_rating     budget  title_year  \\\n",
       "0   English      USA          PG-13  237000000        2009   \n",
       "1   English      USA          PG-13  300000000        2007   \n",
       "2   English       UK          PG-13  245000000        2015   \n",
       "3   English      USA          PG-13  250000000        2012   \n",
       "5   English      USA          PG-13  263700000        2012   \n",
       "\n",
       "  actor_2_facebook_likes imdb_score movie_facebook_likes  \n",
       "0                    936        7.9                33000  \n",
       "1                   5000        7.1                    0  \n",
       "2                    393        6.8                85000  \n",
       "3                  23000        8.5               164000  \n",
       "5                    632        6.6                24000  \n",
       "\n",
       "[5 rows x 25 columns]"
      ]
     },
     "execution_count": 1189,
     "metadata": {},
     "output_type": "execute_result"
    }
   ],
   "source": [
    "df.head()"
   ]
  },
  {
   "cell_type": "markdown",
   "metadata": {
    "slideshow": {
     "slide_type": "subslide"
    }
   },
   "source": [
    "#### Converting these floats to integers was important because if looking at the title_year column we had values such as 2009.0 this was unnecessary and somewhat confusing when looking at. In changing these values we made the data set a little easier to read."
   ]
  },
  {
   "cell_type": "code",
   "execution_count": 1190,
   "metadata": {
    "slideshow": {
     "slide_type": "subslide"
    }
   },
   "outputs": [],
   "source": [
    "# Fixing data quality issues found earlier\n",
    "\n",
    "df = df.replace('New Line', np.nan)\n",
    "df = df.replace('Official site', np.nan)"
   ]
  },
  {
   "cell_type": "code",
   "execution_count": 1191,
   "metadata": {
    "slideshow": {
     "slide_type": "skip"
    }
   },
   "outputs": [],
   "source": [
    "df = df.dropna()"
   ]
  },
  {
   "cell_type": "code",
   "execution_count": 1192,
   "metadata": {
    "slideshow": {
     "slide_type": "subslide"
    }
   },
   "outputs": [
    {
     "data": {
      "text/html": [
       "<div>\n",
       "<style scoped>\n",
       "    .dataframe tbody tr th:only-of-type {\n",
       "        vertical-align: middle;\n",
       "    }\n",
       "\n",
       "    .dataframe tbody tr th {\n",
       "        vertical-align: top;\n",
       "    }\n",
       "\n",
       "    .dataframe thead th {\n",
       "        text-align: right;\n",
       "    }\n",
       "</style>\n",
       "<table border=\"1\" class=\"dataframe\">\n",
       "  <thead>\n",
       "    <tr style=\"text-align: right;\">\n",
       "      <th></th>\n",
       "      <th>num_critic_for_reviews</th>\n",
       "      <th>duration</th>\n",
       "      <th>director_facebook_likes</th>\n",
       "      <th>actor_3_facebook_likes</th>\n",
       "      <th>actor_1_facebook_likes</th>\n",
       "      <th>gross</th>\n",
       "      <th>num_voted_users</th>\n",
       "      <th>cast_total_facebook_likes</th>\n",
       "      <th>num_user_for_reviews</th>\n",
       "      <th>budget</th>\n",
       "      <th>title_year</th>\n",
       "      <th>actor_2_facebook_likes</th>\n",
       "      <th>imdb_score</th>\n",
       "      <th>movie_facebook_likes</th>\n",
       "    </tr>\n",
       "  </thead>\n",
       "  <tbody>\n",
       "    <tr>\n",
       "      <th>num_critic_for_reviews</th>\n",
       "      <td>1.000000</td>\n",
       "      <td>0.227606</td>\n",
       "      <td>0.175661</td>\n",
       "      <td>0.245435</td>\n",
       "      <td>0.165548</td>\n",
       "      <td>0.460703</td>\n",
       "      <td>0.591518</td>\n",
       "      <td>0.233689</td>\n",
       "      <td>0.562530</td>\n",
       "      <td>0.103967</td>\n",
       "      <td>0.420263</td>\n",
       "      <td>0.251061</td>\n",
       "      <td>0.349584</td>\n",
       "      <td>0.703561</td>\n",
       "    </tr>\n",
       "    <tr>\n",
       "      <th>duration</th>\n",
       "      <td>0.227606</td>\n",
       "      <td>1.000000</td>\n",
       "      <td>0.180406</td>\n",
       "      <td>0.120785</td>\n",
       "      <td>0.082898</td>\n",
       "      <td>0.242625</td>\n",
       "      <td>0.338995</td>\n",
       "      <td>0.117742</td>\n",
       "      <td>0.352120</td>\n",
       "      <td>0.067407</td>\n",
       "      <td>-0.131773</td>\n",
       "      <td>0.126659</td>\n",
       "      <td>0.367454</td>\n",
       "      <td>0.212995</td>\n",
       "    </tr>\n",
       "    <tr>\n",
       "      <th>director_facebook_likes</th>\n",
       "      <td>0.175661</td>\n",
       "      <td>0.180406</td>\n",
       "      <td>1.000000</td>\n",
       "      <td>0.120569</td>\n",
       "      <td>0.090420</td>\n",
       "      <td>0.139667</td>\n",
       "      <td>0.302716</td>\n",
       "      <td>0.120027</td>\n",
       "      <td>0.218820</td>\n",
       "      <td>0.018110</td>\n",
       "      <td>-0.045687</td>\n",
       "      <td>0.117821</td>\n",
       "      <td>0.193083</td>\n",
       "      <td>0.162592</td>\n",
       "    </tr>\n",
       "    <tr>\n",
       "      <th>actor_3_facebook_likes</th>\n",
       "      <td>0.245435</td>\n",
       "      <td>0.120785</td>\n",
       "      <td>0.120569</td>\n",
       "      <td>1.000000</td>\n",
       "      <td>0.252436</td>\n",
       "      <td>0.281227</td>\n",
       "      <td>0.257618</td>\n",
       "      <td>0.485592</td>\n",
       "      <td>0.200465</td>\n",
       "      <td>0.038206</td>\n",
       "      <td>0.116515</td>\n",
       "      <td>0.550324</td>\n",
       "      <td>0.064164</td>\n",
       "      <td>0.259907</td>\n",
       "    </tr>\n",
       "    <tr>\n",
       "      <th>actor_1_facebook_likes</th>\n",
       "      <td>0.165548</td>\n",
       "      <td>0.082898</td>\n",
       "      <td>0.090420</td>\n",
       "      <td>0.252436</td>\n",
       "      <td>1.000000</td>\n",
       "      <td>0.142478</td>\n",
       "      <td>0.177906</td>\n",
       "      <td>0.946071</td>\n",
       "      <td>0.121291</td>\n",
       "      <td>0.016039</td>\n",
       "      <td>0.096042</td>\n",
       "      <td>0.390375</td>\n",
       "      <td>0.092729</td>\n",
       "      <td>0.128728</td>\n",
       "    </tr>\n",
       "    <tr>\n",
       "      <th>gross</th>\n",
       "      <td>0.460703</td>\n",
       "      <td>0.242625</td>\n",
       "      <td>0.139667</td>\n",
       "      <td>0.281227</td>\n",
       "      <td>0.142478</td>\n",
       "      <td>1.000000</td>\n",
       "      <td>0.622643</td>\n",
       "      <td>0.227861</td>\n",
       "      <td>0.545578</td>\n",
       "      <td>0.098344</td>\n",
       "      <td>0.053225</td>\n",
       "      <td>0.243913</td>\n",
       "      <td>0.215275</td>\n",
       "      <td>0.358549</td>\n",
       "    </tr>\n",
       "    <tr>\n",
       "      <th>num_voted_users</th>\n",
       "      <td>0.591518</td>\n",
       "      <td>0.338995</td>\n",
       "      <td>0.302716</td>\n",
       "      <td>0.257618</td>\n",
       "      <td>0.177906</td>\n",
       "      <td>0.622643</td>\n",
       "      <td>1.000000</td>\n",
       "      <td>0.243732</td>\n",
       "      <td>0.779149</td>\n",
       "      <td>0.065418</td>\n",
       "      <td>0.023571</td>\n",
       "      <td>0.239055</td>\n",
       "      <td>0.482508</td>\n",
       "      <td>0.514789</td>\n",
       "    </tr>\n",
       "    <tr>\n",
       "      <th>cast_total_facebook_likes</th>\n",
       "      <td>0.233689</td>\n",
       "      <td>0.117742</td>\n",
       "      <td>0.120027</td>\n",
       "      <td>0.485592</td>\n",
       "      <td>0.946071</td>\n",
       "      <td>0.227861</td>\n",
       "      <td>0.243732</td>\n",
       "      <td>1.000000</td>\n",
       "      <td>0.176128</td>\n",
       "      <td>0.027680</td>\n",
       "      <td>0.126715</td>\n",
       "      <td>0.640344</td>\n",
       "      <td>0.105209</td>\n",
       "      <td>0.199918</td>\n",
       "    </tr>\n",
       "    <tr>\n",
       "      <th>num_user_for_reviews</th>\n",
       "      <td>0.562530</td>\n",
       "      <td>0.352120</td>\n",
       "      <td>0.218820</td>\n",
       "      <td>0.200465</td>\n",
       "      <td>0.121291</td>\n",
       "      <td>0.545578</td>\n",
       "      <td>0.779149</td>\n",
       "      <td>0.176128</td>\n",
       "      <td>1.000000</td>\n",
       "      <td>0.070289</td>\n",
       "      <td>0.020133</td>\n",
       "      <td>0.184632</td>\n",
       "      <td>0.324884</td>\n",
       "      <td>0.368493</td>\n",
       "    </tr>\n",
       "    <tr>\n",
       "      <th>budget</th>\n",
       "      <td>0.103967</td>\n",
       "      <td>0.067407</td>\n",
       "      <td>0.018110</td>\n",
       "      <td>0.038206</td>\n",
       "      <td>0.016039</td>\n",
       "      <td>0.098344</td>\n",
       "      <td>0.065418</td>\n",
       "      <td>0.027680</td>\n",
       "      <td>0.070289</td>\n",
       "      <td>1.000000</td>\n",
       "      <td>0.046380</td>\n",
       "      <td>0.034696</td>\n",
       "      <td>0.029574</td>\n",
       "      <td>0.051069</td>\n",
       "    </tr>\n",
       "    <tr>\n",
       "      <th>title_year</th>\n",
       "      <td>0.420263</td>\n",
       "      <td>-0.131773</td>\n",
       "      <td>-0.045687</td>\n",
       "      <td>0.116515</td>\n",
       "      <td>0.096042</td>\n",
       "      <td>0.053225</td>\n",
       "      <td>0.023571</td>\n",
       "      <td>0.126715</td>\n",
       "      <td>0.020133</td>\n",
       "      <td>0.046380</td>\n",
       "      <td>1.000000</td>\n",
       "      <td>0.123103</td>\n",
       "      <td>-0.132427</td>\n",
       "      <td>0.305618</td>\n",
       "    </tr>\n",
       "    <tr>\n",
       "      <th>actor_2_facebook_likes</th>\n",
       "      <td>0.251061</td>\n",
       "      <td>0.126659</td>\n",
       "      <td>0.117821</td>\n",
       "      <td>0.550324</td>\n",
       "      <td>0.390375</td>\n",
       "      <td>0.243913</td>\n",
       "      <td>0.239055</td>\n",
       "      <td>0.640344</td>\n",
       "      <td>0.184632</td>\n",
       "      <td>0.034696</td>\n",
       "      <td>0.123103</td>\n",
       "      <td>1.000000</td>\n",
       "      <td>0.100172</td>\n",
       "      <td>0.226869</td>\n",
       "    </tr>\n",
       "    <tr>\n",
       "      <th>imdb_score</th>\n",
       "      <td>0.349584</td>\n",
       "      <td>0.367454</td>\n",
       "      <td>0.193083</td>\n",
       "      <td>0.064164</td>\n",
       "      <td>0.092729</td>\n",
       "      <td>0.215275</td>\n",
       "      <td>0.482508</td>\n",
       "      <td>0.105209</td>\n",
       "      <td>0.324884</td>\n",
       "      <td>0.029574</td>\n",
       "      <td>-0.132427</td>\n",
       "      <td>0.100172</td>\n",
       "      <td>1.000000</td>\n",
       "      <td>0.283950</td>\n",
       "    </tr>\n",
       "    <tr>\n",
       "      <th>movie_facebook_likes</th>\n",
       "      <td>0.703561</td>\n",
       "      <td>0.212995</td>\n",
       "      <td>0.162592</td>\n",
       "      <td>0.259907</td>\n",
       "      <td>0.128728</td>\n",
       "      <td>0.358549</td>\n",
       "      <td>0.514789</td>\n",
       "      <td>0.199918</td>\n",
       "      <td>0.368493</td>\n",
       "      <td>0.051069</td>\n",
       "      <td>0.305618</td>\n",
       "      <td>0.226869</td>\n",
       "      <td>0.283950</td>\n",
       "      <td>1.000000</td>\n",
       "    </tr>\n",
       "  </tbody>\n",
       "</table>\n",
       "</div>"
      ],
      "text/plain": [
       "                           num_critic_for_reviews  duration  \\\n",
       "num_critic_for_reviews                   1.000000  0.227606   \n",
       "duration                                 0.227606  1.000000   \n",
       "director_facebook_likes                  0.175661  0.180406   \n",
       "actor_3_facebook_likes                   0.245435  0.120785   \n",
       "actor_1_facebook_likes                   0.165548  0.082898   \n",
       "gross                                    0.460703  0.242625   \n",
       "num_voted_users                          0.591518  0.338995   \n",
       "cast_total_facebook_likes                0.233689  0.117742   \n",
       "num_user_for_reviews                     0.562530  0.352120   \n",
       "budget                                   0.103967  0.067407   \n",
       "title_year                               0.420263 -0.131773   \n",
       "actor_2_facebook_likes                   0.251061  0.126659   \n",
       "imdb_score                               0.349584  0.367454   \n",
       "movie_facebook_likes                     0.703561  0.212995   \n",
       "\n",
       "                           director_facebook_likes  actor_3_facebook_likes  \\\n",
       "num_critic_for_reviews                    0.175661                0.245435   \n",
       "duration                                  0.180406                0.120785   \n",
       "director_facebook_likes                   1.000000                0.120569   \n",
       "actor_3_facebook_likes                    0.120569                1.000000   \n",
       "actor_1_facebook_likes                    0.090420                0.252436   \n",
       "gross                                     0.139667                0.281227   \n",
       "num_voted_users                           0.302716                0.257618   \n",
       "cast_total_facebook_likes                 0.120027                0.485592   \n",
       "num_user_for_reviews                      0.218820                0.200465   \n",
       "budget                                    0.018110                0.038206   \n",
       "title_year                               -0.045687                0.116515   \n",
       "actor_2_facebook_likes                    0.117821                0.550324   \n",
       "imdb_score                                0.193083                0.064164   \n",
       "movie_facebook_likes                      0.162592                0.259907   \n",
       "\n",
       "                           actor_1_facebook_likes     gross  num_voted_users  \\\n",
       "num_critic_for_reviews                   0.165548  0.460703         0.591518   \n",
       "duration                                 0.082898  0.242625         0.338995   \n",
       "director_facebook_likes                  0.090420  0.139667         0.302716   \n",
       "actor_3_facebook_likes                   0.252436  0.281227         0.257618   \n",
       "actor_1_facebook_likes                   1.000000  0.142478         0.177906   \n",
       "gross                                    0.142478  1.000000         0.622643   \n",
       "num_voted_users                          0.177906  0.622643         1.000000   \n",
       "cast_total_facebook_likes                0.946071  0.227861         0.243732   \n",
       "num_user_for_reviews                     0.121291  0.545578         0.779149   \n",
       "budget                                   0.016039  0.098344         0.065418   \n",
       "title_year                               0.096042  0.053225         0.023571   \n",
       "actor_2_facebook_likes                   0.390375  0.243913         0.239055   \n",
       "imdb_score                               0.092729  0.215275         0.482508   \n",
       "movie_facebook_likes                     0.128728  0.358549         0.514789   \n",
       "\n",
       "                           cast_total_facebook_likes  num_user_for_reviews  \\\n",
       "num_critic_for_reviews                      0.233689              0.562530   \n",
       "duration                                    0.117742              0.352120   \n",
       "director_facebook_likes                     0.120027              0.218820   \n",
       "actor_3_facebook_likes                      0.485592              0.200465   \n",
       "actor_1_facebook_likes                      0.946071              0.121291   \n",
       "gross                                       0.227861              0.545578   \n",
       "num_voted_users                             0.243732              0.779149   \n",
       "cast_total_facebook_likes                   1.000000              0.176128   \n",
       "num_user_for_reviews                        0.176128              1.000000   \n",
       "budget                                      0.027680              0.070289   \n",
       "title_year                                  0.126715              0.020133   \n",
       "actor_2_facebook_likes                      0.640344              0.184632   \n",
       "imdb_score                                  0.105209              0.324884   \n",
       "movie_facebook_likes                        0.199918              0.368493   \n",
       "\n",
       "                             budget  title_year  actor_2_facebook_likes  \\\n",
       "num_critic_for_reviews     0.103967    0.420263                0.251061   \n",
       "duration                   0.067407   -0.131773                0.126659   \n",
       "director_facebook_likes    0.018110   -0.045687                0.117821   \n",
       "actor_3_facebook_likes     0.038206    0.116515                0.550324   \n",
       "actor_1_facebook_likes     0.016039    0.096042                0.390375   \n",
       "gross                      0.098344    0.053225                0.243913   \n",
       "num_voted_users            0.065418    0.023571                0.239055   \n",
       "cast_total_facebook_likes  0.027680    0.126715                0.640344   \n",
       "num_user_for_reviews       0.070289    0.020133                0.184632   \n",
       "budget                     1.000000    0.046380                0.034696   \n",
       "title_year                 0.046380    1.000000                0.123103   \n",
       "actor_2_facebook_likes     0.034696    0.123103                1.000000   \n",
       "imdb_score                 0.029574   -0.132427                0.100172   \n",
       "movie_facebook_likes       0.051069    0.305618                0.226869   \n",
       "\n",
       "                           imdb_score  movie_facebook_likes  \n",
       "num_critic_for_reviews       0.349584              0.703561  \n",
       "duration                     0.367454              0.212995  \n",
       "director_facebook_likes      0.193083              0.162592  \n",
       "actor_3_facebook_likes       0.064164              0.259907  \n",
       "actor_1_facebook_likes       0.092729              0.128728  \n",
       "gross                        0.215275              0.358549  \n",
       "num_voted_users              0.482508              0.514789  \n",
       "cast_total_facebook_likes    0.105209              0.199918  \n",
       "num_user_for_reviews         0.324884              0.368493  \n",
       "budget                       0.029574              0.051069  \n",
       "title_year                  -0.132427              0.305618  \n",
       "actor_2_facebook_likes       0.100172              0.226869  \n",
       "imdb_score                   1.000000              0.283950  \n",
       "movie_facebook_likes         0.283950              1.000000  "
      ]
     },
     "execution_count": 1192,
     "metadata": {},
     "output_type": "execute_result"
    }
   ],
   "source": [
    "# Removing more unnecessary information\n",
    "\n",
    "df.corr()"
   ]
  },
  {
   "cell_type": "markdown",
   "metadata": {
    "slideshow": {
     "slide_type": "subslide"
    }
   },
   "source": [
    "#### looking at this we can see variables such as facebook likes have little to no correlation with a movies success so I will remove them from the dataframe"
   ]
  },
  {
   "cell_type": "code",
   "execution_count": 1193,
   "metadata": {
    "slideshow": {
     "slide_type": "subslide"
    }
   },
   "outputs": [
    {
     "name": "stdout",
     "output_type": "stream",
     "text": [
      "<class 'pandas.core.frame.DataFrame'>\n",
      "Int64Index: 3721 entries, 0 to 5042\n",
      "Data columns (total 18 columns):\n",
      "director_name              3721 non-null object\n",
      "num_critic_for_reviews     3721 non-null int64\n",
      "duration                   3721 non-null int64\n",
      "director_facebook_likes    3721 non-null int64\n",
      "actor_2_name               3721 non-null object\n",
      "actor_1_facebook_likes     3721 non-null int64\n",
      "gross                      3721 non-null int64\n",
      "genres                     3721 non-null object\n",
      "actor_1_name               3721 non-null object\n",
      "movie_title                3721 non-null object\n",
      "num_voted_users            3721 non-null int64\n",
      "plot_keywords              3721 non-null object\n",
      "num_user_for_reviews       3721 non-null int64\n",
      "country                    3721 non-null object\n",
      "content_rating             3721 non-null object\n",
      "budget                     3721 non-null int64\n",
      "title_year                 3721 non-null int64\n",
      "imdb_score                 3721 non-null float64\n",
      "dtypes: float64(1), int64(9), object(8)\n",
      "memory usage: 552.3+ KB\n"
     ]
    }
   ],
   "source": [
    "df = df.drop(['language', 'color', 'movie_facebook_likes', 'actor_2_facebook_likes', 'cast_total_facebook_likes', 'actor_3_facebook_likes', 'actor_3_name', ], axis=1)\n",
    "df.info()"
   ]
  },
  {
   "cell_type": "markdown",
   "metadata": {
    "slideshow": {
     "slide_type": "subslide"
    }
   },
   "source": [
    "#### dropped columns \"color\" and \"language\" as they were predominately one sided and would have little to no affect on IMDB scores."
   ]
  },
  {
   "cell_type": "code",
   "execution_count": 1194,
   "metadata": {
    "slideshow": {
     "slide_type": "skip"
    }
   },
   "outputs": [
    {
     "data": {
      "text/html": [
       "<div>\n",
       "<style scoped>\n",
       "    .dataframe tbody tr th:only-of-type {\n",
       "        vertical-align: middle;\n",
       "    }\n",
       "\n",
       "    .dataframe tbody tr th {\n",
       "        vertical-align: top;\n",
       "    }\n",
       "\n",
       "    .dataframe thead th {\n",
       "        text-align: right;\n",
       "    }\n",
       "</style>\n",
       "<table border=\"1\" class=\"dataframe\">\n",
       "  <thead>\n",
       "    <tr style=\"text-align: right;\">\n",
       "      <th></th>\n",
       "      <th>director_name</th>\n",
       "      <th>num_critic_for_reviews</th>\n",
       "      <th>duration</th>\n",
       "      <th>director_facebook_likes</th>\n",
       "      <th>actor_2_name</th>\n",
       "      <th>actor_1_facebook_likes</th>\n",
       "      <th>gross</th>\n",
       "      <th>genres</th>\n",
       "      <th>actor_1_name</th>\n",
       "      <th>movie_title</th>\n",
       "      <th>num_voted_users</th>\n",
       "      <th>plot_keywords</th>\n",
       "      <th>num_user_for_reviews</th>\n",
       "      <th>country</th>\n",
       "      <th>content_rating</th>\n",
       "      <th>budget</th>\n",
       "      <th>title_year</th>\n",
       "      <th>imdb_score</th>\n",
       "      <th>profit</th>\n",
       "    </tr>\n",
       "  </thead>\n",
       "  <tbody>\n",
       "    <tr>\n",
       "      <th>0</th>\n",
       "      <td>James Cameron</td>\n",
       "      <td>723</td>\n",
       "      <td>178</td>\n",
       "      <td>0</td>\n",
       "      <td>Joel David Moore</td>\n",
       "      <td>1000</td>\n",
       "      <td>760505847</td>\n",
       "      <td>Action|Adventure|Fantasy|Sci-Fi</td>\n",
       "      <td>CCH Pounder</td>\n",
       "      <td>Avatar</td>\n",
       "      <td>886204</td>\n",
       "      <td>avatar|future|marine|native|paraplegic</td>\n",
       "      <td>3054</td>\n",
       "      <td>USA</td>\n",
       "      <td>PG-13</td>\n",
       "      <td>237000000</td>\n",
       "      <td>2009</td>\n",
       "      <td>7.9</td>\n",
       "      <td>523505847</td>\n",
       "    </tr>\n",
       "    <tr>\n",
       "      <th>1</th>\n",
       "      <td>Gore Verbinski</td>\n",
       "      <td>302</td>\n",
       "      <td>169</td>\n",
       "      <td>563</td>\n",
       "      <td>Orlando Bloom</td>\n",
       "      <td>40000</td>\n",
       "      <td>309404152</td>\n",
       "      <td>Action|Adventure|Fantasy</td>\n",
       "      <td>Johnny Depp</td>\n",
       "      <td>Pirates of the Caribbean: At World's End</td>\n",
       "      <td>471220</td>\n",
       "      <td>goddess|marriage ceremony|marriage proposal|pi...</td>\n",
       "      <td>1238</td>\n",
       "      <td>USA</td>\n",
       "      <td>PG-13</td>\n",
       "      <td>300000000</td>\n",
       "      <td>2007</td>\n",
       "      <td>7.1</td>\n",
       "      <td>9404152</td>\n",
       "    </tr>\n",
       "    <tr>\n",
       "      <th>2</th>\n",
       "      <td>Sam Mendes</td>\n",
       "      <td>602</td>\n",
       "      <td>148</td>\n",
       "      <td>0</td>\n",
       "      <td>Rory Kinnear</td>\n",
       "      <td>11000</td>\n",
       "      <td>200074175</td>\n",
       "      <td>Action|Adventure|Thriller</td>\n",
       "      <td>Christoph Waltz</td>\n",
       "      <td>Spectre</td>\n",
       "      <td>275868</td>\n",
       "      <td>bomb|espionage|sequel|spy|terrorist</td>\n",
       "      <td>994</td>\n",
       "      <td>UK</td>\n",
       "      <td>PG-13</td>\n",
       "      <td>245000000</td>\n",
       "      <td>2015</td>\n",
       "      <td>6.8</td>\n",
       "      <td>-44925825</td>\n",
       "    </tr>\n",
       "    <tr>\n",
       "      <th>3</th>\n",
       "      <td>Christopher Nolan</td>\n",
       "      <td>813</td>\n",
       "      <td>164</td>\n",
       "      <td>22000</td>\n",
       "      <td>Christian Bale</td>\n",
       "      <td>27000</td>\n",
       "      <td>448130642</td>\n",
       "      <td>Action|Thriller</td>\n",
       "      <td>Tom Hardy</td>\n",
       "      <td>The Dark Knight Rises</td>\n",
       "      <td>1144337</td>\n",
       "      <td>deception|imprisonment|lawlessness|police offi...</td>\n",
       "      <td>2701</td>\n",
       "      <td>USA</td>\n",
       "      <td>PG-13</td>\n",
       "      <td>250000000</td>\n",
       "      <td>2012</td>\n",
       "      <td>8.5</td>\n",
       "      <td>198130642</td>\n",
       "    </tr>\n",
       "    <tr>\n",
       "      <th>5</th>\n",
       "      <td>Andrew Stanton</td>\n",
       "      <td>462</td>\n",
       "      <td>132</td>\n",
       "      <td>475</td>\n",
       "      <td>Samantha Morton</td>\n",
       "      <td>640</td>\n",
       "      <td>73058679</td>\n",
       "      <td>Action|Adventure|Sci-Fi</td>\n",
       "      <td>Daryl Sabara</td>\n",
       "      <td>John Carter</td>\n",
       "      <td>212204</td>\n",
       "      <td>alien|american civil war|male nipple|mars|prin...</td>\n",
       "      <td>738</td>\n",
       "      <td>USA</td>\n",
       "      <td>PG-13</td>\n",
       "      <td>263700000</td>\n",
       "      <td>2012</td>\n",
       "      <td>6.6</td>\n",
       "      <td>-190641321</td>\n",
       "    </tr>\n",
       "  </tbody>\n",
       "</table>\n",
       "</div>"
      ],
      "text/plain": [
       "       director_name  num_critic_for_reviews  duration  \\\n",
       "0      James Cameron                     723       178   \n",
       "1     Gore Verbinski                     302       169   \n",
       "2         Sam Mendes                     602       148   \n",
       "3  Christopher Nolan                     813       164   \n",
       "5     Andrew Stanton                     462       132   \n",
       "\n",
       "   director_facebook_likes      actor_2_name  actor_1_facebook_likes  \\\n",
       "0                        0  Joel David Moore                    1000   \n",
       "1                      563     Orlando Bloom                   40000   \n",
       "2                        0      Rory Kinnear                   11000   \n",
       "3                    22000    Christian Bale                   27000   \n",
       "5                      475   Samantha Morton                     640   \n",
       "\n",
       "       gross                           genres     actor_1_name  \\\n",
       "0  760505847  Action|Adventure|Fantasy|Sci-Fi      CCH Pounder   \n",
       "1  309404152         Action|Adventure|Fantasy      Johnny Depp   \n",
       "2  200074175        Action|Adventure|Thriller  Christoph Waltz   \n",
       "3  448130642                  Action|Thriller        Tom Hardy   \n",
       "5   73058679          Action|Adventure|Sci-Fi     Daryl Sabara   \n",
       "\n",
       "                                 movie_title  num_voted_users  \\\n",
       "0                                    Avatar            886204   \n",
       "1  Pirates of the Caribbean: At World's End            471220   \n",
       "2                                   Spectre            275868   \n",
       "3                     The Dark Knight Rises           1144337   \n",
       "5                               John Carter            212204   \n",
       "\n",
       "                                       plot_keywords  num_user_for_reviews  \\\n",
       "0             avatar|future|marine|native|paraplegic                  3054   \n",
       "1  goddess|marriage ceremony|marriage proposal|pi...                  1238   \n",
       "2                bomb|espionage|sequel|spy|terrorist                   994   \n",
       "3  deception|imprisonment|lawlessness|police offi...                  2701   \n",
       "5  alien|american civil war|male nipple|mars|prin...                   738   \n",
       "\n",
       "  country content_rating     budget  title_year  imdb_score     profit  \n",
       "0     USA          PG-13  237000000        2009         7.9  523505847  \n",
       "1     USA          PG-13  300000000        2007         7.1    9404152  \n",
       "2      UK          PG-13  245000000        2015         6.8  -44925825  \n",
       "3     USA          PG-13  250000000        2012         8.5  198130642  \n",
       "5     USA          PG-13  263700000        2012         6.6 -190641321  "
      ]
     },
     "execution_count": 1194,
     "metadata": {},
     "output_type": "execute_result"
    }
   ],
   "source": [
    "df['profit'] = df['gross'] - df['budget']\n",
    "df.head()"
   ]
  },
  {
   "cell_type": "code",
   "execution_count": 1195,
   "metadata": {
    "slideshow": {
     "slide_type": "skip"
    }
   },
   "outputs": [
    {
     "data": {
      "text/html": [
       "<div>\n",
       "<style scoped>\n",
       "    .dataframe tbody tr th:only-of-type {\n",
       "        vertical-align: middle;\n",
       "    }\n",
       "\n",
       "    .dataframe tbody tr th {\n",
       "        vertical-align: top;\n",
       "    }\n",
       "\n",
       "    .dataframe thead th {\n",
       "        text-align: right;\n",
       "    }\n",
       "</style>\n",
       "<table border=\"1\" class=\"dataframe\">\n",
       "  <thead>\n",
       "    <tr style=\"text-align: right;\">\n",
       "      <th></th>\n",
       "      <th>director_name</th>\n",
       "      <th>num_critic_for_reviews</th>\n",
       "      <th>duration</th>\n",
       "      <th>director_facebook_likes</th>\n",
       "      <th>actor_2_name</th>\n",
       "      <th>actor_1_facebook_likes</th>\n",
       "      <th>gross</th>\n",
       "      <th>genres</th>\n",
       "      <th>actor_1_name</th>\n",
       "      <th>movie_title</th>\n",
       "      <th>num_voted_users</th>\n",
       "      <th>plot_keywords</th>\n",
       "      <th>num_user_for_reviews</th>\n",
       "      <th>country</th>\n",
       "      <th>content_rating</th>\n",
       "      <th>budget</th>\n",
       "      <th>title_year</th>\n",
       "      <th>imdb_score</th>\n",
       "      <th>profit</th>\n",
       "      <th>return_investment</th>\n",
       "    </tr>\n",
       "  </thead>\n",
       "  <tbody>\n",
       "    <tr>\n",
       "      <th>0</th>\n",
       "      <td>James Cameron</td>\n",
       "      <td>723</td>\n",
       "      <td>178</td>\n",
       "      <td>0</td>\n",
       "      <td>Joel David Moore</td>\n",
       "      <td>1000</td>\n",
       "      <td>760505847</td>\n",
       "      <td>Action|Adventure|Fantasy|Sci-Fi</td>\n",
       "      <td>CCH Pounder</td>\n",
       "      <td>Avatar</td>\n",
       "      <td>886204</td>\n",
       "      <td>avatar|future|marine|native|paraplegic</td>\n",
       "      <td>3054</td>\n",
       "      <td>USA</td>\n",
       "      <td>PG-13</td>\n",
       "      <td>237000000</td>\n",
       "      <td>2009</td>\n",
       "      <td>7.9</td>\n",
       "      <td>523505847</td>\n",
       "      <td>220.888543</td>\n",
       "    </tr>\n",
       "    <tr>\n",
       "      <th>1</th>\n",
       "      <td>Gore Verbinski</td>\n",
       "      <td>302</td>\n",
       "      <td>169</td>\n",
       "      <td>563</td>\n",
       "      <td>Orlando Bloom</td>\n",
       "      <td>40000</td>\n",
       "      <td>309404152</td>\n",
       "      <td>Action|Adventure|Fantasy</td>\n",
       "      <td>Johnny Depp</td>\n",
       "      <td>Pirates of the Caribbean: At World's End</td>\n",
       "      <td>471220</td>\n",
       "      <td>goddess|marriage ceremony|marriage proposal|pi...</td>\n",
       "      <td>1238</td>\n",
       "      <td>USA</td>\n",
       "      <td>PG-13</td>\n",
       "      <td>300000000</td>\n",
       "      <td>2007</td>\n",
       "      <td>7.1</td>\n",
       "      <td>9404152</td>\n",
       "      <td>3.134717</td>\n",
       "    </tr>\n",
       "    <tr>\n",
       "      <th>2</th>\n",
       "      <td>Sam Mendes</td>\n",
       "      <td>602</td>\n",
       "      <td>148</td>\n",
       "      <td>0</td>\n",
       "      <td>Rory Kinnear</td>\n",
       "      <td>11000</td>\n",
       "      <td>200074175</td>\n",
       "      <td>Action|Adventure|Thriller</td>\n",
       "      <td>Christoph Waltz</td>\n",
       "      <td>Spectre</td>\n",
       "      <td>275868</td>\n",
       "      <td>bomb|espionage|sequel|spy|terrorist</td>\n",
       "      <td>994</td>\n",
       "      <td>UK</td>\n",
       "      <td>PG-13</td>\n",
       "      <td>245000000</td>\n",
       "      <td>2015</td>\n",
       "      <td>6.8</td>\n",
       "      <td>-44925825</td>\n",
       "      <td>-18.337071</td>\n",
       "    </tr>\n",
       "    <tr>\n",
       "      <th>3</th>\n",
       "      <td>Christopher Nolan</td>\n",
       "      <td>813</td>\n",
       "      <td>164</td>\n",
       "      <td>22000</td>\n",
       "      <td>Christian Bale</td>\n",
       "      <td>27000</td>\n",
       "      <td>448130642</td>\n",
       "      <td>Action|Thriller</td>\n",
       "      <td>Tom Hardy</td>\n",
       "      <td>The Dark Knight Rises</td>\n",
       "      <td>1144337</td>\n",
       "      <td>deception|imprisonment|lawlessness|police offi...</td>\n",
       "      <td>2701</td>\n",
       "      <td>USA</td>\n",
       "      <td>PG-13</td>\n",
       "      <td>250000000</td>\n",
       "      <td>2012</td>\n",
       "      <td>8.5</td>\n",
       "      <td>198130642</td>\n",
       "      <td>79.252257</td>\n",
       "    </tr>\n",
       "    <tr>\n",
       "      <th>5</th>\n",
       "      <td>Andrew Stanton</td>\n",
       "      <td>462</td>\n",
       "      <td>132</td>\n",
       "      <td>475</td>\n",
       "      <td>Samantha Morton</td>\n",
       "      <td>640</td>\n",
       "      <td>73058679</td>\n",
       "      <td>Action|Adventure|Sci-Fi</td>\n",
       "      <td>Daryl Sabara</td>\n",
       "      <td>John Carter</td>\n",
       "      <td>212204</td>\n",
       "      <td>alien|american civil war|male nipple|mars|prin...</td>\n",
       "      <td>738</td>\n",
       "      <td>USA</td>\n",
       "      <td>PG-13</td>\n",
       "      <td>263700000</td>\n",
       "      <td>2012</td>\n",
       "      <td>6.6</td>\n",
       "      <td>-190641321</td>\n",
       "      <td>-72.294775</td>\n",
       "    </tr>\n",
       "  </tbody>\n",
       "</table>\n",
       "</div>"
      ],
      "text/plain": [
       "       director_name  num_critic_for_reviews  duration  \\\n",
       "0      James Cameron                     723       178   \n",
       "1     Gore Verbinski                     302       169   \n",
       "2         Sam Mendes                     602       148   \n",
       "3  Christopher Nolan                     813       164   \n",
       "5     Andrew Stanton                     462       132   \n",
       "\n",
       "   director_facebook_likes      actor_2_name  actor_1_facebook_likes  \\\n",
       "0                        0  Joel David Moore                    1000   \n",
       "1                      563     Orlando Bloom                   40000   \n",
       "2                        0      Rory Kinnear                   11000   \n",
       "3                    22000    Christian Bale                   27000   \n",
       "5                      475   Samantha Morton                     640   \n",
       "\n",
       "       gross                           genres     actor_1_name  \\\n",
       "0  760505847  Action|Adventure|Fantasy|Sci-Fi      CCH Pounder   \n",
       "1  309404152         Action|Adventure|Fantasy      Johnny Depp   \n",
       "2  200074175        Action|Adventure|Thriller  Christoph Waltz   \n",
       "3  448130642                  Action|Thriller        Tom Hardy   \n",
       "5   73058679          Action|Adventure|Sci-Fi     Daryl Sabara   \n",
       "\n",
       "                                 movie_title  num_voted_users  \\\n",
       "0                                    Avatar            886204   \n",
       "1  Pirates of the Caribbean: At World's End            471220   \n",
       "2                                   Spectre            275868   \n",
       "3                     The Dark Knight Rises           1144337   \n",
       "5                               John Carter            212204   \n",
       "\n",
       "                                       plot_keywords  num_user_for_reviews  \\\n",
       "0             avatar|future|marine|native|paraplegic                  3054   \n",
       "1  goddess|marriage ceremony|marriage proposal|pi...                  1238   \n",
       "2                bomb|espionage|sequel|spy|terrorist                   994   \n",
       "3  deception|imprisonment|lawlessness|police offi...                  2701   \n",
       "5  alien|american civil war|male nipple|mars|prin...                   738   \n",
       "\n",
       "  country content_rating     budget  title_year  imdb_score     profit  \\\n",
       "0     USA          PG-13  237000000        2009         7.9  523505847   \n",
       "1     USA          PG-13  300000000        2007         7.1    9404152   \n",
       "2      UK          PG-13  245000000        2015         6.8  -44925825   \n",
       "3     USA          PG-13  250000000        2012         8.5  198130642   \n",
       "5     USA          PG-13  263700000        2012         6.6 -190641321   \n",
       "\n",
       "   return_investment  \n",
       "0         220.888543  \n",
       "1           3.134717  \n",
       "2         -18.337071  \n",
       "3          79.252257  \n",
       "5         -72.294775  "
      ]
     },
     "execution_count": 1195,
     "metadata": {},
     "output_type": "execute_result"
    }
   ],
   "source": [
    "df['return_investment'] = (df['profit'] / df['budget']) *100\n",
    "df.head()"
   ]
  },
  {
   "cell_type": "code",
   "execution_count": 1196,
   "metadata": {
    "slideshow": {
     "slide_type": "subslide"
    }
   },
   "outputs": [
    {
     "data": {
      "text/plain": [
       "R        1762\n",
       "PG-13    1290\n",
       "PG        566\n",
       "G          87\n",
       "NC-17      16\n",
       "Name: content_rating, dtype: int64"
      ]
     },
     "execution_count": 1196,
     "metadata": {},
     "output_type": "execute_result"
    }
   ],
   "source": [
    "# changing movie ratings to modern day ratings\n",
    "\n",
    "df = df.replace('M', 'PG')\n",
    "df = df.replace('GP', 'PG')\n",
    "df = df.replace('X', 'NC-17')\n",
    "df = df.replace('Approved', 'R')\n",
    "df = df.replace('Not Rated', 'R')\n",
    "df = df.replace('Unrated', 'R')\n",
    "df = df.replace('Passed', 'R')\n",
    "\n",
    "df['content_rating'].value_counts()"
   ]
  },
  {
   "cell_type": "code",
   "execution_count": 1197,
   "metadata": {
    "slideshow": {
     "slide_type": "subslide"
    }
   },
   "outputs": [],
   "source": [
    "# combining countries into category: \"other\"\n",
    "\n",
    "df.country.iloc[[(df['country'] != 'USA') & (df['country'] != 'UK')]] = 'OTHER'\n",
    "import warnings\n",
    "warnings.filterwarnings(\"ignore\")"
   ]
  },
  {
   "cell_type": "code",
   "execution_count": 1198,
   "metadata": {
    "slideshow": {
     "slide_type": "skip"
    }
   },
   "outputs": [
    {
     "data": {
      "text/plain": [
       "USA      2961\n",
       "OTHER     447\n",
       "UK        313\n",
       "Name: country, dtype: int64"
      ]
     },
     "execution_count": 1198,
     "metadata": {},
     "output_type": "execute_result"
    }
   ],
   "source": [
    "df['country'].value_counts()"
   ]
  },
  {
   "cell_type": "code",
   "execution_count": 1199,
   "metadata": {
    "slideshow": {
     "slide_type": "skip"
    }
   },
   "outputs": [
    {
     "data": {
      "text/html": [
       "<div>\n",
       "<style scoped>\n",
       "    .dataframe tbody tr th:only-of-type {\n",
       "        vertical-align: middle;\n",
       "    }\n",
       "\n",
       "    .dataframe tbody tr th {\n",
       "        vertical-align: top;\n",
       "    }\n",
       "\n",
       "    .dataframe thead th {\n",
       "        text-align: right;\n",
       "    }\n",
       "</style>\n",
       "<table border=\"1\" class=\"dataframe\">\n",
       "  <thead>\n",
       "    <tr style=\"text-align: right;\">\n",
       "      <th></th>\n",
       "      <th>director_name</th>\n",
       "      <th>num_critic_for_reviews</th>\n",
       "      <th>duration</th>\n",
       "      <th>director_facebook_likes</th>\n",
       "      <th>actor_2_name</th>\n",
       "      <th>actor_1_facebook_likes</th>\n",
       "      <th>gross</th>\n",
       "      <th>genres</th>\n",
       "      <th>actor_1_name</th>\n",
       "      <th>movie_title</th>\n",
       "      <th>...</th>\n",
       "      <th>plot_keywords</th>\n",
       "      <th>num_user_for_reviews</th>\n",
       "      <th>country</th>\n",
       "      <th>content_rating</th>\n",
       "      <th>budget</th>\n",
       "      <th>title_year</th>\n",
       "      <th>imdb_score</th>\n",
       "      <th>profit</th>\n",
       "      <th>return_investment</th>\n",
       "      <th>imdbscores_bins</th>\n",
       "    </tr>\n",
       "  </thead>\n",
       "  <tbody>\n",
       "    <tr>\n",
       "      <th>0</th>\n",
       "      <td>James Cameron</td>\n",
       "      <td>723</td>\n",
       "      <td>178</td>\n",
       "      <td>0</td>\n",
       "      <td>Joel David Moore</td>\n",
       "      <td>1000</td>\n",
       "      <td>760505847</td>\n",
       "      <td>Action|Adventure|Fantasy|Sci-Fi</td>\n",
       "      <td>CCH Pounder</td>\n",
       "      <td>Avatar</td>\n",
       "      <td>...</td>\n",
       "      <td>avatar|future|marine|native|paraplegic</td>\n",
       "      <td>3054</td>\n",
       "      <td>USA</td>\n",
       "      <td>PG-13</td>\n",
       "      <td>237000000</td>\n",
       "      <td>2009</td>\n",
       "      <td>7.9</td>\n",
       "      <td>523505847</td>\n",
       "      <td>220.888543</td>\n",
       "      <td>4</td>\n",
       "    </tr>\n",
       "    <tr>\n",
       "      <th>1</th>\n",
       "      <td>Gore Verbinski</td>\n",
       "      <td>302</td>\n",
       "      <td>169</td>\n",
       "      <td>563</td>\n",
       "      <td>Orlando Bloom</td>\n",
       "      <td>40000</td>\n",
       "      <td>309404152</td>\n",
       "      <td>Action|Adventure|Fantasy</td>\n",
       "      <td>Johnny Depp</td>\n",
       "      <td>Pirates of the Caribbean: At World's End</td>\n",
       "      <td>...</td>\n",
       "      <td>goddess|marriage ceremony|marriage proposal|pi...</td>\n",
       "      <td>1238</td>\n",
       "      <td>USA</td>\n",
       "      <td>PG-13</td>\n",
       "      <td>300000000</td>\n",
       "      <td>2007</td>\n",
       "      <td>7.1</td>\n",
       "      <td>9404152</td>\n",
       "      <td>3.134717</td>\n",
       "      <td>4</td>\n",
       "    </tr>\n",
       "    <tr>\n",
       "      <th>2</th>\n",
       "      <td>Sam Mendes</td>\n",
       "      <td>602</td>\n",
       "      <td>148</td>\n",
       "      <td>0</td>\n",
       "      <td>Rory Kinnear</td>\n",
       "      <td>11000</td>\n",
       "      <td>200074175</td>\n",
       "      <td>Action|Adventure|Thriller</td>\n",
       "      <td>Christoph Waltz</td>\n",
       "      <td>Spectre</td>\n",
       "      <td>...</td>\n",
       "      <td>bomb|espionage|sequel|spy|terrorist</td>\n",
       "      <td>994</td>\n",
       "      <td>UK</td>\n",
       "      <td>PG-13</td>\n",
       "      <td>245000000</td>\n",
       "      <td>2015</td>\n",
       "      <td>6.8</td>\n",
       "      <td>-44925825</td>\n",
       "      <td>-18.337071</td>\n",
       "      <td>4</td>\n",
       "    </tr>\n",
       "    <tr>\n",
       "      <th>3</th>\n",
       "      <td>Christopher Nolan</td>\n",
       "      <td>813</td>\n",
       "      <td>164</td>\n",
       "      <td>22000</td>\n",
       "      <td>Christian Bale</td>\n",
       "      <td>27000</td>\n",
       "      <td>448130642</td>\n",
       "      <td>Action|Thriller</td>\n",
       "      <td>Tom Hardy</td>\n",
       "      <td>The Dark Knight Rises</td>\n",
       "      <td>...</td>\n",
       "      <td>deception|imprisonment|lawlessness|police offi...</td>\n",
       "      <td>2701</td>\n",
       "      <td>USA</td>\n",
       "      <td>PG-13</td>\n",
       "      <td>250000000</td>\n",
       "      <td>2012</td>\n",
       "      <td>8.5</td>\n",
       "      <td>198130642</td>\n",
       "      <td>79.252257</td>\n",
       "      <td>5</td>\n",
       "    </tr>\n",
       "    <tr>\n",
       "      <th>5</th>\n",
       "      <td>Andrew Stanton</td>\n",
       "      <td>462</td>\n",
       "      <td>132</td>\n",
       "      <td>475</td>\n",
       "      <td>Samantha Morton</td>\n",
       "      <td>640</td>\n",
       "      <td>73058679</td>\n",
       "      <td>Action|Adventure|Sci-Fi</td>\n",
       "      <td>Daryl Sabara</td>\n",
       "      <td>John Carter</td>\n",
       "      <td>...</td>\n",
       "      <td>alien|american civil war|male nipple|mars|prin...</td>\n",
       "      <td>738</td>\n",
       "      <td>USA</td>\n",
       "      <td>PG-13</td>\n",
       "      <td>263700000</td>\n",
       "      <td>2012</td>\n",
       "      <td>6.6</td>\n",
       "      <td>-190641321</td>\n",
       "      <td>-72.294775</td>\n",
       "      <td>4</td>\n",
       "    </tr>\n",
       "  </tbody>\n",
       "</table>\n",
       "<p>5 rows × 21 columns</p>\n",
       "</div>"
      ],
      "text/plain": [
       "       director_name  num_critic_for_reviews  duration  \\\n",
       "0      James Cameron                     723       178   \n",
       "1     Gore Verbinski                     302       169   \n",
       "2         Sam Mendes                     602       148   \n",
       "3  Christopher Nolan                     813       164   \n",
       "5     Andrew Stanton                     462       132   \n",
       "\n",
       "   director_facebook_likes      actor_2_name  actor_1_facebook_likes  \\\n",
       "0                        0  Joel David Moore                    1000   \n",
       "1                      563     Orlando Bloom                   40000   \n",
       "2                        0      Rory Kinnear                   11000   \n",
       "3                    22000    Christian Bale                   27000   \n",
       "5                      475   Samantha Morton                     640   \n",
       "\n",
       "       gross                           genres     actor_1_name  \\\n",
       "0  760505847  Action|Adventure|Fantasy|Sci-Fi      CCH Pounder   \n",
       "1  309404152         Action|Adventure|Fantasy      Johnny Depp   \n",
       "2  200074175        Action|Adventure|Thriller  Christoph Waltz   \n",
       "3  448130642                  Action|Thriller        Tom Hardy   \n",
       "5   73058679          Action|Adventure|Sci-Fi     Daryl Sabara   \n",
       "\n",
       "                                 movie_title  ...  \\\n",
       "0                                    Avatar   ...   \n",
       "1  Pirates of the Caribbean: At World's End   ...   \n",
       "2                                   Spectre   ...   \n",
       "3                     The Dark Knight Rises   ...   \n",
       "5                               John Carter   ...   \n",
       "\n",
       "                                       plot_keywords num_user_for_reviews  \\\n",
       "0             avatar|future|marine|native|paraplegic                 3054   \n",
       "1  goddess|marriage ceremony|marriage proposal|pi...                 1238   \n",
       "2                bomb|espionage|sequel|spy|terrorist                  994   \n",
       "3  deception|imprisonment|lawlessness|police offi...                 2701   \n",
       "5  alien|american civil war|male nipple|mars|prin...                  738   \n",
       "\n",
       "   country content_rating     budget  title_year  imdb_score     profit  \\\n",
       "0      USA          PG-13  237000000        2009         7.9  523505847   \n",
       "1      USA          PG-13  300000000        2007         7.1    9404152   \n",
       "2       UK          PG-13  245000000        2015         6.8  -44925825   \n",
       "3      USA          PG-13  250000000        2012         8.5  198130642   \n",
       "5      USA          PG-13  263700000        2012         6.6 -190641321   \n",
       "\n",
       "   return_investment  imdbscores_bins  \n",
       "0         220.888543                4  \n",
       "1           3.134717                4  \n",
       "2         -18.337071                4  \n",
       "3          79.252257                5  \n",
       "5         -72.294775                4  \n",
       "\n",
       "[5 rows x 21 columns]"
      ]
     },
     "execution_count": 1199,
     "metadata": {},
     "output_type": "execute_result"
    }
   ],
   "source": [
    "df['imdbscores_bins'] = pd.cut(df['imdb_score'], bins=[0, 2, 4, 6, 8, 10], labels=[1,2,3,4,5])\n",
    "df.head()"
   ]
  },
  {
   "cell_type": "markdown",
   "metadata": {
    "slideshow": {
     "slide_type": "subslide"
    }
   },
   "source": [
    "#### a vast majority of the films made were either USA, or UK due to this all other countries have been grouped together in one."
   ]
  },
  {
   "cell_type": "markdown",
   "metadata": {
    "slideshow": {
     "slide_type": "slide"
    }
   },
   "source": [
    "# 4. Business intelligence\n",
    "- pivot tables\n",
    "- data visualization with business questions"
   ]
  },
  {
   "cell_type": "markdown",
   "metadata": {
    "slideshow": {
     "slide_type": "subslide"
    }
   },
   "source": [
    "### checking relationships between 'gross' and 'imdb_score'"
   ]
  },
  {
   "cell_type": "code",
   "execution_count": 1200,
   "metadata": {
    "slideshow": {
     "slide_type": "subslide"
    }
   },
   "outputs": [
    {
     "data": {
      "text/html": [
       "<div>\n",
       "<style scoped>\n",
       "    .dataframe tbody tr th:only-of-type {\n",
       "        vertical-align: middle;\n",
       "    }\n",
       "\n",
       "    .dataframe tbody tr th {\n",
       "        vertical-align: top;\n",
       "    }\n",
       "\n",
       "    .dataframe thead th {\n",
       "        text-align: right;\n",
       "    }\n",
       "</style>\n",
       "<table border=\"1\" class=\"dataframe\">\n",
       "  <thead>\n",
       "    <tr style=\"text-align: right;\">\n",
       "      <th></th>\n",
       "      <th>gross</th>\n",
       "      <th>imdb_score</th>\n",
       "    </tr>\n",
       "  </thead>\n",
       "  <tbody>\n",
       "    <tr>\n",
       "      <th>0</th>\n",
       "      <td>760505847</td>\n",
       "      <td>7.9</td>\n",
       "    </tr>\n",
       "    <tr>\n",
       "      <th>1</th>\n",
       "      <td>309404152</td>\n",
       "      <td>7.1</td>\n",
       "    </tr>\n",
       "    <tr>\n",
       "      <th>2</th>\n",
       "      <td>200074175</td>\n",
       "      <td>6.8</td>\n",
       "    </tr>\n",
       "    <tr>\n",
       "      <th>3</th>\n",
       "      <td>448130642</td>\n",
       "      <td>8.5</td>\n",
       "    </tr>\n",
       "    <tr>\n",
       "      <th>5</th>\n",
       "      <td>73058679</td>\n",
       "      <td>6.6</td>\n",
       "    </tr>\n",
       "  </tbody>\n",
       "</table>\n",
       "</div>"
      ],
      "text/plain": [
       "       gross  imdb_score\n",
       "0  760505847         7.9\n",
       "1  309404152         7.1\n",
       "2  200074175         6.8\n",
       "3  448130642         8.5\n",
       "5   73058679         6.6"
      ]
     },
     "execution_count": 1200,
     "metadata": {},
     "output_type": "execute_result"
    }
   ],
   "source": [
    "df2 = df[['gross', 'imdb_score']]\n",
    "df2.head()"
   ]
  },
  {
   "cell_type": "code",
   "execution_count": 1201,
   "metadata": {
    "slideshow": {
     "slide_type": "skip"
    }
   },
   "outputs": [
    {
     "data": {
      "text/html": [
       "<div>\n",
       "<style scoped>\n",
       "    .dataframe tbody tr th:only-of-type {\n",
       "        vertical-align: middle;\n",
       "    }\n",
       "\n",
       "    .dataframe tbody tr th {\n",
       "        vertical-align: top;\n",
       "    }\n",
       "\n",
       "    .dataframe thead th {\n",
       "        text-align: right;\n",
       "    }\n",
       "</style>\n",
       "<table border=\"1\" class=\"dataframe\">\n",
       "  <thead>\n",
       "    <tr style=\"text-align: right;\">\n",
       "      <th></th>\n",
       "      <th>gross</th>\n",
       "      <th>imdb_score</th>\n",
       "    </tr>\n",
       "  </thead>\n",
       "  <tbody>\n",
       "    <tr>\n",
       "      <th>0</th>\n",
       "      <td>760505847</td>\n",
       "      <td>7.9</td>\n",
       "    </tr>\n",
       "    <tr>\n",
       "      <th>26</th>\n",
       "      <td>658672302</td>\n",
       "      <td>7.7</td>\n",
       "    </tr>\n",
       "    <tr>\n",
       "      <th>29</th>\n",
       "      <td>652177271</td>\n",
       "      <td>7.0</td>\n",
       "    </tr>\n",
       "    <tr>\n",
       "      <th>17</th>\n",
       "      <td>623279547</td>\n",
       "      <td>8.1</td>\n",
       "    </tr>\n",
       "    <tr>\n",
       "      <th>66</th>\n",
       "      <td>533316061</td>\n",
       "      <td>9.0</td>\n",
       "    </tr>\n",
       "    <tr>\n",
       "      <th>240</th>\n",
       "      <td>474544677</td>\n",
       "      <td>6.5</td>\n",
       "    </tr>\n",
       "    <tr>\n",
       "      <th>3024</th>\n",
       "      <td>460935665</td>\n",
       "      <td>8.7</td>\n",
       "    </tr>\n",
       "    <tr>\n",
       "      <th>8</th>\n",
       "      <td>458991599</td>\n",
       "      <td>7.5</td>\n",
       "    </tr>\n",
       "    <tr>\n",
       "      <th>3</th>\n",
       "      <td>448130642</td>\n",
       "      <td>8.5</td>\n",
       "    </tr>\n",
       "    <tr>\n",
       "      <th>582</th>\n",
       "      <td>436471036</td>\n",
       "      <td>7.2</td>\n",
       "    </tr>\n",
       "  </tbody>\n",
       "</table>\n",
       "</div>"
      ],
      "text/plain": [
       "          gross  imdb_score\n",
       "0     760505847         7.9\n",
       "26    658672302         7.7\n",
       "29    652177271         7.0\n",
       "17    623279547         8.1\n",
       "66    533316061         9.0\n",
       "240   474544677         6.5\n",
       "3024  460935665         8.7\n",
       "8     458991599         7.5\n",
       "3     448130642         8.5\n",
       "582   436471036         7.2"
      ]
     },
     "execution_count": 1201,
     "metadata": {},
     "output_type": "execute_result"
    }
   ],
   "source": [
    "df2.sort_values('gross', ascending=False).head(10)\n"
   ]
  },
  {
   "cell_type": "code",
   "execution_count": 1202,
   "metadata": {
    "slideshow": {
     "slide_type": "skip"
    }
   },
   "outputs": [
    {
     "data": {
      "text/plain": [
       "gross         5.507025e+08\n",
       "imdb_score    7.810000e+00\n",
       "dtype: float64"
      ]
     },
     "execution_count": 1202,
     "metadata": {},
     "output_type": "execute_result"
    }
   ],
   "source": [
    "df2.sort_values('gross', ascending=False).head(10).mean()"
   ]
  },
  {
   "cell_type": "code",
   "execution_count": 1203,
   "metadata": {
    "slideshow": {
     "slide_type": "skip"
    }
   },
   "outputs": [
    {
     "data": {
      "text/html": [
       "<div>\n",
       "<style scoped>\n",
       "    .dataframe tbody tr th:only-of-type {\n",
       "        vertical-align: middle;\n",
       "    }\n",
       "\n",
       "    .dataframe tbody tr th {\n",
       "        vertical-align: top;\n",
       "    }\n",
       "\n",
       "    .dataframe thead th {\n",
       "        text-align: right;\n",
       "    }\n",
       "</style>\n",
       "<table border=\"1\" class=\"dataframe\">\n",
       "  <thead>\n",
       "    <tr style=\"text-align: right;\">\n",
       "      <th></th>\n",
       "      <th>gross</th>\n",
       "      <th>imdb_score</th>\n",
       "    </tr>\n",
       "  </thead>\n",
       "  <tbody>\n",
       "    <tr>\n",
       "      <th>4434</th>\n",
       "      <td>3478</td>\n",
       "      <td>6.7</td>\n",
       "    </tr>\n",
       "    <tr>\n",
       "      <th>2589</th>\n",
       "      <td>2964</td>\n",
       "      <td>5.1</td>\n",
       "    </tr>\n",
       "    <tr>\n",
       "      <th>4399</th>\n",
       "      <td>2580</td>\n",
       "      <td>5.4</td>\n",
       "    </tr>\n",
       "    <tr>\n",
       "      <th>4845</th>\n",
       "      <td>2468</td>\n",
       "      <td>4.8</td>\n",
       "    </tr>\n",
       "    <tr>\n",
       "      <th>4333</th>\n",
       "      <td>2436</td>\n",
       "      <td>5.7</td>\n",
       "    </tr>\n",
       "    <tr>\n",
       "      <th>4758</th>\n",
       "      <td>1332</td>\n",
       "      <td>4.6</td>\n",
       "    </tr>\n",
       "    <tr>\n",
       "      <th>4915</th>\n",
       "      <td>1111</td>\n",
       "      <td>7.7</td>\n",
       "    </tr>\n",
       "    <tr>\n",
       "      <th>4606</th>\n",
       "      <td>721</td>\n",
       "      <td>4.1</td>\n",
       "    </tr>\n",
       "    <tr>\n",
       "      <th>4607</th>\n",
       "      <td>703</td>\n",
       "      <td>5.4</td>\n",
       "    </tr>\n",
       "    <tr>\n",
       "      <th>3330</th>\n",
       "      <td>162</td>\n",
       "      <td>5.7</td>\n",
       "    </tr>\n",
       "  </tbody>\n",
       "</table>\n",
       "</div>"
      ],
      "text/plain": [
       "      gross  imdb_score\n",
       "4434   3478         6.7\n",
       "2589   2964         5.1\n",
       "4399   2580         5.4\n",
       "4845   2468         4.8\n",
       "4333   2436         5.7\n",
       "4758   1332         4.6\n",
       "4915   1111         7.7\n",
       "4606    721         4.1\n",
       "4607    703         5.4\n",
       "3330    162         5.7"
      ]
     },
     "execution_count": 1203,
     "metadata": {},
     "output_type": "execute_result"
    }
   ],
   "source": [
    "df2.sort_values('gross', ascending=False).tail(10)"
   ]
  },
  {
   "cell_type": "code",
   "execution_count": 1204,
   "metadata": {
    "slideshow": {
     "slide_type": "skip"
    }
   },
   "outputs": [
    {
     "data": {
      "text/plain": [
       "gross         1795.50\n",
       "imdb_score       5.52\n",
       "dtype: float64"
      ]
     },
     "execution_count": 1204,
     "metadata": {},
     "output_type": "execute_result"
    }
   ],
   "source": [
    "df2.sort_values('gross', ascending=False).tail(10).mean()"
   ]
  },
  {
   "cell_type": "markdown",
   "metadata": {
    "slideshow": {
     "slide_type": "subslide"
    }
   },
   "source": [
    "#### we can see that there is a correlation between a movie's gross and the imdb score. the movies that earn the most on average have a score of 7.9 "
   ]
  },
  {
   "cell_type": "markdown",
   "metadata": {
    "slideshow": {
     "slide_type": "subslide"
    }
   },
   "source": [
    "### number of movies released over the years"
   ]
  },
  {
   "cell_type": "code",
   "execution_count": 1205,
   "metadata": {
    "slideshow": {
     "slide_type": "subslide"
    }
   },
   "outputs": [
    {
     "data": {
      "text/plain": [
       "Text(0, 0.5, 'amount of monvies released')"
      ]
     },
     "execution_count": 1205,
     "metadata": {},
     "output_type": "execute_result"
    },
    {
     "data": {
      "image/png": "[encoded data removed]",
      "text/plain": [
       "<Figure size 432x288 with 1 Axes>"
      ]
     },
     "metadata": {
      "needs_background": "light"
     },
     "output_type": "display_data"
    }
   ],
   "source": [
    "plt.hist(df['title_year'])\n",
    "plt.xlabel('release year')\n",
    "plt.ylabel('amount of monvies released')"
   ]
  },
  {
   "cell_type": "markdown",
   "metadata": {
    "slideshow": {
     "slide_type": "subslide"
    }
   },
   "source": [
    "### Relation between genre and imdb_score"
   ]
  },
  {
   "cell_type": "code",
   "execution_count": 1206,
   "metadata": {
    "slideshow": {
     "slide_type": "subslide"
    }
   },
   "outputs": [
    {
     "data": {
      "text/html": [
       "<div>\n",
       "<style scoped>\n",
       "    .dataframe tbody tr th:only-of-type {\n",
       "        vertical-align: middle;\n",
       "    }\n",
       "\n",
       "    .dataframe tbody tr th {\n",
       "        vertical-align: top;\n",
       "    }\n",
       "\n",
       "    .dataframe thead th {\n",
       "        text-align: right;\n",
       "    }\n",
       "</style>\n",
       "<table border=\"1\" class=\"dataframe\">\n",
       "  <thead>\n",
       "    <tr style=\"text-align: right;\">\n",
       "      <th></th>\n",
       "      <th>genres</th>\n",
       "      <th>imdb_score</th>\n",
       "    </tr>\n",
       "  </thead>\n",
       "  <tbody>\n",
       "    <tr>\n",
       "      <th>0</th>\n",
       "      <td>Action|Adventure|Fantasy|Sci-Fi</td>\n",
       "      <td>7.9</td>\n",
       "    </tr>\n",
       "    <tr>\n",
       "      <th>1</th>\n",
       "      <td>Action|Adventure|Fantasy</td>\n",
       "      <td>7.1</td>\n",
       "    </tr>\n",
       "    <tr>\n",
       "      <th>2</th>\n",
       "      <td>Action|Adventure|Thriller</td>\n",
       "      <td>6.8</td>\n",
       "    </tr>\n",
       "    <tr>\n",
       "      <th>3</th>\n",
       "      <td>Action|Thriller</td>\n",
       "      <td>8.5</td>\n",
       "    </tr>\n",
       "    <tr>\n",
       "      <th>5</th>\n",
       "      <td>Action|Adventure|Sci-Fi</td>\n",
       "      <td>6.6</td>\n",
       "    </tr>\n",
       "  </tbody>\n",
       "</table>\n",
       "</div>"
      ],
      "text/plain": [
       "                            genres  imdb_score\n",
       "0  Action|Adventure|Fantasy|Sci-Fi         7.9\n",
       "1         Action|Adventure|Fantasy         7.1\n",
       "2        Action|Adventure|Thriller         6.8\n",
       "3                  Action|Thriller         8.5\n",
       "5          Action|Adventure|Sci-Fi         6.6"
      ]
     },
     "execution_count": 1206,
     "metadata": {},
     "output_type": "execute_result"
    }
   ],
   "source": [
    "genrescore = df[['genres','imdb_score']]\n",
    "genrescore.head()"
   ]
  },
  {
   "cell_type": "code",
   "execution_count": 1207,
   "metadata": {
    "slideshow": {
     "slide_type": "subslide"
    }
   },
   "outputs": [
    {
     "data": {
      "text/html": [
       "<div>\n",
       "<style scoped>\n",
       "    .dataframe tbody tr th:only-of-type {\n",
       "        vertical-align: middle;\n",
       "    }\n",
       "\n",
       "    .dataframe tbody tr th {\n",
       "        vertical-align: top;\n",
       "    }\n",
       "\n",
       "    .dataframe thead th {\n",
       "        text-align: right;\n",
       "    }\n",
       "</style>\n",
       "<table border=\"1\" class=\"dataframe\">\n",
       "  <thead>\n",
       "    <tr style=\"text-align: right;\">\n",
       "      <th></th>\n",
       "      <th>genres</th>\n",
       "      <th>imdb_score</th>\n",
       "    </tr>\n",
       "  </thead>\n",
       "  <tbody>\n",
       "    <tr>\n",
       "      <th>0</th>\n",
       "      <td>Action</td>\n",
       "      <td>6.289905</td>\n",
       "    </tr>\n",
       "    <tr>\n",
       "      <th>1</th>\n",
       "      <td>Adventure</td>\n",
       "      <td>6.452393</td>\n",
       "    </tr>\n",
       "    <tr>\n",
       "      <th>2</th>\n",
       "      <td>Animation</td>\n",
       "      <td>6.702551</td>\n",
       "    </tr>\n",
       "    <tr>\n",
       "      <th>3</th>\n",
       "      <td>Biography</td>\n",
       "      <td>7.157563</td>\n",
       "    </tr>\n",
       "    <tr>\n",
       "      <th>4</th>\n",
       "      <td>Comedy</td>\n",
       "      <td>6.189340</td>\n",
       "    </tr>\n",
       "    <tr>\n",
       "      <th>5</th>\n",
       "      <td>Crime</td>\n",
       "      <td>6.541903</td>\n",
       "    </tr>\n",
       "    <tr>\n",
       "      <th>6</th>\n",
       "      <td>Documentary</td>\n",
       "      <td>6.988889</td>\n",
       "    </tr>\n",
       "    <tr>\n",
       "      <th>7</th>\n",
       "      <td>Drama</td>\n",
       "      <td>6.792800</td>\n",
       "    </tr>\n",
       "    <tr>\n",
       "      <th>8</th>\n",
       "      <td>Family</td>\n",
       "      <td>6.216364</td>\n",
       "    </tr>\n",
       "    <tr>\n",
       "      <th>9</th>\n",
       "      <td>Fantasy</td>\n",
       "      <td>6.286310</td>\n",
       "    </tr>\n",
       "    <tr>\n",
       "      <th>10</th>\n",
       "      <td>Film-Noir</td>\n",
       "      <td>7.700000</td>\n",
       "    </tr>\n",
       "    <tr>\n",
       "      <th>11</th>\n",
       "      <td>History</td>\n",
       "      <td>7.157823</td>\n",
       "    </tr>\n",
       "    <tr>\n",
       "      <th>12</th>\n",
       "      <td>Horror</td>\n",
       "      <td>5.922539</td>\n",
       "    </tr>\n",
       "    <tr>\n",
       "      <th>13</th>\n",
       "      <td>Music</td>\n",
       "      <td>6.337162</td>\n",
       "    </tr>\n",
       "    <tr>\n",
       "      <th>14</th>\n",
       "      <td>Musical</td>\n",
       "      <td>6.596875</td>\n",
       "    </tr>\n",
       "    <tr>\n",
       "      <th>15</th>\n",
       "      <td>Mystery</td>\n",
       "      <td>6.480688</td>\n",
       "    </tr>\n",
       "    <tr>\n",
       "      <th>16</th>\n",
       "      <td>Romance</td>\n",
       "      <td>6.438235</td>\n",
       "    </tr>\n",
       "    <tr>\n",
       "      <th>17</th>\n",
       "      <td>Sci-Fi</td>\n",
       "      <td>6.325813</td>\n",
       "    </tr>\n",
       "    <tr>\n",
       "      <th>18</th>\n",
       "      <td>Sport</td>\n",
       "      <td>6.589116</td>\n",
       "    </tr>\n",
       "    <tr>\n",
       "      <th>19</th>\n",
       "      <td>Thriller</td>\n",
       "      <td>6.376652</td>\n",
       "    </tr>\n",
       "    <tr>\n",
       "      <th>20</th>\n",
       "      <td>War</td>\n",
       "      <td>7.062667</td>\n",
       "    </tr>\n",
       "    <tr>\n",
       "      <th>21</th>\n",
       "      <td>Western</td>\n",
       "      <td>6.812281</td>\n",
       "    </tr>\n",
       "  </tbody>\n",
       "</table>\n",
       "</div>"
      ],
      "text/plain": [
       "         genres  imdb_score\n",
       "0        Action    6.289905\n",
       "1     Adventure    6.452393\n",
       "2     Animation    6.702551\n",
       "3     Biography    7.157563\n",
       "4        Comedy    6.189340\n",
       "5         Crime    6.541903\n",
       "6   Documentary    6.988889\n",
       "7         Drama    6.792800\n",
       "8        Family    6.216364\n",
       "9       Fantasy    6.286310\n",
       "10    Film-Noir    7.700000\n",
       "11      History    7.157823\n",
       "12       Horror    5.922539\n",
       "13        Music    6.337162\n",
       "14      Musical    6.596875\n",
       "15      Mystery    6.480688\n",
       "16      Romance    6.438235\n",
       "17       Sci-Fi    6.325813\n",
       "18        Sport    6.589116\n",
       "19     Thriller    6.376652\n",
       "20          War    7.062667\n",
       "21      Western    6.812281"
      ]
     },
     "execution_count": 1207,
     "metadata": {},
     "output_type": "execute_result"
    }
   ],
   "source": [
    "b = pd.DataFrame(genrescore.genres.str.split('|').tolist(), index=genrescore.imdb_score).stack()\n",
    "b = b.reset_index()[[0, 'imdb_score']] \n",
    "b.columns = ['genres', 'imdb_score'] \n",
    "b2 = b.groupby('genres').agg({'imdb_score':'mean'}).reset_index()\n",
    "b2"
   ]
  },
  {
   "cell_type": "code",
   "execution_count": 1208,
   "metadata": {
    "slideshow": {
     "slide_type": "subslide"
    }
   },
   "outputs": [
    {
     "data": {
      "text/plain": [
       "Text(0.5, 0, 'imdb score')"
      ]
     },
     "execution_count": 1208,
     "metadata": {},
     "output_type": "execute_result"
    },
    {
     "data": {
      "image/png": "[encoded data removed]",
      "text/plain": [
       "<Figure size 1440x720 with 1 Axes>"
      ]
     },
     "metadata": {
      "needs_background": "light"
     },
     "output_type": "display_data"
    }
   ],
   "source": [
    "b3 = b2.set_index('genres')\n",
    "b3.plot(kind='barh', figsize=(20,10))\n",
    "plt.xlabel('imdb score')\n"
   ]
  },
  {
   "cell_type": "code",
   "execution_count": 1209,
   "metadata": {
    "slideshow": {
     "slide_type": "subslide"
    }
   },
   "outputs": [
    {
     "data": {
      "text/html": [
       "<div>\n",
       "<style scoped>\n",
       "    .dataframe tbody tr th:only-of-type {\n",
       "        vertical-align: middle;\n",
       "    }\n",
       "\n",
       "    .dataframe tbody tr th {\n",
       "        vertical-align: top;\n",
       "    }\n",
       "\n",
       "    .dataframe thead th {\n",
       "        text-align: right;\n",
       "    }\n",
       "</style>\n",
       "<table border=\"1\" class=\"dataframe\">\n",
       "  <thead>\n",
       "    <tr style=\"text-align: right;\">\n",
       "      <th></th>\n",
       "      <th>imdb_score</th>\n",
       "    </tr>\n",
       "    <tr>\n",
       "      <th>director_name</th>\n",
       "      <th></th>\n",
       "    </tr>\n",
       "  </thead>\n",
       "  <tbody>\n",
       "    <tr>\n",
       "      <th>Akira Kurosawa</th>\n",
       "      <td>8.7</td>\n",
       "    </tr>\n",
       "    <tr>\n",
       "      <th>Charles Chaplin</th>\n",
       "      <td>8.6</td>\n",
       "    </tr>\n",
       "    <tr>\n",
       "      <th>Tony Kaye</th>\n",
       "      <td>8.6</td>\n",
       "    </tr>\n",
       "    <tr>\n",
       "      <th>Damien Chazelle</th>\n",
       "      <td>8.5</td>\n",
       "    </tr>\n",
       "    <tr>\n",
       "      <th>Majid Majidi</th>\n",
       "      <td>8.5</td>\n",
       "    </tr>\n",
       "  </tbody>\n",
       "</table>\n",
       "</div>"
      ],
      "text/plain": [
       "                 imdb_score\n",
       "director_name              \n",
       "Akira Kurosawa          8.7\n",
       "Charles Chaplin         8.6\n",
       "Tony Kaye               8.6\n",
       "Damien Chazelle         8.5\n",
       "Majid Majidi            8.5"
      ]
     },
     "execution_count": 1209,
     "metadata": {},
     "output_type": "execute_result"
    }
   ],
   "source": [
    "dfdirector = df.groupby('director_name').agg({'imdb_score':'mean'}).sort_values('imdb_score', ascending=False).head().reset_index().set_index('director_name')\n",
    "dfdirector"
   ]
  },
  {
   "cell_type": "code",
   "execution_count": 1210,
   "metadata": {
    "slideshow": {
     "slide_type": "subslide"
    }
   },
   "outputs": [
    {
     "data": {
      "image/png": "[encoded data removed]",
      "text/plain": [
       "<Figure size 1440x720 with 1 Axes>"
      ]
     },
     "metadata": {
      "needs_background": "light"
     },
     "output_type": "display_data"
    }
   ],
   "source": [
    "dfdirector.plot(figsize=(20,10))\n",
    "plt.ylabel('imdb score');"
   ]
  },
  {
   "cell_type": "code",
   "execution_count": 1211,
   "metadata": {
    "slideshow": {
     "slide_type": "skip"
    }
   },
   "outputs": [
    {
     "data": {
      "text/html": [
       "<div>\n",
       "<style scoped>\n",
       "    .dataframe tbody tr th:only-of-type {\n",
       "        vertical-align: middle;\n",
       "    }\n",
       "\n",
       "    .dataframe tbody tr th {\n",
       "        vertical-align: top;\n",
       "    }\n",
       "\n",
       "    .dataframe thead th {\n",
       "        text-align: right;\n",
       "    }\n",
       "</style>\n",
       "<table border=\"1\" class=\"dataframe\">\n",
       "  <thead>\n",
       "    <tr style=\"text-align: right;\">\n",
       "      <th></th>\n",
       "      <th>genres</th>\n",
       "      <th>content_rating</th>\n",
       "      <th>profit</th>\n",
       "    </tr>\n",
       "  </thead>\n",
       "  <tbody>\n",
       "    <tr>\n",
       "      <th>0</th>\n",
       "      <td>Action|Adventure|Fantasy|Sci-Fi</td>\n",
       "      <td>PG-13</td>\n",
       "      <td>523505847</td>\n",
       "    </tr>\n",
       "    <tr>\n",
       "      <th>29</th>\n",
       "      <td>Action|Adventure|Sci-Fi|Thriller</td>\n",
       "      <td>PG-13</td>\n",
       "      <td>502177271</td>\n",
       "    </tr>\n",
       "    <tr>\n",
       "      <th>26</th>\n",
       "      <td>Drama|Romance</td>\n",
       "      <td>PG-13</td>\n",
       "      <td>458672302</td>\n",
       "    </tr>\n",
       "    <tr>\n",
       "      <th>3024</th>\n",
       "      <td>Action|Adventure|Fantasy|Sci-Fi</td>\n",
       "      <td>PG</td>\n",
       "      <td>449935665</td>\n",
       "    </tr>\n",
       "    <tr>\n",
       "      <th>3080</th>\n",
       "      <td>Family|Sci-Fi</td>\n",
       "      <td>PG</td>\n",
       "      <td>424449459</td>\n",
       "    </tr>\n",
       "  </tbody>\n",
       "</table>\n",
       "</div>"
      ],
      "text/plain": [
       "                                genres content_rating     profit\n",
       "0      Action|Adventure|Fantasy|Sci-Fi          PG-13  523505847\n",
       "29    Action|Adventure|Sci-Fi|Thriller          PG-13  502177271\n",
       "26                       Drama|Romance          PG-13  458672302\n",
       "3024   Action|Adventure|Fantasy|Sci-Fi             PG  449935665\n",
       "3080                     Family|Sci-Fi             PG  424449459"
      ]
     },
     "execution_count": 1211,
     "metadata": {},
     "output_type": "execute_result"
    }
   ],
   "source": [
    "dfp = df[['genres', 'content_rating', 'profit']]\n",
    "\n",
    "dfp.sort_values('profit',ascending=False).head()\n"
   ]
  },
  {
   "cell_type": "code",
   "execution_count": 1212,
   "metadata": {
    "slideshow": {
     "slide_type": "skip"
    }
   },
   "outputs": [
    {
     "data": {
      "text/html": [
       "<div>\n",
       "<style scoped>\n",
       "    .dataframe tbody tr th:only-of-type {\n",
       "        vertical-align: middle;\n",
       "    }\n",
       "\n",
       "    .dataframe tbody tr th {\n",
       "        vertical-align: top;\n",
       "    }\n",
       "\n",
       "    .dataframe thead th {\n",
       "        text-align: right;\n",
       "    }\n",
       "</style>\n",
       "<table border=\"1\" class=\"dataframe\">\n",
       "  <thead>\n",
       "    <tr style=\"text-align: right;\">\n",
       "      <th>content_rating</th>\n",
       "      <th>G</th>\n",
       "      <th>NC-17</th>\n",
       "      <th>PG</th>\n",
       "      <th>PG-13</th>\n",
       "      <th>R</th>\n",
       "    </tr>\n",
       "    <tr>\n",
       "      <th>genres</th>\n",
       "      <th></th>\n",
       "      <th></th>\n",
       "      <th></th>\n",
       "      <th></th>\n",
       "      <th></th>\n",
       "    </tr>\n",
       "  </thead>\n",
       "  <tbody>\n",
       "    <tr>\n",
       "      <th>Action</th>\n",
       "      <td>0.0</td>\n",
       "      <td>0.0</td>\n",
       "      <td>0.0</td>\n",
       "      <td>3.255835e+07</td>\n",
       "      <td>-65247815.5</td>\n",
       "    </tr>\n",
       "    <tr>\n",
       "      <th>Action|Adventure</th>\n",
       "      <td>0.0</td>\n",
       "      <td>0.0</td>\n",
       "      <td>188122362.5</td>\n",
       "      <td>3.565297e+07</td>\n",
       "      <td>0.0</td>\n",
       "    </tr>\n",
       "    <tr>\n",
       "      <th>Action|Adventure|Animation|Comedy|Crime|Family|Fantasy</th>\n",
       "      <td>0.0</td>\n",
       "      <td>0.0</td>\n",
       "      <td>-56403089.0</td>\n",
       "      <td>0.000000e+00</td>\n",
       "      <td>0.0</td>\n",
       "    </tr>\n",
       "    <tr>\n",
       "      <th>Action|Adventure|Animation|Comedy|Drama|Family|Sci-Fi</th>\n",
       "      <td>0.0</td>\n",
       "      <td>0.0</td>\n",
       "      <td>5323508.0</td>\n",
       "      <td>0.000000e+00</td>\n",
       "      <td>0.0</td>\n",
       "    </tr>\n",
       "    <tr>\n",
       "      <th>Action|Adventure|Animation|Comedy|Family</th>\n",
       "      <td>0.0</td>\n",
       "      <td>0.0</td>\n",
       "      <td>47141083.6</td>\n",
       "      <td>0.000000e+00</td>\n",
       "      <td>0.0</td>\n",
       "    </tr>\n",
       "  </tbody>\n",
       "</table>\n",
       "</div>"
      ],
      "text/plain": [
       "content_rating                                        G  NC-17           PG  \\\n",
       "genres                                                                        \n",
       "Action                                              0.0    0.0          0.0   \n",
       "Action|Adventure                                    0.0    0.0  188122362.5   \n",
       "Action|Adventure|Animation|Comedy|Crime|Family|...  0.0    0.0  -56403089.0   \n",
       "Action|Adventure|Animation|Comedy|Drama|Family|...  0.0    0.0    5323508.0   \n",
       "Action|Adventure|Animation|Comedy|Family            0.0    0.0   47141083.6   \n",
       "\n",
       "content_rating                                             PG-13           R  \n",
       "genres                                                                        \n",
       "Action                                              3.255835e+07 -65247815.5  \n",
       "Action|Adventure                                    3.565297e+07         0.0  \n",
       "Action|Adventure|Animation|Comedy|Crime|Family|...  0.000000e+00         0.0  \n",
       "Action|Adventure|Animation|Comedy|Drama|Family|...  0.000000e+00         0.0  \n",
       "Action|Adventure|Animation|Comedy|Family            0.000000e+00         0.0  "
      ]
     },
     "execution_count": 1212,
     "metadata": {},
     "output_type": "execute_result"
    }
   ],
   "source": [
    "dfpivot = dfp.pivot_table(index='genres', columns='content_rating', values='profit', aggfunc='mean', fill_value=0)\n",
    "dfpivot.head()"
   ]
  },
  {
   "cell_type": "code",
   "execution_count": 1213,
   "metadata": {
    "slideshow": {
     "slide_type": "skip"
    }
   },
   "outputs": [
    {
     "data": {
      "text/html": [
       "<div>\n",
       "<style scoped>\n",
       "    .dataframe tbody tr th:only-of-type {\n",
       "        vertical-align: middle;\n",
       "    }\n",
       "\n",
       "    .dataframe tbody tr th {\n",
       "        vertical-align: top;\n",
       "    }\n",
       "\n",
       "    .dataframe thead th {\n",
       "        text-align: right;\n",
       "    }\n",
       "</style>\n",
       "<table border=\"1\" class=\"dataframe\">\n",
       "  <thead>\n",
       "    <tr style=\"text-align: right;\">\n",
       "      <th>content_rating</th>\n",
       "      <th>G</th>\n",
       "      <th>NC-17</th>\n",
       "      <th>PG</th>\n",
       "      <th>PG-13</th>\n",
       "      <th>R</th>\n",
       "    </tr>\n",
       "    <tr>\n",
       "      <th>title_year</th>\n",
       "      <th></th>\n",
       "      <th></th>\n",
       "      <th></th>\n",
       "      <th></th>\n",
       "      <th></th>\n",
       "    </tr>\n",
       "  </thead>\n",
       "  <tbody>\n",
       "    <tr>\n",
       "      <th>2012</th>\n",
       "      <td>0.0</td>\n",
       "      <td>0.0</td>\n",
       "      <td>1.543997e+07</td>\n",
       "      <td>2.508034e+07</td>\n",
       "      <td>1.001313e+07</td>\n",
       "    </tr>\n",
       "    <tr>\n",
       "      <th>2013</th>\n",
       "      <td>68488329.0</td>\n",
       "      <td>0.0</td>\n",
       "      <td>2.358720e+07</td>\n",
       "      <td>1.086361e+07</td>\n",
       "      <td>1.222122e+07</td>\n",
       "    </tr>\n",
       "    <tr>\n",
       "      <th>2014</th>\n",
       "      <td>28536019.0</td>\n",
       "      <td>0.0</td>\n",
       "      <td>2.586784e+07</td>\n",
       "      <td>1.494181e+07</td>\n",
       "      <td>2.058171e+07</td>\n",
       "    </tr>\n",
       "    <tr>\n",
       "      <th>2015</th>\n",
       "      <td>31174897.0</td>\n",
       "      <td>0.0</td>\n",
       "      <td>3.027407e+07</td>\n",
       "      <td>2.045725e+07</td>\n",
       "      <td>8.834144e+06</td>\n",
       "    </tr>\n",
       "    <tr>\n",
       "      <th>2016</th>\n",
       "      <td>0.0</td>\n",
       "      <td>0.0</td>\n",
       "      <td>6.007222e+07</td>\n",
       "      <td>-1.774985e+06</td>\n",
       "      <td>2.904904e+07</td>\n",
       "    </tr>\n",
       "  </tbody>\n",
       "</table>\n",
       "</div>"
      ],
      "text/plain": [
       "content_rating           G  NC-17            PG         PG-13             R\n",
       "title_year                                                                 \n",
       "2012                   0.0    0.0  1.543997e+07  2.508034e+07  1.001313e+07\n",
       "2013            68488329.0    0.0  2.358720e+07  1.086361e+07  1.222122e+07\n",
       "2014            28536019.0    0.0  2.586784e+07  1.494181e+07  2.058171e+07\n",
       "2015            31174897.0    0.0  3.027407e+07  2.045725e+07  8.834144e+06\n",
       "2016                   0.0    0.0  6.007222e+07 -1.774985e+06  2.904904e+07"
      ]
     },
     "execution_count": 1213,
     "metadata": {},
     "output_type": "execute_result"
    }
   ],
   "source": [
    "dfpivot2 = df.pivot_table(index='title_year', columns='content_rating', values='profit', aggfunc='mean', fill_value=0)\n",
    "dfpivot2.tail()"
   ]
  },
  {
   "cell_type": "code",
   "execution_count": 1214,
   "metadata": {
    "slideshow": {
     "slide_type": "skip"
    }
   },
   "outputs": [
    {
     "data": {
      "text/html": [
       "<div>\n",
       "<style scoped>\n",
       "    .dataframe tbody tr th:only-of-type {\n",
       "        vertical-align: middle;\n",
       "    }\n",
       "\n",
       "    .dataframe tbody tr th {\n",
       "        vertical-align: top;\n",
       "    }\n",
       "\n",
       "    .dataframe thead th {\n",
       "        text-align: right;\n",
       "    }\n",
       "</style>\n",
       "<table border=\"1\" class=\"dataframe\">\n",
       "  <thead>\n",
       "    <tr style=\"text-align: right;\">\n",
       "      <th>content_rating</th>\n",
       "      <th>G</th>\n",
       "      <th>NC-17</th>\n",
       "      <th>PG</th>\n",
       "      <th>PG-13</th>\n",
       "      <th>R</th>\n",
       "    </tr>\n",
       "    <tr>\n",
       "      <th>country</th>\n",
       "      <th></th>\n",
       "      <th></th>\n",
       "      <th></th>\n",
       "      <th></th>\n",
       "      <th></th>\n",
       "    </tr>\n",
       "  </thead>\n",
       "  <tbody>\n",
       "    <tr>\n",
       "      <th>OTHER</th>\n",
       "      <td>3.684781e+06</td>\n",
       "      <td>-1.248533e+07</td>\n",
       "      <td>-1.947045e+07</td>\n",
       "      <td>-4.110328e+07</td>\n",
       "      <td>-9.009730e+07</td>\n",
       "    </tr>\n",
       "    <tr>\n",
       "      <th>UK</th>\n",
       "      <td>8.257357e+06</td>\n",
       "      <td>-2.499696e+06</td>\n",
       "      <td>1.253749e+07</td>\n",
       "      <td>5.625870e+06</td>\n",
       "      <td>1.447557e+06</td>\n",
       "    </tr>\n",
       "    <tr>\n",
       "      <th>USA</th>\n",
       "      <td>4.338927e+07</td>\n",
       "      <td>1.157767e+07</td>\n",
       "      <td>2.873689e+07</td>\n",
       "      <td>1.881935e+07</td>\n",
       "      <td>1.151267e+07</td>\n",
       "    </tr>\n",
       "  </tbody>\n",
       "</table>\n",
       "</div>"
      ],
      "text/plain": [
       "content_rating             G         NC-17            PG         PG-13  \\\n",
       "country                                                                  \n",
       "OTHER           3.684781e+06 -1.248533e+07 -1.947045e+07 -4.110328e+07   \n",
       "UK              8.257357e+06 -2.499696e+06  1.253749e+07  5.625870e+06   \n",
       "USA             4.338927e+07  1.157767e+07  2.873689e+07  1.881935e+07   \n",
       "\n",
       "content_rating             R  \n",
       "country                       \n",
       "OTHER          -9.009730e+07  \n",
       "UK              1.447557e+06  \n",
       "USA             1.151267e+07  "
      ]
     },
     "execution_count": 1214,
     "metadata": {},
     "output_type": "execute_result"
    }
   ],
   "source": [
    "dfpivot = df.pivot_table(index='country', columns='content_rating', values='profit', aggfunc='mean', fill_value=0)\n",
    "dfpivot.head()"
   ]
  },
  {
   "cell_type": "code",
   "execution_count": 1215,
   "metadata": {
    "slideshow": {
     "slide_type": "subslide"
    }
   },
   "outputs": [
    {
     "data": {
      "text/html": [
       "<div>\n",
       "<style scoped>\n",
       "    .dataframe tbody tr th:only-of-type {\n",
       "        vertical-align: middle;\n",
       "    }\n",
       "\n",
       "    .dataframe tbody tr th {\n",
       "        vertical-align: top;\n",
       "    }\n",
       "\n",
       "    .dataframe thead th {\n",
       "        text-align: right;\n",
       "    }\n",
       "</style>\n",
       "<table border=\"1\" class=\"dataframe\">\n",
       "  <thead>\n",
       "    <tr style=\"text-align: right;\">\n",
       "      <th></th>\n",
       "      <th>imdb_score</th>\n",
       "    </tr>\n",
       "    <tr>\n",
       "      <th>country</th>\n",
       "      <th></th>\n",
       "    </tr>\n",
       "  </thead>\n",
       "  <tbody>\n",
       "    <tr>\n",
       "      <th>UK</th>\n",
       "      <td>6.848882</td>\n",
       "    </tr>\n",
       "    <tr>\n",
       "      <th>OTHER</th>\n",
       "      <td>6.697987</td>\n",
       "    </tr>\n",
       "    <tr>\n",
       "      <th>USA</th>\n",
       "      <td>6.390848</td>\n",
       "    </tr>\n",
       "  </tbody>\n",
       "</table>\n",
       "</div>"
      ],
      "text/plain": [
       "         imdb_score\n",
       "country            \n",
       "UK         6.848882\n",
       "OTHER      6.697987\n",
       "USA        6.390848"
      ]
     },
     "execution_count": 1215,
     "metadata": {},
     "output_type": "execute_result"
    }
   ],
   "source": [
    "dfcountry = df.groupby('country').agg({'imdb_score':'mean'}).sort_values('imdb_score', ascending=False).head().reset_index().set_index('country')\n",
    "dfcountry"
   ]
  },
  {
   "cell_type": "code",
   "execution_count": 1216,
   "metadata": {
    "slideshow": {
     "slide_type": "subslide"
    }
   },
   "outputs": [
    {
     "data": {
      "text/plain": [
       "Text(0, 0.5, 'imdb score')"
      ]
     },
     "execution_count": 1216,
     "metadata": {},
     "output_type": "execute_result"
    },
    {
     "data": {
      "image/png": "[encoded data removed]",
      "text/plain": [
       "<Figure size 720x720 with 1 Axes>"
      ]
     },
     "metadata": {
      "needs_background": "light"
     },
     "output_type": "display_data"
    }
   ],
   "source": [
    "dfcountry.plot(figsize=(10,10))\n",
    "plt.ylabel('imdb score')"
   ]
  },
  {
   "cell_type": "code",
   "execution_count": 1217,
   "metadata": {
    "slideshow": {
     "slide_type": "subslide"
    }
   },
   "outputs": [
    {
     "data": {
      "text/html": [
       "<div>\n",
       "<style scoped>\n",
       "    .dataframe tbody tr th:only-of-type {\n",
       "        vertical-align: middle;\n",
       "    }\n",
       "\n",
       "    .dataframe tbody tr th {\n",
       "        vertical-align: top;\n",
       "    }\n",
       "\n",
       "    .dataframe thead th {\n",
       "        text-align: right;\n",
       "    }\n",
       "</style>\n",
       "<table border=\"1\" class=\"dataframe\">\n",
       "  <thead>\n",
       "    <tr style=\"text-align: right;\">\n",
       "      <th></th>\n",
       "      <th>budget</th>\n",
       "    </tr>\n",
       "    <tr>\n",
       "      <th>country</th>\n",
       "      <th></th>\n",
       "    </tr>\n",
       "  </thead>\n",
       "  <tbody>\n",
       "    <tr>\n",
       "      <th>OTHER</th>\n",
       "      <td>9.214918e+07</td>\n",
       "    </tr>\n",
       "    <tr>\n",
       "      <th>USA</th>\n",
       "      <td>4.082870e+07</td>\n",
       "    </tr>\n",
       "    <tr>\n",
       "      <th>UK</th>\n",
       "      <td>3.171453e+07</td>\n",
       "    </tr>\n",
       "  </tbody>\n",
       "</table>\n",
       "</div>"
      ],
      "text/plain": [
       "               budget\n",
       "country              \n",
       "OTHER    9.214918e+07\n",
       "USA      4.082870e+07\n",
       "UK       3.171453e+07"
      ]
     },
     "execution_count": 1217,
     "metadata": {},
     "output_type": "execute_result"
    }
   ],
   "source": [
    "dfcountry2 = df.groupby('country').agg({'budget':'mean'}).sort_values('budget', ascending=False).head().reset_index().set_index('country')\n",
    "dfcountry2"
   ]
  },
  {
   "cell_type": "code",
   "execution_count": 1218,
   "metadata": {
    "slideshow": {
     "slide_type": "subslide"
    }
   },
   "outputs": [
    {
     "data": {
      "image/png": "[encoded data removed]",
      "text/plain": [
       "<Figure size 432x288 with 1 Axes>"
      ]
     },
     "metadata": {
      "needs_background": "light"
     },
     "output_type": "display_data"
    }
   ],
   "source": [
    "dfcountry2.plot(); "
   ]
  },
  {
   "cell_type": "markdown",
   "metadata": {
    "slideshow": {
     "slide_type": "subslide"
    }
   },
   "source": [
    "#### the US had the second highest budget yet also held the position for lowest average imdb score partially showing that budget cannot necessarily be used to predict a movies success"
   ]
  },
  {
   "cell_type": "code",
   "execution_count": 1219,
   "metadata": {
    "slideshow": {
     "slide_type": "skip"
    }
   },
   "outputs": [
    {
     "data": {
      "image/png": "[encoded data removed]",
      "text/plain": [
       "<Figure size 720x720 with 12 Axes>"
      ]
     },
     "metadata": {
      "needs_background": "light"
     },
     "output_type": "display_data"
    }
   ],
   "source": [
    "df.hist(figsize=(10,10));"
   ]
  },
  {
   "cell_type": "code",
   "execution_count": 1220,
   "metadata": {
    "slideshow": {
     "slide_type": "skip"
    }
   },
   "outputs": [
    {
     "data": {
      "image/png": "[encoded data removed]",
      "text/plain": [
       "<Figure size 432x288 with 1 Axes>"
      ]
     },
     "metadata": {
      "needs_background": "light"
     },
     "output_type": "display_data"
    },
    {
     "data": {
      "image/png": "[encoded data removed]",
      "text/plain": [
       "<Figure size 432x288 with 1 Axes>"
      ]
     },
     "metadata": {
      "needs_background": "light"
     },
     "output_type": "display_data"
    },
    {
     "data": {
      "image/png": "[encoded data removed]",
      "text/plain": [
       "<Figure size 432x288 with 1 Axes>"
      ]
     },
     "metadata": {
      "needs_background": "light"
     },
     "output_type": "display_data"
    }
   ],
   "source": [
    "df.groupby('country').hist('num_critic_for_reviews');\n"
   ]
  },
  {
   "cell_type": "code",
   "execution_count": 1221,
   "metadata": {
    "slideshow": {
     "slide_type": "subslide"
    }
   },
   "outputs": [
    {
     "data": {
      "text/html": [
       "<div>\n",
       "<style scoped>\n",
       "    .dataframe tbody tr th:only-of-type {\n",
       "        vertical-align: middle;\n",
       "    }\n",
       "\n",
       "    .dataframe tbody tr th {\n",
       "        vertical-align: top;\n",
       "    }\n",
       "\n",
       "    .dataframe thead th {\n",
       "        text-align: right;\n",
       "    }\n",
       "</style>\n",
       "<table border=\"1\" class=\"dataframe\">\n",
       "  <thead>\n",
       "    <tr style=\"text-align: right;\">\n",
       "      <th></th>\n",
       "      <th>imdb_score</th>\n",
       "    </tr>\n",
       "    <tr>\n",
       "      <th>num_critic_for_reviews</th>\n",
       "      <th></th>\n",
       "    </tr>\n",
       "  </thead>\n",
       "  <tbody>\n",
       "    <tr>\n",
       "      <th>645</th>\n",
       "      <td>9.0</td>\n",
       "    </tr>\n",
       "    <tr>\n",
       "      <th>642</th>\n",
       "      <td>8.8</td>\n",
       "    </tr>\n",
       "    <tr>\n",
       "      <th>712</th>\n",
       "      <td>8.6</td>\n",
       "    </tr>\n",
       "    <tr>\n",
       "      <th>813</th>\n",
       "      <td>8.5</td>\n",
       "    </tr>\n",
       "    <tr>\n",
       "      <th>765</th>\n",
       "      <td>8.5</td>\n",
       "    </tr>\n",
       "  </tbody>\n",
       "</table>\n",
       "</div>"
      ],
      "text/plain": [
       "                        imdb_score\n",
       "num_critic_for_reviews            \n",
       "645                            9.0\n",
       "642                            8.8\n",
       "712                            8.6\n",
       "813                            8.5\n",
       "765                            8.5"
      ]
     },
     "execution_count": 1221,
     "metadata": {},
     "output_type": "execute_result"
    }
   ],
   "source": [
    "dfcritic = df.groupby('num_critic_for_reviews').agg({'imdb_score':'mean'}).sort_values('imdb_score', ascending=False).head().reset_index().set_index('num_critic_for_reviews')\n",
    "dfcritic"
   ]
  },
  {
   "cell_type": "code",
   "execution_count": 1222,
   "metadata": {
    "slideshow": {
     "slide_type": "skip"
    }
   },
   "outputs": [
    {
     "data": {
      "text/plain": [
       "<matplotlib.axes._subplots.AxesSubplot at 0x1e2f70d0a58>"
      ]
     },
     "execution_count": 1222,
     "metadata": {},
     "output_type": "execute_result"
    },
    {
     "data": {
      "image/png": "[encoded data removed]",
      "text/plain": [
       "<Figure size 432x288 with 1 Axes>"
      ]
     },
     "metadata": {
      "needs_background": "light"
     },
     "output_type": "display_data"
    }
   ],
   "source": [
    "dfcritic.plot()"
   ]
  },
  {
   "cell_type": "markdown",
   "metadata": {
    "slideshow": {
     "slide_type": "slide"
    }
   },
   "source": [
    "# 5. Correlation analysis\n",
    "- corr()\n",
    "- heatmap()\n",
    "- interpretation"
   ]
  },
  {
   "cell_type": "code",
   "execution_count": 1223,
   "metadata": {
    "slideshow": {
     "slide_type": "subslide"
    }
   },
   "outputs": [
    {
     "data": {
      "text/html": [
       "<div>\n",
       "<style scoped>\n",
       "    .dataframe tbody tr th:only-of-type {\n",
       "        vertical-align: middle;\n",
       "    }\n",
       "\n",
       "    .dataframe tbody tr th {\n",
       "        vertical-align: top;\n",
       "    }\n",
       "\n",
       "    .dataframe thead th {\n",
       "        text-align: right;\n",
       "    }\n",
       "</style>\n",
       "<table border=\"1\" class=\"dataframe\">\n",
       "  <thead>\n",
       "    <tr style=\"text-align: right;\">\n",
       "      <th></th>\n",
       "      <th>num_critic_for_reviews</th>\n",
       "      <th>duration</th>\n",
       "      <th>director_facebook_likes</th>\n",
       "      <th>actor_1_facebook_likes</th>\n",
       "      <th>gross</th>\n",
       "      <th>num_voted_users</th>\n",
       "      <th>num_user_for_reviews</th>\n",
       "      <th>budget</th>\n",
       "      <th>title_year</th>\n",
       "      <th>imdb_score</th>\n",
       "      <th>profit</th>\n",
       "      <th>return_investment</th>\n",
       "    </tr>\n",
       "  </thead>\n",
       "  <tbody>\n",
       "    <tr>\n",
       "      <th>num_critic_for_reviews</th>\n",
       "      <td>1.000000</td>\n",
       "      <td>0.227606</td>\n",
       "      <td>0.175661</td>\n",
       "      <td>0.165548</td>\n",
       "      <td>0.460703</td>\n",
       "      <td>0.591518</td>\n",
       "      <td>0.562530</td>\n",
       "      <td>0.103967</td>\n",
       "      <td>0.420263</td>\n",
       "      <td>0.349584</td>\n",
       "      <td>0.037093</td>\n",
       "      <td>0.032498</td>\n",
       "    </tr>\n",
       "    <tr>\n",
       "      <th>duration</th>\n",
       "      <td>0.227606</td>\n",
       "      <td>1.000000</td>\n",
       "      <td>0.180406</td>\n",
       "      <td>0.082898</td>\n",
       "      <td>0.242625</td>\n",
       "      <td>0.338995</td>\n",
       "      <td>0.352120</td>\n",
       "      <td>0.067407</td>\n",
       "      <td>-0.131773</td>\n",
       "      <td>0.367454</td>\n",
       "      <td>0.007091</td>\n",
       "      <td>-0.033648</td>\n",
       "    </tr>\n",
       "    <tr>\n",
       "      <th>director_facebook_likes</th>\n",
       "      <td>0.175661</td>\n",
       "      <td>0.180406</td>\n",
       "      <td>1.000000</td>\n",
       "      <td>0.090420</td>\n",
       "      <td>0.139667</td>\n",
       "      <td>0.302716</td>\n",
       "      <td>0.218820</td>\n",
       "      <td>0.018110</td>\n",
       "      <td>-0.045687</td>\n",
       "      <td>0.193083</td>\n",
       "      <td>0.024431</td>\n",
       "      <td>-0.006556</td>\n",
       "    </tr>\n",
       "    <tr>\n",
       "      <th>actor_1_facebook_likes</th>\n",
       "      <td>0.165548</td>\n",
       "      <td>0.082898</td>\n",
       "      <td>0.090420</td>\n",
       "      <td>1.000000</td>\n",
       "      <td>0.142478</td>\n",
       "      <td>0.177906</td>\n",
       "      <td>0.121291</td>\n",
       "      <td>0.016039</td>\n",
       "      <td>0.096042</td>\n",
       "      <td>0.092729</td>\n",
       "      <td>0.027317</td>\n",
       "      <td>-0.016106</td>\n",
       "    </tr>\n",
       "    <tr>\n",
       "      <th>gross</th>\n",
       "      <td>0.460703</td>\n",
       "      <td>0.242625</td>\n",
       "      <td>0.139667</td>\n",
       "      <td>0.142478</td>\n",
       "      <td>1.000000</td>\n",
       "      <td>0.622643</td>\n",
       "      <td>0.545578</td>\n",
       "      <td>0.098344</td>\n",
       "      <td>0.053225</td>\n",
       "      <td>0.215275</td>\n",
       "      <td>0.205724</td>\n",
       "      <td>0.018053</td>\n",
       "    </tr>\n",
       "    <tr>\n",
       "      <th>num_voted_users</th>\n",
       "      <td>0.591518</td>\n",
       "      <td>0.338995</td>\n",
       "      <td>0.302716</td>\n",
       "      <td>0.177906</td>\n",
       "      <td>0.622643</td>\n",
       "      <td>1.000000</td>\n",
       "      <td>0.779149</td>\n",
       "      <td>0.065418</td>\n",
       "      <td>0.023571</td>\n",
       "      <td>0.482508</td>\n",
       "      <td>0.123977</td>\n",
       "      <td>0.009815</td>\n",
       "    </tr>\n",
       "    <tr>\n",
       "      <th>num_user_for_reviews</th>\n",
       "      <td>0.562530</td>\n",
       "      <td>0.352120</td>\n",
       "      <td>0.218820</td>\n",
       "      <td>0.121291</td>\n",
       "      <td>0.545578</td>\n",
       "      <td>0.779149</td>\n",
       "      <td>1.000000</td>\n",
       "      <td>0.070289</td>\n",
       "      <td>0.020133</td>\n",
       "      <td>0.324884</td>\n",
       "      <td>0.095880</td>\n",
       "      <td>0.068160</td>\n",
       "    </tr>\n",
       "    <tr>\n",
       "      <th>budget</th>\n",
       "      <td>0.103967</td>\n",
       "      <td>0.067407</td>\n",
       "      <td>0.018110</td>\n",
       "      <td>0.016039</td>\n",
       "      <td>0.098344</td>\n",
       "      <td>0.065418</td>\n",
       "      <td>0.070289</td>\n",
       "      <td>1.000000</td>\n",
       "      <td>0.046380</td>\n",
       "      <td>0.029574</td>\n",
       "      <td>-0.953634</td>\n",
       "      <td>-0.008114</td>\n",
       "    </tr>\n",
       "    <tr>\n",
       "      <th>title_year</th>\n",
       "      <td>0.420263</td>\n",
       "      <td>-0.131773</td>\n",
       "      <td>-0.045687</td>\n",
       "      <td>0.096042</td>\n",
       "      <td>0.053225</td>\n",
       "      <td>0.023571</td>\n",
       "      <td>0.020133</td>\n",
       "      <td>0.046380</td>\n",
       "      <td>1.000000</td>\n",
       "      <td>-0.132427</td>\n",
       "      <td>-0.029512</td>\n",
       "      <td>-0.015422</td>\n",
       "    </tr>\n",
       "    <tr>\n",
       "      <th>imdb_score</th>\n",
       "      <td>0.349584</td>\n",
       "      <td>0.367454</td>\n",
       "      <td>0.193083</td>\n",
       "      <td>0.092729</td>\n",
       "      <td>0.215275</td>\n",
       "      <td>0.482508</td>\n",
       "      <td>0.324884</td>\n",
       "      <td>0.029574</td>\n",
       "      <td>-0.132427</td>\n",
       "      <td>1.000000</td>\n",
       "      <td>0.036024</td>\n",
       "      <td>0.010047</td>\n",
       "    </tr>\n",
       "    <tr>\n",
       "      <th>profit</th>\n",
       "      <td>0.037093</td>\n",
       "      <td>0.007091</td>\n",
       "      <td>0.024431</td>\n",
       "      <td>0.027317</td>\n",
       "      <td>0.205724</td>\n",
       "      <td>0.123977</td>\n",
       "      <td>0.095880</td>\n",
       "      <td>-0.953634</td>\n",
       "      <td>-0.029512</td>\n",
       "      <td>0.036024</td>\n",
       "      <td>1.000000</td>\n",
       "      <td>0.013439</td>\n",
       "    </tr>\n",
       "    <tr>\n",
       "      <th>return_investment</th>\n",
       "      <td>0.032498</td>\n",
       "      <td>-0.033648</td>\n",
       "      <td>-0.006556</td>\n",
       "      <td>-0.016106</td>\n",
       "      <td>0.018053</td>\n",
       "      <td>0.009815</td>\n",
       "      <td>0.068160</td>\n",
       "      <td>-0.008114</td>\n",
       "      <td>-0.015422</td>\n",
       "      <td>0.010047</td>\n",
       "      <td>0.013439</td>\n",
       "      <td>1.000000</td>\n",
       "    </tr>\n",
       "  </tbody>\n",
       "</table>\n",
       "</div>"
      ],
      "text/plain": [
       "                         num_critic_for_reviews  duration  \\\n",
       "num_critic_for_reviews                 1.000000  0.227606   \n",
       "duration                               0.227606  1.000000   \n",
       "director_facebook_likes                0.175661  0.180406   \n",
       "actor_1_facebook_likes                 0.165548  0.082898   \n",
       "gross                                  0.460703  0.242625   \n",
       "num_voted_users                        0.591518  0.338995   \n",
       "num_user_for_reviews                   0.562530  0.352120   \n",
       "budget                                 0.103967  0.067407   \n",
       "title_year                             0.420263 -0.131773   \n",
       "imdb_score                             0.349584  0.367454   \n",
       "profit                                 0.037093  0.007091   \n",
       "return_investment                      0.032498 -0.033648   \n",
       "\n",
       "                         director_facebook_likes  actor_1_facebook_likes  \\\n",
       "num_critic_for_reviews                  0.175661                0.165548   \n",
       "duration                                0.180406                0.082898   \n",
       "director_facebook_likes                 1.000000                0.090420   \n",
       "actor_1_facebook_likes                  0.090420                1.000000   \n",
       "gross                                   0.139667                0.142478   \n",
       "num_voted_users                         0.302716                0.177906   \n",
       "num_user_for_reviews                    0.218820                0.121291   \n",
       "budget                                  0.018110                0.016039   \n",
       "title_year                             -0.045687                0.096042   \n",
       "imdb_score                              0.193083                0.092729   \n",
       "profit                                  0.024431                0.027317   \n",
       "return_investment                      -0.006556               -0.016106   \n",
       "\n",
       "                            gross  num_voted_users  num_user_for_reviews  \\\n",
       "num_critic_for_reviews   0.460703         0.591518              0.562530   \n",
       "duration                 0.242625         0.338995              0.352120   \n",
       "director_facebook_likes  0.139667         0.302716              0.218820   \n",
       "actor_1_facebook_likes   0.142478         0.177906              0.121291   \n",
       "gross                    1.000000         0.622643              0.545578   \n",
       "num_voted_users          0.622643         1.000000              0.779149   \n",
       "num_user_for_reviews     0.545578         0.779149              1.000000   \n",
       "budget                   0.098344         0.065418              0.070289   \n",
       "title_year               0.053225         0.023571              0.020133   \n",
       "imdb_score               0.215275         0.482508              0.324884   \n",
       "profit                   0.205724         0.123977              0.095880   \n",
       "return_investment        0.018053         0.009815              0.068160   \n",
       "\n",
       "                           budget  title_year  imdb_score    profit  \\\n",
       "num_critic_for_reviews   0.103967    0.420263    0.349584  0.037093   \n",
       "duration                 0.067407   -0.131773    0.367454  0.007091   \n",
       "director_facebook_likes  0.018110   -0.045687    0.193083  0.024431   \n",
       "actor_1_facebook_likes   0.016039    0.096042    0.092729  0.027317   \n",
       "gross                    0.098344    0.053225    0.215275  0.205724   \n",
       "num_voted_users          0.065418    0.023571    0.482508  0.123977   \n",
       "num_user_for_reviews     0.070289    0.020133    0.324884  0.095880   \n",
       "budget                   1.000000    0.046380    0.029574 -0.953634   \n",
       "title_year               0.046380    1.000000   -0.132427 -0.029512   \n",
       "imdb_score               0.029574   -0.132427    1.000000  0.036024   \n",
       "profit                  -0.953634   -0.029512    0.036024  1.000000   \n",
       "return_investment       -0.008114   -0.015422    0.010047  0.013439   \n",
       "\n",
       "                         return_investment  \n",
       "num_critic_for_reviews            0.032498  \n",
       "duration                         -0.033648  \n",
       "director_facebook_likes          -0.006556  \n",
       "actor_1_facebook_likes           -0.016106  \n",
       "gross                             0.018053  \n",
       "num_voted_users                   0.009815  \n",
       "num_user_for_reviews              0.068160  \n",
       "budget                           -0.008114  \n",
       "title_year                       -0.015422  \n",
       "imdb_score                        0.010047  \n",
       "profit                            0.013439  \n",
       "return_investment                 1.000000  "
      ]
     },
     "execution_count": 1223,
     "metadata": {},
     "output_type": "execute_result"
    }
   ],
   "source": [
    "df.corr()"
   ]
  },
  {
   "cell_type": "code",
   "execution_count": 1224,
   "metadata": {
    "slideshow": {
     "slide_type": "subslide"
    }
   },
   "outputs": [
    {
     "data": {
      "image/png": "[encoded data removed]",
      "text/plain": [
       "<Figure size 1008x720 with 2 Axes>"
      ]
     },
     "metadata": {
      "needs_background": "light"
     },
     "output_type": "display_data"
    }
   ],
   "source": [
    "plt.figure(figsize=(14,10))\n",
    "sns.heatmap(df.corr(), vmax=.8, square=True, annot=True, fmt=\".1f\");"
   ]
  },
  {
   "cell_type": "markdown",
   "metadata": {
    "slideshow": {
     "slide_type": "slide"
    }
   },
   "source": [
    "### There is a relatively strong correlation between the number of votes and reviews conducted by users and the overall success of the movie in terms of of it's gross earnings. \n",
    "### There is also a positive correlation between the imdb score and the number of votes a movie has recieved.\n",
    "### After viewing and attempting to analyze this data it became clear that predicting a movie's success is difficult as there is no secret to success.\n",
    "### it is clear that there is a strong correlation between nonfiction films and a positive imdb score."
   ]
  },
  {
   "cell_type": "markdown",
   "metadata": {
    "slideshow": {
     "slide_type": "slide"
    }
   },
   "source": [
    "# 6. Regression Model Building"
   ]
  },
  {
   "cell_type": "markdown",
   "metadata": {
    "slideshow": {
     "slide_type": "subslide"
    }
   },
   "source": [
    "### Scikit model"
   ]
  },
  {
   "cell_type": "code",
   "execution_count": 1225,
   "metadata": {
    "slideshow": {
     "slide_type": "subslide"
    }
   },
   "outputs": [],
   "source": [
    "y = df['imdb_score'] \n",
    "X = df[['num_critic_for_reviews','duration','director_facebook_likes', 'actor_1_facebook_likes', 'gross','num_voted_users','num_user_for_reviews','budget','title_year','profit','return_investment']]"
   ]
  },
  {
   "cell_type": "code",
   "execution_count": 1226,
   "metadata": {
    "slideshow": {
     "slide_type": "skip"
    }
   },
   "outputs": [
    {
     "data": {
      "text/plain": [
       "0    7.9\n",
       "1    7.1\n",
       "Name: imdb_score, dtype: float64"
      ]
     },
     "execution_count": 1226,
     "metadata": {},
     "output_type": "execute_result"
    }
   ],
   "source": [
    "y.head(2)"
   ]
  },
  {
   "cell_type": "code",
   "execution_count": 1227,
   "metadata": {
    "slideshow": {
     "slide_type": "skip"
    }
   },
   "outputs": [
    {
     "data": {
      "text/html": [
       "<div>\n",
       "<style scoped>\n",
       "    .dataframe tbody tr th:only-of-type {\n",
       "        vertical-align: middle;\n",
       "    }\n",
       "\n",
       "    .dataframe tbody tr th {\n",
       "        vertical-align: top;\n",
       "    }\n",
       "\n",
       "    .dataframe thead th {\n",
       "        text-align: right;\n",
       "    }\n",
       "</style>\n",
       "<table border=\"1\" class=\"dataframe\">\n",
       "  <thead>\n",
       "    <tr style=\"text-align: right;\">\n",
       "      <th></th>\n",
       "      <th>num_critic_for_reviews</th>\n",
       "      <th>duration</th>\n",
       "      <th>director_facebook_likes</th>\n",
       "      <th>actor_1_facebook_likes</th>\n",
       "      <th>gross</th>\n",
       "      <th>num_voted_users</th>\n",
       "      <th>num_user_for_reviews</th>\n",
       "      <th>budget</th>\n",
       "      <th>title_year</th>\n",
       "      <th>profit</th>\n",
       "      <th>return_investment</th>\n",
       "    </tr>\n",
       "  </thead>\n",
       "  <tbody>\n",
       "    <tr>\n",
       "      <th>0</th>\n",
       "      <td>723</td>\n",
       "      <td>178</td>\n",
       "      <td>0</td>\n",
       "      <td>1000</td>\n",
       "      <td>760505847</td>\n",
       "      <td>886204</td>\n",
       "      <td>3054</td>\n",
       "      <td>237000000</td>\n",
       "      <td>2009</td>\n",
       "      <td>523505847</td>\n",
       "      <td>220.888543</td>\n",
       "    </tr>\n",
       "    <tr>\n",
       "      <th>1</th>\n",
       "      <td>302</td>\n",
       "      <td>169</td>\n",
       "      <td>563</td>\n",
       "      <td>40000</td>\n",
       "      <td>309404152</td>\n",
       "      <td>471220</td>\n",
       "      <td>1238</td>\n",
       "      <td>300000000</td>\n",
       "      <td>2007</td>\n",
       "      <td>9404152</td>\n",
       "      <td>3.134717</td>\n",
       "    </tr>\n",
       "  </tbody>\n",
       "</table>\n",
       "</div>"
      ],
      "text/plain": [
       "   num_critic_for_reviews  duration  director_facebook_likes  \\\n",
       "0                     723       178                        0   \n",
       "1                     302       169                      563   \n",
       "\n",
       "   actor_1_facebook_likes      gross  num_voted_users  num_user_for_reviews  \\\n",
       "0                    1000  760505847           886204                  3054   \n",
       "1                   40000  309404152           471220                  1238   \n",
       "\n",
       "      budget  title_year     profit  return_investment  \n",
       "0  237000000        2009  523505847         220.888543  \n",
       "1  300000000        2007    9404152           3.134717  "
      ]
     },
     "execution_count": 1227,
     "metadata": {},
     "output_type": "execute_result"
    }
   ],
   "source": [
    "X.head(2)"
   ]
  },
  {
   "cell_type": "code",
   "execution_count": 1228,
   "metadata": {
    "slideshow": {
     "slide_type": "skip"
    }
   },
   "outputs": [],
   "source": [
    "model1 = lm.LinearRegression()\n",
    "model1.fit(X, y)   \n",
    "model1_y = model1.predict(X)"
   ]
  },
  {
   "cell_type": "code",
   "execution_count": 1229,
   "metadata": {
    "slideshow": {
     "slide_type": "subslide"
    }
   },
   "outputs": [
    {
     "name": "stdout",
     "output_type": "stream",
     "text": [
      "Coefficients:  [ 2.45374296e-03  9.97941393e-03  2.96792647e-06  4.34856663e-07\n",
      " -9.69457204e+03  3.59376754e-06 -5.86686898e-04  9.69457204e+03\n",
      " -2.38040513e-02  9.69457204e+03  1.42712104e-06]\n",
      "y-intercept  52.571314011296735\n"
     ]
    }
   ],
   "source": [
    "print('Coefficients: ', model1.coef_)\n",
    "print(\"y-intercept \", model1.intercept_)"
   ]
  },
  {
   "cell_type": "code",
   "execution_count": 1230,
   "metadata": {
    "slideshow": {
     "slide_type": "subslide"
    }
   },
   "outputs": [
    {
     "data": {
      "text/html": [
       "<div>\n",
       "<style scoped>\n",
       "    .dataframe tbody tr th:only-of-type {\n",
       "        vertical-align: middle;\n",
       "    }\n",
       "\n",
       "    .dataframe tbody tr th {\n",
       "        vertical-align: top;\n",
       "    }\n",
       "\n",
       "    .dataframe thead th {\n",
       "        text-align: right;\n",
       "    }\n",
       "</style>\n",
       "<table border=\"1\" class=\"dataframe\">\n",
       "  <thead>\n",
       "    <tr style=\"text-align: right;\">\n",
       "      <th></th>\n",
       "      <th>0</th>\n",
       "      <th>1</th>\n",
       "    </tr>\n",
       "  </thead>\n",
       "  <tbody>\n",
       "    <tr>\n",
       "      <th>0</th>\n",
       "      <td>num_critic_for_reviews</td>\n",
       "      <td>2.453743e-03</td>\n",
       "    </tr>\n",
       "    <tr>\n",
       "      <th>1</th>\n",
       "      <td>duration</td>\n",
       "      <td>9.979414e-03</td>\n",
       "    </tr>\n",
       "    <tr>\n",
       "      <th>2</th>\n",
       "      <td>director_facebook_likes</td>\n",
       "      <td>2.967926e-06</td>\n",
       "    </tr>\n",
       "    <tr>\n",
       "      <th>3</th>\n",
       "      <td>actor_1_facebook_likes</td>\n",
       "      <td>4.348567e-07</td>\n",
       "    </tr>\n",
       "    <tr>\n",
       "      <th>4</th>\n",
       "      <td>gross</td>\n",
       "      <td>-9.694572e+03</td>\n",
       "    </tr>\n",
       "    <tr>\n",
       "      <th>5</th>\n",
       "      <td>num_voted_users</td>\n",
       "      <td>3.593768e-06</td>\n",
       "    </tr>\n",
       "    <tr>\n",
       "      <th>6</th>\n",
       "      <td>num_user_for_reviews</td>\n",
       "      <td>-5.866869e-04</td>\n",
       "    </tr>\n",
       "    <tr>\n",
       "      <th>7</th>\n",
       "      <td>budget</td>\n",
       "      <td>9.694572e+03</td>\n",
       "    </tr>\n",
       "    <tr>\n",
       "      <th>8</th>\n",
       "      <td>title_year</td>\n",
       "      <td>-2.380405e-02</td>\n",
       "    </tr>\n",
       "    <tr>\n",
       "      <th>9</th>\n",
       "      <td>profit</td>\n",
       "      <td>9.694572e+03</td>\n",
       "    </tr>\n",
       "    <tr>\n",
       "      <th>10</th>\n",
       "      <td>return_investment</td>\n",
       "      <td>1.427121e-06</td>\n",
       "    </tr>\n",
       "  </tbody>\n",
       "</table>\n",
       "</div>"
      ],
      "text/plain": [
       "                          0             1\n",
       "0    num_critic_for_reviews  2.453743e-03\n",
       "1                  duration  9.979414e-03\n",
       "2   director_facebook_likes  2.967926e-06\n",
       "3    actor_1_facebook_likes  4.348567e-07\n",
       "4                     gross -9.694572e+03\n",
       "5           num_voted_users  3.593768e-06\n",
       "6      num_user_for_reviews -5.866869e-04\n",
       "7                    budget  9.694572e+03\n",
       "8                title_year -2.380405e-02\n",
       "9                    profit  9.694572e+03\n",
       "10        return_investment  1.427121e-06"
      ]
     },
     "execution_count": 1230,
     "metadata": {},
     "output_type": "execute_result"
    }
   ],
   "source": [
    "pd.DataFrame(list(zip(X.columns, np.transpose(model1.coef_))))"
   ]
  },
  {
   "cell_type": "code",
   "execution_count": 1231,
   "metadata": {
    "slideshow": {
     "slide_type": "subslide"
    }
   },
   "outputs": [
    {
     "data": {
      "text/plain": [
       "[('num_critic_for_reviews', '0.002'),\n",
       " ('duration', '0.010'),\n",
       " ('director_facebook_likes', '0.000'),\n",
       " ('actor_1_facebook_likes', '0.000'),\n",
       " ('gross', '-9694.572'),\n",
       " ('num_voted_users', '0.000'),\n",
       " ('num_user_for_reviews', '-0.001'),\n",
       " ('budget', '9694.572'),\n",
       " ('title_year', '-0.024'),\n",
       " ('profit', '9694.572'),\n",
       " ('return_investment', '0.000')]"
      ]
     },
     "execution_count": 1231,
     "metadata": {},
     "output_type": "execute_result"
    }
   ],
   "source": [
    "coef = [\"%.3f\" % i for i in model1.coef_]\n",
    "xcolumns = [ i for i in X.columns ]\n",
    "list(zip(xcolumns, coef))"
   ]
  },
  {
   "cell_type": "code",
   "execution_count": 1232,
   "metadata": {
    "slideshow": {
     "slide_type": "subslide"
    }
   },
   "outputs": [
    {
     "name": "stdout",
     "output_type": "stream",
     "text": [
      "mean square error:  0.7180385455434948\n",
      "variance or r-squared:  0.35271523008655703\n"
     ]
    }
   ],
   "source": [
    "print(\"mean square error: \", mean_squared_error(y, model1_y))\n",
    "print(\"variance or r-squared: \", explained_variance_score(y, model1_y))"
   ]
  },
  {
   "cell_type": "code",
   "execution_count": 1233,
   "metadata": {
    "slideshow": {
     "slide_type": "subslide"
    }
   },
   "outputs": [
    {
     "data": {
      "image/png": "[encoded data removed]",
      "text/plain": [
       "<Figure size 432x288 with 2 Axes>"
      ]
     },
     "metadata": {
      "needs_background": "light"
     },
     "output_type": "display_data"
    },
    {
     "data": {
      "text/plain": [
       "<matplotlib.axes._subplots.AxesSubplot at 0x1e2f738d198>"
      ]
     },
     "execution_count": 1233,
     "metadata": {},
     "output_type": "execute_result"
    }
   ],
   "source": [
    "from yellowbrick.regressor import ResidualsPlot\n",
    "\n",
    "y = df['imdb_score'] \n",
    "X = df[['num_critic_for_reviews','duration','director_facebook_likes', 'actor_1_facebook_likes', 'gross','num_voted_users','num_user_for_reviews','budget','title_year','profit','return_investment']]\n",
    "\n",
    "regre = lm.LinearRegression()\n",
    "visualizer = ResidualsPlot(regre)\n",
    "\n",
    "visualizer.fit(X, y)  \n",
    "\n",
    "visualizer.poof()   "
   ]
  },
  {
   "cell_type": "markdown",
   "metadata": {
    "slideshow": {
     "slide_type": "slide"
    }
   },
   "source": [
    "### Statmodel"
   ]
  },
  {
   "cell_type": "code",
   "execution_count": 1234,
   "metadata": {
    "slideshow": {
     "slide_type": "subslide"
    }
   },
   "outputs": [
    {
     "name": "stdout",
     "output_type": "stream",
     "text": [
      "                            OLS Regression Results                            \n",
      "==============================================================================\n",
      "Dep. Variable:             imdb_score   R-squared:                       0.353\n",
      "Model:                            OLS   Adj. R-squared:                  0.351\n",
      "Method:                 Least Squares   F-statistic:                     202.2\n",
      "Date:                Tue, 10 Dec 2019   Prob (F-statistic):               0.00\n",
      "Time:                        23:36:28   Log-Likelihood:                -4663.6\n",
      "No. Observations:                3721   AIC:                             9349.\n",
      "Df Residuals:                    3710   BIC:                             9418.\n",
      "Df Model:                          10                                         \n",
      "Covariance Type:            nonrobust                                         \n",
      "===========================================================================================\n",
      "                              coef    std err          t      P>|t|      [0.025      0.975]\n",
      "-------------------------------------------------------------------------------------------\n",
      "Intercept                  52.5770      3.357     15.662      0.000      45.995      59.159\n",
      "num_critic_for_reviews      0.0024      0.000     14.507      0.000       0.002       0.003\n",
      "duration                    0.0100      0.001     14.776      0.000       0.009       0.011\n",
      "director_facebook_likes  2.968e-06   4.79e-06      0.620      0.535   -6.42e-06    1.24e-05\n",
      "actor_1_facebook_likes   4.394e-07   9.16e-07      0.480      0.631   -1.36e-06    2.24e-06\n",
      "gross                   -2.921e-06   1.86e-07    -15.670      0.000   -3.29e-06   -2.56e-06\n",
      "num_voted_users          3.595e-06   1.69e-07     21.269      0.000    3.26e-06    3.93e-06\n",
      "num_user_for_reviews       -0.0006   5.65e-05    -10.383      0.000      -0.001      -0.000\n",
      "budget                   2.919e-06   1.86e-07     15.658      0.000    2.55e-06    3.28e-06\n",
      "title_year                 -0.0238      0.002    -14.218      0.000      -0.027      -0.021\n",
      "profit                   2.919e-06   1.86e-07     15.658      0.000    2.55e-06    3.28e-06\n",
      "return_investment        1.427e-06   1.06e-06      1.350      0.177   -6.46e-07     3.5e-06\n",
      "==============================================================================\n",
      "Omnibus:                      526.822   Durbin-Watson:                   1.854\n",
      "Prob(Omnibus):                  0.000   Jarque-Bera (JB):             1040.609\n",
      "Skew:                          -0.875   Prob(JB):                    1.08e-226\n",
      "Kurtosis:                       4.911   Cond. No.                     1.83e+16\n",
      "==============================================================================\n",
      "\n",
      "Warnings:\n",
      "[1] Standard Errors assume that the covariance matrix of the errors is correctly specified.\n",
      "[2] The smallest eigenvalue is 1.15e-12. This might indicate that there are\n",
      "strong multicollinearity problems or that the design matrix is singular.\n"
     ]
    }
   ],
   "source": [
    "runs_reg_model = ols(\"imdb_score~num_critic_for_reviews+duration+director_facebook_likes+actor_1_facebook_likes+gross+num_voted_users+num_user_for_reviews+budget+title_year+profit+return_investment\",df)\n",
    "runs_reg = runs_reg_model.fit()\n",
    "print(runs_reg.summary())"
   ]
  },
  {
   "cell_type": "code",
   "execution_count": 1235,
   "metadata": {
    "slideshow": {
     "slide_type": "skip"
    }
   },
   "outputs": [
    {
     "data": {
      "text/plain": [
       "0.7201644460503904"
      ]
     },
     "execution_count": 1235,
     "metadata": {},
     "output_type": "execute_result"
    }
   ],
   "source": [
    "runs_reg.mse_resid"
   ]
  },
  {
   "cell_type": "code",
   "execution_count": 1236,
   "metadata": {
    "slideshow": {
     "slide_type": "skip"
    }
   },
   "outputs": [
    {
     "data": {
      "text/plain": [
       "Intercept                  5.257701e+01\n",
       "num_critic_for_reviews     2.449844e-03\n",
       "duration                   9.973568e-03\n",
       "director_facebook_likes    2.968125e-06\n",
       "actor_1_facebook_likes     4.393816e-07\n",
       "gross                     -2.921372e-06\n",
       "num_voted_users            3.595233e-06\n",
       "num_user_for_reviews      -5.867459e-04\n",
       "budget                     2.918985e-06\n",
       "title_year                -2.380659e-02\n",
       "profit                     2.919017e-06\n",
       "return_investment          1.427269e-06\n",
       "dtype: float64"
      ]
     },
     "execution_count": 1236,
     "metadata": {},
     "output_type": "execute_result"
    }
   ],
   "source": [
    "runs_reg.params"
   ]
  },
  {
   "cell_type": "markdown",
   "metadata": {
    "slideshow": {
     "slide_type": "slide"
    }
   },
   "source": [
    "### Regression based on regularization"
   ]
  },
  {
   "cell_type": "code",
   "execution_count": 1237,
   "metadata": {
    "slideshow": {
     "slide_type": "skip"
    }
   },
   "outputs": [],
   "source": [
    "y = df['imdb_score'] \n",
    "X = df[['num_critic_for_reviews','duration','director_facebook_likes', 'actor_1_facebook_likes', 'gross','num_voted_users','num_user_for_reviews','budget','title_year','profit','return_investment']]"
   ]
  },
  {
   "cell_type": "code",
   "execution_count": 1238,
   "metadata": {
    "slideshow": {
     "slide_type": "skip"
    }
   },
   "outputs": [],
   "source": [
    "model1 = linear_model.Lasso(alpha=0.1)             \n",
    "model1.fit(X, y)\n",
    "model1_y = model1.predict(X)\n",
    "import warnings\n",
    "warnings.filterwarnings(\"ignore\")"
   ]
  },
  {
   "cell_type": "code",
   "execution_count": 1239,
   "metadata": {
    "slideshow": {
     "slide_type": "subslide"
    }
   },
   "outputs": [
    {
     "name": "stdout",
     "output_type": "stream",
     "text": [
      "Coefficients:  [ 2.36417958e-03  9.84487680e-03  3.33338436e-06  4.00379131e-07\n",
      " -2.05039946e-09  3.61702146e-06 -5.77384256e-04 -3.27818599e-10\n",
      " -2.23827749e-02 -2.96305167e-10  1.43842383e-06]\n",
      "y-intercept  49.747750574471375\n"
     ]
    }
   ],
   "source": [
    "print('Coefficients: ', model1.coef_)\n",
    "print(\"y-intercept \", model1.intercept_)"
   ]
  },
  {
   "cell_type": "code",
   "execution_count": 1240,
   "metadata": {
    "slideshow": {
     "slide_type": "subslide"
    }
   },
   "outputs": [
    {
     "data": {
      "text/plain": [
       "[('num_critic_for_reviews', '0.002'),\n",
       " ('duration', '0.010'),\n",
       " ('director_facebook_likes', '0.000'),\n",
       " ('actor_1_facebook_likes', '0.000'),\n",
       " ('gross', '-0.000'),\n",
       " ('num_voted_users', '0.000'),\n",
       " ('num_user_for_reviews', '-0.001'),\n",
       " ('budget', '-0.000'),\n",
       " ('title_year', '-0.022'),\n",
       " ('profit', '-0.000'),\n",
       " ('return_investment', '0.000')]"
      ]
     },
     "execution_count": 1240,
     "metadata": {},
     "output_type": "execute_result"
    }
   ],
   "source": [
    "coef = [\"%.3f\" % i for i in model1.coef_]\n",
    "xcolumns = [ i for i in X.columns ]\n",
    "list(zip(xcolumns, coef))"
   ]
  },
  {
   "cell_type": "code",
   "execution_count": 1241,
   "metadata": {
    "slideshow": {
     "slide_type": "subslide"
    }
   },
   "outputs": [
    {
     "name": "stdout",
     "output_type": "stream",
     "text": [
      "mean square error:  0.7182002171224275\n",
      "variance or r-squared:  0.3525694881637945\n"
     ]
    }
   ],
   "source": [
    "print(\"mean square error: \", mean_squared_error(y, model1_y))\n",
    "print(\"variance or r-squared: \", explained_variance_score(y, model1_y))"
   ]
  },
  {
   "cell_type": "markdown",
   "metadata": {
    "slideshow": {
     "slide_type": "slide"
    }
   },
   "source": [
    "### Feature Selection"
   ]
  },
  {
   "cell_type": "code",
   "execution_count": 1242,
   "metadata": {
    "slideshow": {
     "slide_type": "subslide"
    }
   },
   "outputs": [
    {
     "data": {
      "text/plain": [
       "array([[1.780000e+02, 8.862040e+05],\n",
       "       [1.690000e+02, 4.712200e+05],\n",
       "       [1.480000e+02, 2.758680e+05],\n",
       "       [1.640000e+02, 1.144337e+06],\n",
       "       [1.320000e+02, 2.122040e+05]])"
      ]
     },
     "execution_count": 1242,
     "metadata": {},
     "output_type": "execute_result"
    }
   ],
   "source": [
    "X_new = SelectKBest(f_regression, k=2).fit_transform(X, y)\n",
    "X_new[:5]"
   ]
  },
  {
   "cell_type": "code",
   "execution_count": 1243,
   "metadata": {
    "slideshow": {
     "slide_type": "subslide"
    }
   },
   "outputs": [
    {
     "name": "stdout",
     "output_type": "stream",
     "text": [
      "[1 5]\n"
     ]
    }
   ],
   "source": [
    "selector = SelectKBest(f_regression, k=2).fit(X, y)\n",
    "idxs_selected = selector.get_support(indices=True)\n",
    "print(idxs_selected)"
   ]
  },
  {
   "cell_type": "code",
   "execution_count": 1244,
   "metadata": {
    "slideshow": {
     "slide_type": "subslide"
    }
   },
   "outputs": [
    {
     "data": {
      "text/html": [
       "<div>\n",
       "<style scoped>\n",
       "    .dataframe tbody tr th:only-of-type {\n",
       "        vertical-align: middle;\n",
       "    }\n",
       "\n",
       "    .dataframe tbody tr th {\n",
       "        vertical-align: top;\n",
       "    }\n",
       "\n",
       "    .dataframe thead th {\n",
       "        text-align: right;\n",
       "    }\n",
       "</style>\n",
       "<table border=\"1\" class=\"dataframe\">\n",
       "  <thead>\n",
       "    <tr style=\"text-align: right;\">\n",
       "      <th></th>\n",
       "      <th>num_critic_for_reviews</th>\n",
       "      <th>duration</th>\n",
       "      <th>director_facebook_likes</th>\n",
       "      <th>actor_1_facebook_likes</th>\n",
       "      <th>gross</th>\n",
       "      <th>num_voted_users</th>\n",
       "      <th>num_user_for_reviews</th>\n",
       "      <th>budget</th>\n",
       "      <th>title_year</th>\n",
       "      <th>profit</th>\n",
       "      <th>return_investment</th>\n",
       "    </tr>\n",
       "  </thead>\n",
       "  <tbody>\n",
       "    <tr>\n",
       "      <th>0</th>\n",
       "      <td>723</td>\n",
       "      <td>178</td>\n",
       "      <td>0</td>\n",
       "      <td>1000</td>\n",
       "      <td>760505847</td>\n",
       "      <td>886204</td>\n",
       "      <td>3054</td>\n",
       "      <td>237000000</td>\n",
       "      <td>2009</td>\n",
       "      <td>523505847</td>\n",
       "      <td>220.888543</td>\n",
       "    </tr>\n",
       "    <tr>\n",
       "      <th>1</th>\n",
       "      <td>302</td>\n",
       "      <td>169</td>\n",
       "      <td>563</td>\n",
       "      <td>40000</td>\n",
       "      <td>309404152</td>\n",
       "      <td>471220</td>\n",
       "      <td>1238</td>\n",
       "      <td>300000000</td>\n",
       "      <td>2007</td>\n",
       "      <td>9404152</td>\n",
       "      <td>3.134717</td>\n",
       "    </tr>\n",
       "  </tbody>\n",
       "</table>\n",
       "</div>"
      ],
      "text/plain": [
       "   num_critic_for_reviews  duration  director_facebook_likes  \\\n",
       "0                     723       178                        0   \n",
       "1                     302       169                      563   \n",
       "\n",
       "   actor_1_facebook_likes      gross  num_voted_users  num_user_for_reviews  \\\n",
       "0                    1000  760505847           886204                  3054   \n",
       "1                   40000  309404152           471220                  1238   \n",
       "\n",
       "      budget  title_year     profit  return_investment  \n",
       "0  237000000        2009  523505847         220.888543  \n",
       "1  300000000        2007    9404152           3.134717  "
      ]
     },
     "execution_count": 1244,
     "metadata": {},
     "output_type": "execute_result"
    }
   ],
   "source": [
    "X.head(2)"
   ]
  },
  {
   "cell_type": "markdown",
   "metadata": {
    "slideshow": {
     "slide_type": "subslide"
    }
   },
   "source": [
    "- Feature selection has chosen \"duration\" and \"num_voted_users\" as the most important predictors"
   ]
  },
  {
   "cell_type": "code",
   "execution_count": 1245,
   "metadata": {
    "slideshow": {
     "slide_type": "subslide"
    }
   },
   "outputs": [
    {
     "name": "stdout",
     "output_type": "stream",
     "text": [
      "mean square error:  0.7989452581902674\n",
      "variance or r-squared:  0.2797808673579676\n"
     ]
    }
   ],
   "source": [
    "model2 = lm.LinearRegression()\n",
    "model2.fit(X_new, y)\n",
    "model2_y = model2.predict(X_new)\n",
    "\n",
    "print(\"mean square error: \", mean_squared_error(y, model2_y))\n",
    "print(\"variance or r-squared: \", explained_variance_score(y, model2_y))"
   ]
  },
  {
   "cell_type": "markdown",
   "metadata": {
    "slideshow": {
     "slide_type": "slide"
    }
   },
   "source": [
    "### Normalize"
   ]
  },
  {
   "cell_type": "code",
   "execution_count": 1246,
   "metadata": {
    "slideshow": {
     "slide_type": "subslide"
    }
   },
   "outputs": [
    {
     "data": {
      "text/plain": [
       "array([[ 7.58494745e-07,  1.86738679e-07,  0.00000000e+00, ...,\n",
       "         2.10762924e-06,  5.49206686e-01,  2.31732779e-07],\n",
       "       [ 7.00585578e-07,  3.92049545e-07,  1.30605854e-06, ...,\n",
       "         4.65587833e-06,  2.18159380e-02,  7.27197932e-09],\n",
       "       [ 1.88426021e-06,  4.63240053e-07,  0.00000000e+00, ...,\n",
       "         6.30695072e-06, -1.40617848e-01, -5.73950401e-08],\n",
       "       ...,\n",
       "       [ 2.38230828e-04,  1.28278138e-04,  4.84791406e-04, ...,\n",
       "         3.33856349e-03,  6.95967208e-01,  9.94238869e-03],\n",
       "       [ 1.94311051e-05,  2.81057056e-05,  0.00000000e+00, ...,\n",
       "         6.91192168e-04,  7.05737739e-01,  1.00819677e-02],\n",
       "       [ 3.58067422e-04,  7.49443442e-04,  1.33234390e-04, ...,\n",
       "         1.66876073e-02,  7.00496458e-01,  6.36814962e-02]])"
      ]
     },
     "execution_count": 1246,
     "metadata": {},
     "output_type": "execute_result"
    }
   ],
   "source": [
    "from sklearn.preprocessing import Normalizer\n",
    "\n",
    "y = df['imdb_score'] \n",
    "X = df[['num_critic_for_reviews','duration','director_facebook_likes', 'actor_1_facebook_likes', 'gross','num_voted_users','num_user_for_reviews','budget','title_year','profit','return_investment']]\n",
    "\n",
    "scaler = Normalizer().fit(X)\n",
    "normalizedX = scaler.transform(X)\n",
    "normalizedX\n"
   ]
  },
  {
   "cell_type": "code",
   "execution_count": 1247,
   "metadata": {
    "slideshow": {
     "slide_type": "subslide"
    }
   },
   "outputs": [
    {
     "name": "stdout",
     "output_type": "stream",
     "text": [
      "Coefficients:  [ 1.78222296e+03  1.81902657e+04 -6.41875912e+00 -1.17886100e+01\n",
      " -2.09108089e-01  3.50225434e+01 -5.12656499e+03 -5.37392956e-01\n",
      " -8.06993919e+02  3.28284845e-01  2.09165238e+00]\n",
      "y-intercept  6.824323145974303\n"
     ]
    }
   ],
   "source": [
    "model = lm.LinearRegression()\n",
    "model.fit(normalizedX, y)\n",
    "model_y = model.predict(normalizedX)\n",
    "print('Coefficients: ', model.coef_)\n",
    "print(\"y-intercept \", model.intercept_)"
   ]
  },
  {
   "cell_type": "code",
   "execution_count": 1248,
   "metadata": {
    "slideshow": {
     "slide_type": "subslide"
    }
   },
   "outputs": [
    {
     "name": "stdout",
     "output_type": "stream",
     "text": [
      "mean square error:  0.9964706675938677\n",
      "0.10171913211759898\n"
     ]
    }
   ],
   "source": [
    "print(\"mean square error: \", mean_squared_error(y, model_y))\n",
    "print(explained_variance_score(y, model_y))"
   ]
  },
  {
   "cell_type": "code",
   "execution_count": 1249,
   "metadata": {
    "slideshow": {
     "slide_type": "subslide"
    }
   },
   "outputs": [
    {
     "data": {
      "image/png": "[encoded data removed]",
      "text/plain": [
       "<Figure size 432x288 with 1 Axes>"
      ]
     },
     "metadata": {
      "needs_background": "light"
     },
     "output_type": "display_data"
    }
   ],
   "source": [
    "plt.subplots()\n",
    "plt.scatter(y, model_y)\n",
    "plt.plot([y.min(), y.max()], [y.min(), y.max()], 'k--', lw=4)\n",
    "plt.xlabel('Actual')\n",
    "plt.ylabel('Predicted')\n",
    "plt.show()"
   ]
  },
  {
   "cell_type": "code",
   "execution_count": 1250,
   "metadata": {
    "slideshow": {
     "slide_type": "subslide"
    }
   },
   "outputs": [
    {
     "data": {
      "image/png": "[encoded data removed]",
      "text/plain": [
       "<Figure size 864x576 with 4 Axes>"
      ]
     },
     "metadata": {
      "needs_background": "light"
     },
     "output_type": "display_data"
    }
   ],
   "source": [
    "fig = plt.figure(figsize=(12,8))\n",
    "fig = sm.graphics.plot_regress_exog(runs_reg, \"gross\", fig=fig)"
   ]
  },
  {
   "cell_type": "markdown",
   "metadata": {
    "slideshow": {
     "slide_type": "slide"
    }
   },
   "source": [
    "### RandomForrestRegressor for Feature selection"
   ]
  },
  {
   "cell_type": "code",
   "execution_count": 1251,
   "metadata": {
    "slideshow": {
     "slide_type": "subslide"
    }
   },
   "outputs": [
    {
     "name": "stdout",
     "output_type": "stream",
     "text": [
      "mean square error:  0.06841024321418977\n",
      "variance or r-squared:  0.9383624860733002\n"
     ]
    }
   ],
   "source": [
    "from sklearn.ensemble import RandomForestRegressor\n",
    "from sklearn.datasets import make_regression\n",
    "\n",
    "y = df['imdb_score']\n",
    "X = df[['num_critic_for_reviews','duration','director_facebook_likes', 'actor_1_facebook_likes', 'gross','num_voted_users','num_user_for_reviews','budget','title_year','profit','return_investment']]\n",
    "\n",
    "\n",
    "regr = RandomForestRegressor(n_estimators=100, random_state=0)\n",
    "regr.fit(X, y)\n",
    "regr_predicted = regr.predict(X)\n",
    "\n",
    "print(\"mean square error: \", mean_squared_error(y, regr_predicted))\n",
    "print(\"variance or r-squared: \", explained_variance_score(y, regr_predicted))"
   ]
  },
  {
   "cell_type": "markdown",
   "metadata": {
    "slideshow": {
     "slide_type": "subslide"
    }
   },
   "source": [
    "- Random Forrest Regressor for Feature Selection is by far the most accurate of all the regression model at roughly 94% accurate."
   ]
  },
  {
   "cell_type": "code",
   "execution_count": 1252,
   "metadata": {
    "slideshow": {
     "slide_type": "skip"
    }
   },
   "outputs": [
    {
     "data": {
      "text/plain": [
       "[(0.029937166329981345, 'profit'),\n",
       " (0.03825289599927806, 'return_investment'),\n",
       " (0.041591955639718084, 'director_facebook_likes'),\n",
       " (0.04817208398236228, 'actor_1_facebook_likes'),\n",
       " (0.051489001903991374, 'title_year'),\n",
       " (0.06292621865883855, 'num_critic_for_reviews'),\n",
       " (0.06605614776280574, 'gross'),\n",
       " (0.07760101811365833, 'num_user_for_reviews'),\n",
       " (0.11975686717993432, 'budget'),\n",
       " (0.12392984035796184, 'duration'),\n",
       " (0.34028680407146994, 'num_voted_users')]"
      ]
     },
     "execution_count": 1252,
     "metadata": {},
     "output_type": "execute_result"
    }
   ],
   "source": [
    "sorted(zip(regr.feature_importances_, X.columns))"
   ]
  },
  {
   "cell_type": "code",
   "execution_count": 1253,
   "metadata": {
    "slideshow": {
     "slide_type": "skip"
    }
   },
   "outputs": [
    {
     "data": {
      "text/html": [
       "<div>\n",
       "<style scoped>\n",
       "    .dataframe tbody tr th:only-of-type {\n",
       "        vertical-align: middle;\n",
       "    }\n",
       "\n",
       "    .dataframe tbody tr th {\n",
       "        vertical-align: top;\n",
       "    }\n",
       "\n",
       "    .dataframe thead th {\n",
       "        text-align: right;\n",
       "    }\n",
       "</style>\n",
       "<table border=\"1\" class=\"dataframe\">\n",
       "  <thead>\n",
       "    <tr style=\"text-align: right;\">\n",
       "      <th></th>\n",
       "      <th>importance</th>\n",
       "    </tr>\n",
       "  </thead>\n",
       "  <tbody>\n",
       "    <tr>\n",
       "      <th>num_voted_users</th>\n",
       "      <td>0.340287</td>\n",
       "    </tr>\n",
       "    <tr>\n",
       "      <th>duration</th>\n",
       "      <td>0.123930</td>\n",
       "    </tr>\n",
       "    <tr>\n",
       "      <th>budget</th>\n",
       "      <td>0.119757</td>\n",
       "    </tr>\n",
       "    <tr>\n",
       "      <th>num_user_for_reviews</th>\n",
       "      <td>0.077601</td>\n",
       "    </tr>\n",
       "    <tr>\n",
       "      <th>gross</th>\n",
       "      <td>0.066056</td>\n",
       "    </tr>\n",
       "    <tr>\n",
       "      <th>num_critic_for_reviews</th>\n",
       "      <td>0.062926</td>\n",
       "    </tr>\n",
       "    <tr>\n",
       "      <th>title_year</th>\n",
       "      <td>0.051489</td>\n",
       "    </tr>\n",
       "    <tr>\n",
       "      <th>actor_1_facebook_likes</th>\n",
       "      <td>0.048172</td>\n",
       "    </tr>\n",
       "    <tr>\n",
       "      <th>director_facebook_likes</th>\n",
       "      <td>0.041592</td>\n",
       "    </tr>\n",
       "    <tr>\n",
       "      <th>return_investment</th>\n",
       "      <td>0.038253</td>\n",
       "    </tr>\n",
       "    <tr>\n",
       "      <th>profit</th>\n",
       "      <td>0.029937</td>\n",
       "    </tr>\n",
       "  </tbody>\n",
       "</table>\n",
       "</div>"
      ],
      "text/plain": [
       "                         importance\n",
       "num_voted_users            0.340287\n",
       "duration                   0.123930\n",
       "budget                     0.119757\n",
       "num_user_for_reviews       0.077601\n",
       "gross                      0.066056\n",
       "num_critic_for_reviews     0.062926\n",
       "title_year                 0.051489\n",
       "actor_1_facebook_likes     0.048172\n",
       "director_facebook_likes    0.041592\n",
       "return_investment          0.038253\n",
       "profit                     0.029937"
      ]
     },
     "execution_count": 1253,
     "metadata": {},
     "output_type": "execute_result"
    }
   ],
   "source": [
    "feature_importances = pd.DataFrame(regr.feature_importances_, index = X.columns,\n",
    "                                    columns=['importance']).sort_values('importance', ascending=False)\n",
    "\n",
    "feature_importances"
   ]
  },
  {
   "cell_type": "code",
   "execution_count": 1254,
   "metadata": {
    "slideshow": {
     "slide_type": "skip"
    }
   },
   "outputs": [
    {
     "data": {
      "text/plain": [
       "<matplotlib.axes._subplots.AxesSubplot at 0x1e2f41183c8>"
      ]
     },
     "execution_count": 1254,
     "metadata": {},
     "output_type": "execute_result"
    },
    {
     "data": {
      "image/png": "[encoded data removed]",
      "text/plain": [
       "<Figure size 432x288 with 1 Axes>"
      ]
     },
     "metadata": {
      "needs_background": "light"
     },
     "output_type": "display_data"
    }
   ],
   "source": [
    "feature_importances.head().plot(kind='barh')"
   ]
  },
  {
   "cell_type": "code",
   "execution_count": 1255,
   "metadata": {
    "slideshow": {
     "slide_type": "subslide"
    }
   },
   "outputs": [
    {
     "data": {
      "image/png": "[encoded data removed]",
      "text/plain": [
       "<Figure size 432x288 with 1 Axes>"
      ]
     },
     "metadata": {
      "needs_background": "light"
     },
     "output_type": "display_data"
    }
   ],
   "source": [
    "from yellowbrick.features import FeatureImportances\n",
    "\n",
    "fig = plt.figure()\n",
    "ax = fig.add_subplot()\n",
    "\n",
    "viz = FeatureImportances(RandomForestRegressor(n_estimators=100), ax=ax)\n",
    "viz.fit(X, y)\n",
    "viz.poof();"
   ]
  },
  {
   "cell_type": "markdown",
   "metadata": {
    "slideshow": {
     "slide_type": "slide"
    }
   },
   "source": [
    "# 7. Classification models"
   ]
  },
  {
   "cell_type": "markdown",
   "metadata": {
    "slideshow": {
     "slide_type": "skip"
    }
   },
   "source": [
    "Import packages "
   ]
  },
  {
   "cell_type": "code",
   "execution_count": 1256,
   "metadata": {
    "slideshow": {
     "slide_type": "skip"
    }
   },
   "outputs": [],
   "source": [
    "# Classifiers\n",
    "#import decisiontreeclassifier\n",
    "from sklearn import tree\n",
    "from sklearn.tree import DecisionTreeClassifier\n",
    "#import logisticregression classifier\n",
    "from sklearn.linear_model import LogisticRegression\n",
    "import statsmodels.api as sm\n",
    "#import knn classifier\n",
    "from sklearn.neighbors import KNeighborsClassifier\n",
    "\n",
    "#for validating your classification model\n",
    "from sklearn.model_selection import train_test_split\n",
    "from sklearn.model_selection import cross_val_score\n",
    "from sklearn import metrics\n",
    "from sklearn.metrics import roc_curve, auc\n",
    "from sklearn.metrics import roc_auc_score\n",
    "\n",
    "# feature selection\n",
    "from sklearn.feature_selection import RFE\n",
    "from sklearn.ensemble import ExtraTreesClassifier\n",
    "from sklearn.feature_selection import SelectKBest\n",
    "from sklearn.feature_selection import chi2\n",
    "\n",
    "# grid search\n",
    "from sklearn.model_selection import GridSearchCV"
   ]
  },
  {
   "cell_type": "markdown",
   "metadata": {
    "slideshow": {
     "slide_type": "subslide"
    }
   },
   "source": [
    "Categorizing imdb score"
   ]
  },
  {
   "cell_type": "code",
   "execution_count": 1257,
   "metadata": {
    "slideshow": {
     "slide_type": "subslide"
    }
   },
   "outputs": [],
   "source": [
    "def func(x):\n",
    "    if 0 < x < 4:\n",
    "        return '0'\n",
    "    elif 4 <= x <= 6:\n",
    "        return '1'\n",
    "    elif 6 <= x < 8:\n",
    "        return '2'\n",
    "    return '3'\n",
    "\n",
    "df['imdbscore_category'] = df['imdb_score'].apply(func)"
   ]
  },
  {
   "cell_type": "code",
   "execution_count": 1258,
   "metadata": {
    "slideshow": {
     "slide_type": "skip"
    }
   },
   "outputs": [
    {
     "data": {
      "text/html": [
       "<div>\n",
       "<style scoped>\n",
       "    .dataframe tbody tr th:only-of-type {\n",
       "        vertical-align: middle;\n",
       "    }\n",
       "\n",
       "    .dataframe tbody tr th {\n",
       "        vertical-align: top;\n",
       "    }\n",
       "\n",
       "    .dataframe thead th {\n",
       "        text-align: right;\n",
       "    }\n",
       "</style>\n",
       "<table border=\"1\" class=\"dataframe\">\n",
       "  <thead>\n",
       "    <tr style=\"text-align: right;\">\n",
       "      <th></th>\n",
       "      <th>director_name</th>\n",
       "      <th>num_critic_for_reviews</th>\n",
       "      <th>duration</th>\n",
       "      <th>director_facebook_likes</th>\n",
       "      <th>actor_2_name</th>\n",
       "      <th>actor_1_facebook_likes</th>\n",
       "      <th>gross</th>\n",
       "      <th>genres</th>\n",
       "      <th>actor_1_name</th>\n",
       "      <th>movie_title</th>\n",
       "      <th>...</th>\n",
       "      <th>profit</th>\n",
       "      <th>return_investment</th>\n",
       "      <th>imdbscores_bins</th>\n",
       "      <th>imdbscore_category</th>\n",
       "      <th>country_UK</th>\n",
       "      <th>country_USA</th>\n",
       "      <th>content_rating_NC-17</th>\n",
       "      <th>content_rating_PG</th>\n",
       "      <th>content_rating_PG-13</th>\n",
       "      <th>content_rating_R</th>\n",
       "    </tr>\n",
       "  </thead>\n",
       "  <tbody>\n",
       "    <tr>\n",
       "      <th>0</th>\n",
       "      <td>James Cameron</td>\n",
       "      <td>723</td>\n",
       "      <td>178</td>\n",
       "      <td>0</td>\n",
       "      <td>Joel David Moore</td>\n",
       "      <td>1000</td>\n",
       "      <td>760505847</td>\n",
       "      <td>Action|Adventure|Fantasy|Sci-Fi</td>\n",
       "      <td>CCH Pounder</td>\n",
       "      <td>Avatar</td>\n",
       "      <td>...</td>\n",
       "      <td>523505847</td>\n",
       "      <td>220.888543</td>\n",
       "      <td>4</td>\n",
       "      <td>2</td>\n",
       "      <td>0</td>\n",
       "      <td>1</td>\n",
       "      <td>0</td>\n",
       "      <td>0</td>\n",
       "      <td>1</td>\n",
       "      <td>0</td>\n",
       "    </tr>\n",
       "    <tr>\n",
       "      <th>1</th>\n",
       "      <td>Gore Verbinski</td>\n",
       "      <td>302</td>\n",
       "      <td>169</td>\n",
       "      <td>563</td>\n",
       "      <td>Orlando Bloom</td>\n",
       "      <td>40000</td>\n",
       "      <td>309404152</td>\n",
       "      <td>Action|Adventure|Fantasy</td>\n",
       "      <td>Johnny Depp</td>\n",
       "      <td>Pirates of the Caribbean: At World's End</td>\n",
       "      <td>...</td>\n",
       "      <td>9404152</td>\n",
       "      <td>3.134717</td>\n",
       "      <td>4</td>\n",
       "      <td>2</td>\n",
       "      <td>0</td>\n",
       "      <td>1</td>\n",
       "      <td>0</td>\n",
       "      <td>0</td>\n",
       "      <td>1</td>\n",
       "      <td>0</td>\n",
       "    </tr>\n",
       "  </tbody>\n",
       "</table>\n",
       "<p>2 rows × 26 columns</p>\n",
       "</div>"
      ],
      "text/plain": [
       "    director_name  num_critic_for_reviews  duration  director_facebook_likes  \\\n",
       "0   James Cameron                     723       178                        0   \n",
       "1  Gore Verbinski                     302       169                      563   \n",
       "\n",
       "       actor_2_name  actor_1_facebook_likes      gross  \\\n",
       "0  Joel David Moore                    1000  760505847   \n",
       "1     Orlando Bloom                   40000  309404152   \n",
       "\n",
       "                            genres actor_1_name  \\\n",
       "0  Action|Adventure|Fantasy|Sci-Fi  CCH Pounder   \n",
       "1         Action|Adventure|Fantasy  Johnny Depp   \n",
       "\n",
       "                                 movie_title  ...     profit  \\\n",
       "0                                    Avatar   ...  523505847   \n",
       "1  Pirates of the Caribbean: At World's End   ...    9404152   \n",
       "\n",
       "  return_investment  imdbscores_bins  imdbscore_category  country_UK  \\\n",
       "0        220.888543                4                   2           0   \n",
       "1          3.134717                4                   2           0   \n",
       "\n",
       "   country_USA  content_rating_NC-17  content_rating_PG content_rating_PG-13  \\\n",
       "0            1                     0                  0                    1   \n",
       "1            1                     0                  0                    1   \n",
       "\n",
       "  content_rating_R  \n",
       "0                0  \n",
       "1                0  \n",
       "\n",
       "[2 rows x 26 columns]"
      ]
     },
     "execution_count": 1258,
     "metadata": {},
     "output_type": "execute_result"
    }
   ],
   "source": [
    "df =  pd.get_dummies(df, columns=[\"country\", \"content_rating\"],\n",
    "                         prefix=[\"country\", \"content_rating\"],\n",
    "                         drop_first=True)\n",
    "df.head(2)"
   ]
  },
  {
   "cell_type": "code",
   "execution_count": 1259,
   "metadata": {
    "slideshow": {
     "slide_type": "skip"
    }
   },
   "outputs": [],
   "source": [
    "y = df['imdbscore_category']\n",
    "X = df.drop(['director_name', 'actor_2_name', 'genres', 'actor_1_name', 'movie_title', 'plot_keywords', 'imdbscore_category', 'imdb_score', 'imdbscores_bins'], axis = 1)"
   ]
  },
  {
   "cell_type": "markdown",
   "metadata": {
    "slideshow": {
     "slide_type": "slide"
    }
   },
   "source": [
    "### Split Validation"
   ]
  },
  {
   "cell_type": "code",
   "execution_count": 1260,
   "metadata": {
    "slideshow": {
     "slide_type": "subslide"
    }
   },
   "outputs": [],
   "source": [
    "X_train, X_test, y_train, y_test = train_test_split(X, y, test_size=0.3, random_state=42)\n",
    "\n",
    "\n",
    "dt = DecisionTreeClassifier()\n",
    "\n",
    "\n",
    "dt = dt.fit(X_train, y_train)"
   ]
  },
  {
   "cell_type": "code",
   "execution_count": 1261,
   "metadata": {
    "slideshow": {
     "slide_type": "subslide"
    }
   },
   "outputs": [
    {
     "name": "stdout",
     "output_type": "stream",
     "text": [
      "0.6606982990152194\n",
      "--------------------------------------------------------\n",
      "[[  1  18  10   0]\n",
      " [  7 170 146   0]\n",
      " [  8 146 524  19]\n",
      " [  0   1  24  43]]\n",
      "--------------------------------------------------------\n",
      "              precision    recall  f1-score   support\n",
      "\n",
      "           0       0.06      0.03      0.04        29\n",
      "           1       0.51      0.53      0.52       323\n",
      "           2       0.74      0.75      0.75       697\n",
      "           3       0.69      0.63      0.66        68\n",
      "\n",
      "    accuracy                           0.66      1117\n",
      "   macro avg       0.50      0.49      0.49      1117\n",
      "weighted avg       0.66      0.66      0.66      1117\n",
      "\n",
      "--------------------------------------------------------\n"
     ]
    }
   ],
   "source": [
    "print(metrics.accuracy_score(y_test, dt.predict(X_test)))\n",
    "print(\"--------------------------------------------------------\")\n",
    "print(metrics.confusion_matrix(y_test, dt.predict(X_test))) \n",
    "print(\"--------------------------------------------------------\")\n",
    "print(metrics.classification_report(y_test, dt.predict(X_test)))\n",
    "print(\"--------------------------------------------------------\")"
   ]
  },
  {
   "cell_type": "code",
   "execution_count": 1262,
   "metadata": {
    "slideshow": {
     "slide_type": "subslide"
    }
   },
   "outputs": [
    {
     "data": {
      "image/png": "[encoded data removed]",
      "text/plain": [
       "<Figure size 432x288 with 2 Axes>"
      ]
     },
     "metadata": {
      "needs_background": "light"
     },
     "output_type": "display_data"
    }
   ],
   "source": [
    "import scikitplot as skplt\n",
    "\n",
    "skplt.metrics.plot_confusion_matrix(y_true=np.array(y_test), y_pred=dt.predict(X_test))\n",
    "plt.show()"
   ]
  },
  {
   "cell_type": "markdown",
   "metadata": {
    "slideshow": {
     "slide_type": "subslide"
    }
   },
   "source": [
    "- Looking at the confusion matrix we see that the model accurately predicted the imdb category for scores between 6 - 8 over 500 times making it more accurate than inaccurate."
   ]
  },
  {
   "cell_type": "markdown",
   "metadata": {
    "slideshow": {
     "slide_type": "slide"
    }
   },
   "source": [
    "### simpler decision tree"
   ]
  },
  {
   "cell_type": "code",
   "execution_count": 1263,
   "metadata": {
    "slideshow": {
     "slide_type": "subslide"
    }
   },
   "outputs": [
    {
     "data": {
      "text/plain": [
       "DecisionTreeClassifier(class_weight=None, criterion='gini', max_depth=3,\n",
       "                       max_features=None, max_leaf_nodes=None,\n",
       "                       min_impurity_decrease=0.0, min_impurity_split=None,\n",
       "                       min_samples_leaf=5, min_samples_split=2,\n",
       "                       min_weight_fraction_leaf=0.0, presort=False,\n",
       "                       random_state=None, splitter='best')"
      ]
     },
     "execution_count": 1263,
     "metadata": {},
     "output_type": "execute_result"
    }
   ],
   "source": [
    "X_train, X_test, y_train, y_test = train_test_split(X, y, test_size=0.3, random_state=0)\n",
    "\n",
    "dt_simple = DecisionTreeClassifier(max_depth = 3, min_samples_leaf = 5)\n",
    "\n",
    "dt_simple = dt_simple.fit(X_train, y_train)\n",
    "dt_simple"
   ]
  },
  {
   "cell_type": "code",
   "execution_count": 1264,
   "metadata": {
    "slideshow": {
     "slide_type": "subslide"
    }
   },
   "outputs": [
    {
     "name": "stdout",
     "output_type": "stream",
     "text": [
      "0.6929274843330349\n",
      "--------------------------------------------------------\n",
      "[[  0   8  13   0]\n",
      " [  0 125 196   0]\n",
      " [  0  78 625   6]\n",
      " [  0   0  42  24]]\n",
      "--------------------------------------------------------\n",
      "              precision    recall  f1-score   support\n",
      "\n",
      "           0       0.00      0.00      0.00        21\n",
      "           1       0.59      0.39      0.47       321\n",
      "           2       0.71      0.88      0.79       709\n",
      "           3       0.80      0.36      0.50        66\n",
      "\n",
      "    accuracy                           0.69      1117\n",
      "   macro avg       0.53      0.41      0.44      1117\n",
      "weighted avg       0.67      0.69      0.67      1117\n",
      "\n",
      "--------------------------------------------------------\n"
     ]
    }
   ],
   "source": [
    "print(metrics.accuracy_score(y_test, dt_simple.predict(X_test)))\n",
    "print(\"--------------------------------------------------------\")\n",
    "print(metrics.confusion_matrix(y_test, dt_simple.predict(X_test))) \n",
    "print(\"--------------------------------------------------------\")\n",
    "print(metrics.classification_report(y_test, dt_simple.predict(X_test)))\n",
    "print(\"--------------------------------------------------------\")\n",
    "import warnings\n",
    "warnings.filterwarnings(\"ignore\")"
   ]
  },
  {
   "cell_type": "code",
   "execution_count": 1265,
   "metadata": {
    "slideshow": {
     "slide_type": "skip"
    }
   },
   "outputs": [
    {
     "data": {
      "image/svg+xml": [
       "<?xml version=\"1.0\" encoding=\"UTF-8\" standalone=\"no\"?>\r\n",
       "<!DOCTYPE svg PUBLIC \"-//W3C//DTD SVG 1.1//EN\"\r\n",
       " \"http://www.w3.org/Graphics/SVG/1.1/DTD/svg11.dtd\">\r\n",
       "<!-- Generated by graphviz version 2.38.0 (20140413.2041)\r\n",
       " -->\r\n",
       "<!-- Title: Tree Pages: 1 -->\r\n",
       "<svg width=\"1266pt\" height=\"373pt\"\r\n",
       " viewBox=\"0.00 0.00 1265.50 373.00\" xmlns=\"http://www.w3.org/2000/svg\" xmlns:xlink=\"http://www.w3.org/1999/xlink\">\r\n",
       "<g id=\"graph0\" class=\"graph\" transform=\"scale(1 1) rotate(0) translate(4 369)\">\r\n",
       "<title>Tree</title>\r\n",
       "<polygon fill=\"white\" stroke=\"none\" points=\"-4,4 -4,-369 1261.5,-369 1261.5,4 -4,4\"/>\r\n",
       "<!-- 0 -->\r\n",
       "<g id=\"node1\" class=\"node\"><title>0</title>\r\n",
       "<polygon fill=\"none\" stroke=\"black\" points=\"722.5,-365 537.5,-365 537.5,-297 722.5,-297 722.5,-365\"/>\r\n",
       "<text text-anchor=\"middle\" x=\"630\" y=\"-349.8\" font-family=\"Times New Roman,serif\" font-size=\"14.00\">num_voted_users &lt;= 67397.5</text>\r\n",
       "<text text-anchor=\"middle\" x=\"630\" y=\"-334.8\" font-family=\"Times New Roman,serif\" font-size=\"14.00\">gini = 0.507</text>\r\n",
       "<text text-anchor=\"middle\" x=\"630\" y=\"-319.8\" font-family=\"Times New Roman,serif\" font-size=\"14.00\">samples = 2604</text>\r\n",
       "<text text-anchor=\"middle\" x=\"630\" y=\"-304.8\" font-family=\"Times New Roman,serif\" font-size=\"14.00\">value = [62, 727, 1671, 144]</text>\r\n",
       "</g>\r\n",
       "<!-- 1 -->\r\n",
       "<g id=\"node2\" class=\"node\"><title>1</title>\r\n",
       "<polygon fill=\"none\" stroke=\"black\" points=\"551,-261 391,-261 391,-193 551,-193 551,-261\"/>\r\n",
       "<text text-anchor=\"middle\" x=\"471\" y=\"-245.8\" font-family=\"Times New Roman,serif\" font-size=\"14.00\">duration &lt;= 102.5</text>\r\n",
       "<text text-anchor=\"middle\" x=\"471\" y=\"-230.8\" font-family=\"Times New Roman,serif\" font-size=\"14.00\">gini = 0.531</text>\r\n",
       "<text text-anchor=\"middle\" x=\"471\" y=\"-215.8\" font-family=\"Times New Roman,serif\" font-size=\"14.00\">samples = 1475</text>\r\n",
       "<text text-anchor=\"middle\" x=\"471\" y=\"-200.8\" font-family=\"Times New Roman,serif\" font-size=\"14.00\">value = [58, 585, 821, 11]</text>\r\n",
       "</g>\r\n",
       "<!-- 0&#45;&gt;1 -->\r\n",
       "<g id=\"edge1\" class=\"edge\"><title>0&#45;&gt;1</title>\r\n",
       "<path fill=\"none\" stroke=\"black\" d=\"M578.377,-296.884C563.305,-287.214 546.702,-276.563 531.151,-266.587\"/>\r\n",
       "<polygon fill=\"black\" stroke=\"black\" points=\"532.942,-263.578 522.636,-261.125 529.163,-269.47 532.942,-263.578\"/>\r\n",
       "<text text-anchor=\"middle\" x=\"527.97\" y=\"-281.849\" font-family=\"Times New Roman,serif\" font-size=\"14.00\">True</text>\r\n",
       "</g>\r\n",
       "<!-- 8 -->\r\n",
       "<g id=\"node9\" class=\"node\"><title>8</title>\r\n",
       "<polygon fill=\"none\" stroke=\"black\" points=\"886.5,-261 695.5,-261 695.5,-193 886.5,-193 886.5,-261\"/>\r\n",
       "<text text-anchor=\"middle\" x=\"791\" y=\"-245.8\" font-family=\"Times New Roman,serif\" font-size=\"14.00\">num_voted_users &lt;= 467173.5</text>\r\n",
       "<text text-anchor=\"middle\" x=\"791\" y=\"-230.8\" font-family=\"Times New Roman,serif\" font-size=\"14.00\">gini = 0.403</text>\r\n",
       "<text text-anchor=\"middle\" x=\"791\" y=\"-215.8\" font-family=\"Times New Roman,serif\" font-size=\"14.00\">samples = 1129</text>\r\n",
       "<text text-anchor=\"middle\" x=\"791\" y=\"-200.8\" font-family=\"Times New Roman,serif\" font-size=\"14.00\">value = [4, 142, 850, 133]</text>\r\n",
       "</g>\r\n",
       "<!-- 0&#45;&gt;8 -->\r\n",
       "<g id=\"edge8\" class=\"edge\"><title>0&#45;&gt;8</title>\r\n",
       "<path fill=\"none\" stroke=\"black\" d=\"M682.272,-296.884C697.534,-287.214 714.346,-276.563 730.093,-266.587\"/>\r\n",
       "<polygon fill=\"black\" stroke=\"black\" points=\"732.141,-269.433 738.715,-261.125 728.394,-263.52 732.141,-269.433\"/>\r\n",
       "<text text-anchor=\"middle\" x=\"733.243\" y=\"-281.818\" font-family=\"Times New Roman,serif\" font-size=\"14.00\">False</text>\r\n",
       "</g>\r\n",
       "<!-- 2 -->\r\n",
       "<g id=\"node3\" class=\"node\"><title>2</title>\r\n",
       "<polygon fill=\"none\" stroke=\"black\" points=\"317.5,-157 164.5,-157 164.5,-89 317.5,-89 317.5,-157\"/>\r\n",
       "<text text-anchor=\"middle\" x=\"241\" y=\"-141.8\" font-family=\"Times New Roman,serif\" font-size=\"14.00\">gross &lt;= 6266649.5</text>\r\n",
       "<text text-anchor=\"middle\" x=\"241\" y=\"-126.8\" font-family=\"Times New Roman,serif\" font-size=\"14.00\">gini = 0.559</text>\r\n",
       "<text text-anchor=\"middle\" x=\"241\" y=\"-111.8\" font-family=\"Times New Roman,serif\" font-size=\"14.00\">samples = 767</text>\r\n",
       "<text text-anchor=\"middle\" x=\"241\" y=\"-96.8\" font-family=\"Times New Roman,serif\" font-size=\"14.00\">value = [49, 386, 329, 3]</text>\r\n",
       "</g>\r\n",
       "<!-- 1&#45;&gt;2 -->\r\n",
       "<g id=\"edge2\" class=\"edge\"><title>1&#45;&gt;2</title>\r\n",
       "<path fill=\"none\" stroke=\"black\" d=\"M396.326,-192.884C373.513,-182.767 348.277,-171.575 324.896,-161.206\"/>\r\n",
       "<polygon fill=\"black\" stroke=\"black\" points=\"326.253,-157.979 315.693,-157.125 323.416,-164.378 326.253,-157.979\"/>\r\n",
       "</g>\r\n",
       "<!-- 5 -->\r\n",
       "<g id=\"node6\" class=\"node\"><title>5</title>\r\n",
       "<polygon fill=\"none\" stroke=\"black\" points=\"544,-157 398,-157 398,-89 544,-89 544,-157\"/>\r\n",
       "<text text-anchor=\"middle\" x=\"471\" y=\"-141.8\" font-family=\"Times New Roman,serif\" font-size=\"14.00\">duration &lt;= 118.5</text>\r\n",
       "<text text-anchor=\"middle\" x=\"471\" y=\"-126.8\" font-family=\"Times New Roman,serif\" font-size=\"14.00\">gini = 0.438</text>\r\n",
       "<text text-anchor=\"middle\" x=\"471\" y=\"-111.8\" font-family=\"Times New Roman,serif\" font-size=\"14.00\">samples = 708</text>\r\n",
       "<text text-anchor=\"middle\" x=\"471\" y=\"-96.8\" font-family=\"Times New Roman,serif\" font-size=\"14.00\">value = [9, 199, 492, 8]</text>\r\n",
       "</g>\r\n",
       "<!-- 1&#45;&gt;5 -->\r\n",
       "<g id=\"edge5\" class=\"edge\"><title>1&#45;&gt;5</title>\r\n",
       "<path fill=\"none\" stroke=\"black\" d=\"M471,-192.884C471,-184.778 471,-175.982 471,-167.472\"/>\r\n",
       "<polygon fill=\"black\" stroke=\"black\" points=\"474.5,-167.299 471,-157.299 467.5,-167.299 474.5,-167.299\"/>\r\n",
       "</g>\r\n",
       "<!-- 3 -->\r\n",
       "<g id=\"node4\" class=\"node\"><title>3</title>\r\n",
       "<polygon fill=\"none\" stroke=\"black\" points=\"146,-53 0,-53 0,-0 146,-0 146,-53\"/>\r\n",
       "<text text-anchor=\"middle\" x=\"73\" y=\"-37.8\" font-family=\"Times New Roman,serif\" font-size=\"14.00\">gini = 0.492</text>\r\n",
       "<text text-anchor=\"middle\" x=\"73\" y=\"-22.8\" font-family=\"Times New Roman,serif\" font-size=\"14.00\">samples = 277</text>\r\n",
       "<text text-anchor=\"middle\" x=\"73\" y=\"-7.8\" font-family=\"Times New Roman,serif\" font-size=\"14.00\">value = [14, 80, 180, 3]</text>\r\n",
       "</g>\r\n",
       "<!-- 2&#45;&gt;3 -->\r\n",
       "<g id=\"edge3\" class=\"edge\"><title>2&#45;&gt;3</title>\r\n",
       "<path fill=\"none\" stroke=\"black\" d=\"M182.242,-88.9485C164.434,-78.9318 144.959,-67.9767 127.447,-58.1263\"/>\r\n",
       "<polygon fill=\"black\" stroke=\"black\" points=\"128.919,-54.9388 118.487,-53.0867 125.487,-61.0399 128.919,-54.9388\"/>\r\n",
       "</g>\r\n",
       "<!-- 4 -->\r\n",
       "<g id=\"node5\" class=\"node\"><title>4</title>\r\n",
       "<polygon fill=\"none\" stroke=\"black\" points=\"317.5,-53 164.5,-53 164.5,-0 317.5,-0 317.5,-53\"/>\r\n",
       "<text text-anchor=\"middle\" x=\"241\" y=\"-37.8\" font-family=\"Times New Roman,serif\" font-size=\"14.00\">gini = 0.512</text>\r\n",
       "<text text-anchor=\"middle\" x=\"241\" y=\"-22.8\" font-family=\"Times New Roman,serif\" font-size=\"14.00\">samples = 490</text>\r\n",
       "<text text-anchor=\"middle\" x=\"241\" y=\"-7.8\" font-family=\"Times New Roman,serif\" font-size=\"14.00\">value = [35, 306, 149, 0]</text>\r\n",
       "</g>\r\n",
       "<!-- 2&#45;&gt;4 -->\r\n",
       "<g id=\"edge4\" class=\"edge\"><title>2&#45;&gt;4</title>\r\n",
       "<path fill=\"none\" stroke=\"black\" d=\"M241,-88.9485C241,-80.7153 241,-71.848 241,-63.4814\"/>\r\n",
       "<polygon fill=\"black\" stroke=\"black\" points=\"244.5,-63.2367 241,-53.2367 237.5,-63.2367 244.5,-63.2367\"/>\r\n",
       "</g>\r\n",
       "<!-- 6 -->\r\n",
       "<g id=\"node7\" class=\"node\"><title>6</title>\r\n",
       "<polygon fill=\"none\" stroke=\"black\" points=\"482,-53 336,-53 336,-0 482,-0 482,-53\"/>\r\n",
       "<text text-anchor=\"middle\" x=\"409\" y=\"-37.8\" font-family=\"Times New Roman,serif\" font-size=\"14.00\">gini = 0.479</text>\r\n",
       "<text text-anchor=\"middle\" x=\"409\" y=\"-22.8\" font-family=\"Times New Roman,serif\" font-size=\"14.00\">samples = 451</text>\r\n",
       "<text text-anchor=\"middle\" x=\"409\" y=\"-7.8\" font-family=\"Times New Roman,serif\" font-size=\"14.00\">value = [5, 159, 284, 3]</text>\r\n",
       "</g>\r\n",
       "<!-- 5&#45;&gt;6 -->\r\n",
       "<g id=\"edge6\" class=\"edge\"><title>5&#45;&gt;6</title>\r\n",
       "<path fill=\"none\" stroke=\"black\" d=\"M449.315,-88.9485C443.554,-80.1664 437.319,-70.6629 431.514,-61.815\"/>\r\n",
       "<polygon fill=\"black\" stroke=\"black\" points=\"434.297,-59.6779 425.885,-53.2367 428.445,-63.5178 434.297,-59.6779\"/>\r\n",
       "</g>\r\n",
       "<!-- 7 -->\r\n",
       "<g id=\"node8\" class=\"node\"><title>7</title>\r\n",
       "<polygon fill=\"none\" stroke=\"black\" points=\"640,-53 500,-53 500,-0 640,-0 640,-53\"/>\r\n",
       "<text text-anchor=\"middle\" x=\"570\" y=\"-37.8\" font-family=\"Times New Roman,serif\" font-size=\"14.00\">gini = 0.32</text>\r\n",
       "<text text-anchor=\"middle\" x=\"570\" y=\"-22.8\" font-family=\"Times New Roman,serif\" font-size=\"14.00\">samples = 257</text>\r\n",
       "<text text-anchor=\"middle\" x=\"570\" y=\"-7.8\" font-family=\"Times New Roman,serif\" font-size=\"14.00\">value = [4, 40, 208, 5]</text>\r\n",
       "</g>\r\n",
       "<!-- 5&#45;&gt;7 -->\r\n",
       "<g id=\"edge7\" class=\"edge\"><title>5&#45;&gt;7</title>\r\n",
       "<path fill=\"none\" stroke=\"black\" d=\"M505.625,-88.9485C515.401,-79.6175 526.029,-69.4722 535.78,-60.1641\"/>\r\n",
       "<polygon fill=\"black\" stroke=\"black\" points=\"538.221,-62.6732 543.038,-53.2367 533.387,-57.6097 538.221,-62.6732\"/>\r\n",
       "</g>\r\n",
       "<!-- 9 -->\r\n",
       "<g id=\"node10\" class=\"node\"><title>9</title>\r\n",
       "<polygon fill=\"none\" stroke=\"black\" points=\"886.5,-157 695.5,-157 695.5,-89 886.5,-89 886.5,-157\"/>\r\n",
       "<text text-anchor=\"middle\" x=\"791\" y=\"-141.8\" font-family=\"Times New Roman,serif\" font-size=\"14.00\">num_voted_users &lt;= 116633.5</text>\r\n",
       "<text text-anchor=\"middle\" x=\"791\" y=\"-126.8\" font-family=\"Times New Roman,serif\" font-size=\"14.00\">gini = 0.34</text>\r\n",
       "<text text-anchor=\"middle\" x=\"791\" y=\"-111.8\" font-family=\"Times New Roman,serif\" font-size=\"14.00\">samples = 1043</text>\r\n",
       "<text text-anchor=\"middle\" x=\"791\" y=\"-96.8\" font-family=\"Times New Roman,serif\" font-size=\"14.00\">value = [4, 142, 833, 64]</text>\r\n",
       "</g>\r\n",
       "<!-- 8&#45;&gt;9 -->\r\n",
       "<g id=\"edge9\" class=\"edge\"><title>8&#45;&gt;9</title>\r\n",
       "<path fill=\"none\" stroke=\"black\" d=\"M791,-192.884C791,-184.778 791,-175.982 791,-167.472\"/>\r\n",
       "<polygon fill=\"black\" stroke=\"black\" points=\"794.5,-167.299 791,-157.299 787.5,-167.299 794.5,-167.299\"/>\r\n",
       "</g>\r\n",
       "<!-- 12 -->\r\n",
       "<g id=\"node13\" class=\"node\"><title>12</title>\r\n",
       "<polygon fill=\"none\" stroke=\"black\" points=\"1118,-157 968,-157 968,-89 1118,-89 1118,-157\"/>\r\n",
       "<text text-anchor=\"middle\" x=\"1043\" y=\"-141.8\" font-family=\"Times New Roman,serif\" font-size=\"14.00\">budget &lt;= 111500000.0</text>\r\n",
       "<text text-anchor=\"middle\" x=\"1043\" y=\"-126.8\" font-family=\"Times New Roman,serif\" font-size=\"14.00\">gini = 0.317</text>\r\n",
       "<text text-anchor=\"middle\" x=\"1043\" y=\"-111.8\" font-family=\"Times New Roman,serif\" font-size=\"14.00\">samples = 86</text>\r\n",
       "<text text-anchor=\"middle\" x=\"1043\" y=\"-96.8\" font-family=\"Times New Roman,serif\" font-size=\"14.00\">value = [0, 0, 17, 69]</text>\r\n",
       "</g>\r\n",
       "<!-- 8&#45;&gt;12 -->\r\n",
       "<g id=\"edge12\" class=\"edge\"><title>8&#45;&gt;12</title>\r\n",
       "<path fill=\"none\" stroke=\"black\" d=\"M872.817,-192.884C900.2,-181.8 930.771,-169.426 958.364,-158.257\"/>\r\n",
       "<polygon fill=\"black\" stroke=\"black\" points=\"960.034,-161.357 967.99,-154.361 957.407,-154.869 960.034,-161.357\"/>\r\n",
       "</g>\r\n",
       "<!-- 10 -->\r\n",
       "<g id=\"node11\" class=\"node\"><title>10</title>\r\n",
       "<polygon fill=\"none\" stroke=\"black\" points=\"798,-53 658,-53 658,-0 798,-0 798,-53\"/>\r\n",
       "<text text-anchor=\"middle\" x=\"728\" y=\"-37.8\" font-family=\"Times New Roman,serif\" font-size=\"14.00\">gini = 0.396</text>\r\n",
       "<text text-anchor=\"middle\" x=\"728\" y=\"-22.8\" font-family=\"Times New Roman,serif\" font-size=\"14.00\">samples = 431</text>\r\n",
       "<text text-anchor=\"middle\" x=\"728\" y=\"-7.8\" font-family=\"Times New Roman,serif\" font-size=\"14.00\">value = [3, 99, 320, 9]</text>\r\n",
       "</g>\r\n",
       "<!-- 9&#45;&gt;10 -->\r\n",
       "<g id=\"edge10\" class=\"edge\"><title>9&#45;&gt;10</title>\r\n",
       "<path fill=\"none\" stroke=\"black\" d=\"M768.966,-88.9485C763.111,-80.1664 756.775,-70.6629 750.877,-61.815\"/>\r\n",
       "<polygon fill=\"black\" stroke=\"black\" points=\"753.617,-59.6158 745.158,-53.2367 747.793,-63.4987 753.617,-59.6158\"/>\r\n",
       "</g>\r\n",
       "<!-- 11 -->\r\n",
       "<g id=\"node12\" class=\"node\"><title>11</title>\r\n",
       "<polygon fill=\"none\" stroke=\"black\" points=\"962,-53 816,-53 816,-0 962,-0 962,-53\"/>\r\n",
       "<text text-anchor=\"middle\" x=\"889\" y=\"-37.8\" font-family=\"Times New Roman,serif\" font-size=\"14.00\">gini = 0.284</text>\r\n",
       "<text text-anchor=\"middle\" x=\"889\" y=\"-22.8\" font-family=\"Times New Roman,serif\" font-size=\"14.00\">samples = 612</text>\r\n",
       "<text text-anchor=\"middle\" x=\"889\" y=\"-7.8\" font-family=\"Times New Roman,serif\" font-size=\"14.00\">value = [1, 43, 513, 55]</text>\r\n",
       "</g>\r\n",
       "<!-- 9&#45;&gt;11 -->\r\n",
       "<g id=\"edge11\" class=\"edge\"><title>9&#45;&gt;11</title>\r\n",
       "<path fill=\"none\" stroke=\"black\" d=\"M825.276,-88.9485C834.857,-79.709 845.267,-69.671 854.842,-60.4381\"/>\r\n",
       "<polygon fill=\"black\" stroke=\"black\" points=\"857.541,-62.6976 862.31,-53.2367 852.682,-57.6586 857.541,-62.6976\"/>\r\n",
       "</g>\r\n",
       "<!-- 13 -->\r\n",
       "<g id=\"node14\" class=\"node\"><title>13</title>\r\n",
       "<polygon fill=\"none\" stroke=\"black\" points=\"1106,-53 980,-53 980,-0 1106,-0 1106,-53\"/>\r\n",
       "<text text-anchor=\"middle\" x=\"1043\" y=\"-37.8\" font-family=\"Times New Roman,serif\" font-size=\"14.00\">gini = 0.097</text>\r\n",
       "<text text-anchor=\"middle\" x=\"1043\" y=\"-22.8\" font-family=\"Times New Roman,serif\" font-size=\"14.00\">samples = 59</text>\r\n",
       "<text text-anchor=\"middle\" x=\"1043\" y=\"-7.8\" font-family=\"Times New Roman,serif\" font-size=\"14.00\">value = [0, 0, 3, 56]</text>\r\n",
       "</g>\r\n",
       "<!-- 12&#45;&gt;13 -->\r\n",
       "<g id=\"edge13\" class=\"edge\"><title>12&#45;&gt;13</title>\r\n",
       "<path fill=\"none\" stroke=\"black\" d=\"M1043,-88.9485C1043,-80.7153 1043,-71.848 1043,-63.4814\"/>\r\n",
       "<polygon fill=\"black\" stroke=\"black\" points=\"1046.5,-63.2367 1043,-53.2367 1039.5,-63.2367 1046.5,-63.2367\"/>\r\n",
       "</g>\r\n",
       "<!-- 14 -->\r\n",
       "<g id=\"node15\" class=\"node\"><title>14</title>\r\n",
       "<polygon fill=\"none\" stroke=\"black\" points=\"1257.5,-53 1124.5,-53 1124.5,-0 1257.5,-0 1257.5,-53\"/>\r\n",
       "<text text-anchor=\"middle\" x=\"1191\" y=\"-37.8\" font-family=\"Times New Roman,serif\" font-size=\"14.00\">gini = 0.499</text>\r\n",
       "<text text-anchor=\"middle\" x=\"1191\" y=\"-22.8\" font-family=\"Times New Roman,serif\" font-size=\"14.00\">samples = 27</text>\r\n",
       "<text text-anchor=\"middle\" x=\"1191\" y=\"-7.8\" font-family=\"Times New Roman,serif\" font-size=\"14.00\">value = [0, 0, 14, 13]</text>\r\n",
       "</g>\r\n",
       "<!-- 12&#45;&gt;14 -->\r\n",
       "<g id=\"edge14\" class=\"edge\"><title>12&#45;&gt;14</title>\r\n",
       "<path fill=\"none\" stroke=\"black\" d=\"M1094.76,-88.9485C1110.09,-79.1601 1126.83,-68.4756 1141.98,-58.8015\"/>\r\n",
       "<polygon fill=\"black\" stroke=\"black\" points=\"1144.15,-61.5683 1150.69,-53.2367 1140.38,-55.6685 1144.15,-61.5683\"/>\r\n",
       "</g>\r\n",
       "</g>\r\n",
       "</svg>\r\n"
      ],
      "text/plain": [
       "<graphviz.files.Source at 0x1e2f80c6c18>"
      ]
     },
     "execution_count": 1265,
     "metadata": {},
     "output_type": "execute_result"
    }
   ],
   "source": [
    "from graphviz import Source\n",
    "from sklearn import tree\n",
    "Source( tree.export_graphviz(dt_simple, out_file=None, feature_names=X.columns))"
   ]
  },
  {
   "cell_type": "markdown",
   "metadata": {
    "slideshow": {
     "slide_type": "slide"
    }
   },
   "source": [
    "### 10-fold cross validation"
   ]
  },
  {
   "cell_type": "code",
   "execution_count": 1266,
   "metadata": {
    "slideshow": {
     "slide_type": "subslide"
    }
   },
   "outputs": [
    {
     "name": "stdout",
     "output_type": "stream",
     "text": [
      "[0.57640751 0.63538874 0.60321716 0.65053763 0.70967742 0.6155914\n",
      " 0.66935484 0.62365591 0.60916442 0.65498652]\n",
      "0.6347981552523039\n"
     ]
    }
   ],
   "source": [
    "scores = cross_val_score(DecisionTreeClassifier(), X, y, scoring='accuracy', cv=10)\n",
    "print(scores)\n",
    "print(scores.mean())"
   ]
  },
  {
   "cell_type": "code",
   "execution_count": 1267,
   "metadata": {
    "slideshow": {
     "slide_type": "subslide"
    }
   },
   "outputs": [
    {
     "name": "stdout",
     "output_type": "stream",
     "text": [
      "Accuracy: 0.63 (+/- 0.07)\n"
     ]
    }
   ],
   "source": [
    "print(\"Accuracy: %0.2f (+/- %0.2f)\" % (scores.mean(), scores.std() * 2))"
   ]
  },
  {
   "cell_type": "markdown",
   "metadata": {
    "slideshow": {
     "slide_type": "slide"
    }
   },
   "source": [
    "### Random Forrest Classifier"
   ]
  },
  {
   "cell_type": "code",
   "execution_count": 1268,
   "metadata": {
    "slideshow": {
     "slide_type": "subslide"
    }
   },
   "outputs": [
    {
     "data": {
      "text/plain": [
       "0.7233661593554163"
      ]
     },
     "execution_count": 1268,
     "metadata": {},
     "output_type": "execute_result"
    }
   ],
   "source": [
    "from sklearn.ensemble import RandomForestClassifier\n",
    "\n",
    "clf = RandomForestClassifier(n_estimators=20)    #building 20 decision trees\n",
    "clf=clf.fit(X_train, y_train)\n",
    "clf.score(X_test, y_test)"
   ]
  },
  {
   "cell_type": "code",
   "execution_count": 1269,
   "metadata": {
    "slideshow": {
     "slide_type": "subslide"
    }
   },
   "outputs": [
    {
     "name": "stdout",
     "output_type": "stream",
     "text": [
      "0.7233661593554163\n",
      "[[  1  13   7   0]\n",
      " [  0 168 153   0]\n",
      " [  0  89 612   8]\n",
      " [  0   0  39  27]]\n",
      "              precision    recall  f1-score   support\n",
      "\n",
      "           0       1.00      0.05      0.09        21\n",
      "           1       0.62      0.52      0.57       321\n",
      "           2       0.75      0.86      0.81       709\n",
      "           3       0.77      0.41      0.53        66\n",
      "\n",
      "    accuracy                           0.72      1117\n",
      "   macro avg       0.79      0.46      0.50      1117\n",
      "weighted avg       0.72      0.72      0.71      1117\n",
      "\n"
     ]
    }
   ],
   "source": [
    "print(metrics.accuracy_score(y_test, clf.predict(X_test))) #overall accuracy\n",
    "print(metrics.confusion_matrix(y_test, clf.predict(X_test)))\n",
    "print(metrics.classification_report(y_test, clf.predict(X_test)))"
   ]
  },
  {
   "cell_type": "markdown",
   "metadata": {
    "slideshow": {
     "slide_type": "subslide"
    }
   },
   "source": [
    "- Random forrest classifier is the most accurate classification model at 75% accurate"
   ]
  },
  {
   "cell_type": "code",
   "execution_count": 1270,
   "metadata": {
    "slideshow": {
     "slide_type": "subslide"
    }
   },
   "outputs": [
    {
     "data": {
      "text/html": [
       "<div>\n",
       "<style scoped>\n",
       "    .dataframe tbody tr th:only-of-type {\n",
       "        vertical-align: middle;\n",
       "    }\n",
       "\n",
       "    .dataframe tbody tr th {\n",
       "        vertical-align: top;\n",
       "    }\n",
       "\n",
       "    .dataframe thead th {\n",
       "        text-align: right;\n",
       "    }\n",
       "</style>\n",
       "<table border=\"1\" class=\"dataframe\">\n",
       "  <thead>\n",
       "    <tr style=\"text-align: right;\">\n",
       "      <th></th>\n",
       "      <th>importance</th>\n",
       "    </tr>\n",
       "  </thead>\n",
       "  <tbody>\n",
       "    <tr>\n",
       "      <th>num_voted_users</th>\n",
       "      <td>0.166992</td>\n",
       "    </tr>\n",
       "    <tr>\n",
       "      <th>duration</th>\n",
       "      <td>0.101676</td>\n",
       "    </tr>\n",
       "    <tr>\n",
       "      <th>gross</th>\n",
       "      <td>0.088359</td>\n",
       "    </tr>\n",
       "    <tr>\n",
       "      <th>num_user_for_reviews</th>\n",
       "      <td>0.084651</td>\n",
       "    </tr>\n",
       "    <tr>\n",
       "      <th>num_critic_for_reviews</th>\n",
       "      <td>0.082983</td>\n",
       "    </tr>\n",
       "    <tr>\n",
       "      <th>budget</th>\n",
       "      <td>0.081306</td>\n",
       "    </tr>\n",
       "    <tr>\n",
       "      <th>return_investment</th>\n",
       "      <td>0.072396</td>\n",
       "    </tr>\n",
       "    <tr>\n",
       "      <th>profit</th>\n",
       "      <td>0.070730</td>\n",
       "    </tr>\n",
       "    <tr>\n",
       "      <th>director_facebook_likes</th>\n",
       "      <td>0.068247</td>\n",
       "    </tr>\n",
       "    <tr>\n",
       "      <th>actor_1_facebook_likes</th>\n",
       "      <td>0.067410</td>\n",
       "    </tr>\n",
       "    <tr>\n",
       "      <th>title_year</th>\n",
       "      <td>0.064859</td>\n",
       "    </tr>\n",
       "    <tr>\n",
       "      <th>content_rating_PG-13</th>\n",
       "      <td>0.013599</td>\n",
       "    </tr>\n",
       "    <tr>\n",
       "      <th>country_USA</th>\n",
       "      <td>0.011400</td>\n",
       "    </tr>\n",
       "    <tr>\n",
       "      <th>content_rating_R</th>\n",
       "      <td>0.010895</td>\n",
       "    </tr>\n",
       "    <tr>\n",
       "      <th>content_rating_PG</th>\n",
       "      <td>0.008729</td>\n",
       "    </tr>\n",
       "    <tr>\n",
       "      <th>country_UK</th>\n",
       "      <td>0.005232</td>\n",
       "    </tr>\n",
       "    <tr>\n",
       "      <th>content_rating_NC-17</th>\n",
       "      <td>0.000536</td>\n",
       "    </tr>\n",
       "  </tbody>\n",
       "</table>\n",
       "</div>"
      ],
      "text/plain": [
       "                         importance\n",
       "num_voted_users            0.166992\n",
       "duration                   0.101676\n",
       "gross                      0.088359\n",
       "num_user_for_reviews       0.084651\n",
       "num_critic_for_reviews     0.082983\n",
       "budget                     0.081306\n",
       "return_investment          0.072396\n",
       "profit                     0.070730\n",
       "director_facebook_likes    0.068247\n",
       "actor_1_facebook_likes     0.067410\n",
       "title_year                 0.064859\n",
       "content_rating_PG-13       0.013599\n",
       "country_USA                0.011400\n",
       "content_rating_R           0.010895\n",
       "content_rating_PG          0.008729\n",
       "country_UK                 0.005232\n",
       "content_rating_NC-17       0.000536"
      ]
     },
     "execution_count": 1270,
     "metadata": {},
     "output_type": "execute_result"
    }
   ],
   "source": [
    "pd.DataFrame(clf.feature_importances_, index = X.columns,\n",
    "                                    columns=['importance']).sort_values('importance', ascending=False)"
   ]
  },
  {
   "cell_type": "code",
   "execution_count": 1271,
   "metadata": {
    "slideshow": {
     "slide_type": "subslide"
    }
   },
   "outputs": [
    {
     "data": {
      "image/png": "[encoded data removed]",
      "text/plain": [
       "<Figure size 432x288 with 1 Axes>"
      ]
     },
     "metadata": {
      "needs_background": "light"
     },
     "output_type": "display_data"
    }
   ],
   "source": [
    "pd.DataFrame(clf.feature_importances_, index = X.columns,\n",
    "                                    columns=['importance']).sort_values('importance', ascending=False).plot(kind='barh', \n",
    "                                                                                                            legend=None);"
   ]
  },
  {
   "cell_type": "markdown",
   "metadata": {
    "slideshow": {
     "slide_type": "slide"
    }
   },
   "source": [
    "### KNN Classifier"
   ]
  },
  {
   "cell_type": "code",
   "execution_count": 1272,
   "metadata": {
    "slideshow": {
     "slide_type": "subslide"
    }
   },
   "outputs": [
    {
     "data": {
      "text/plain": [
       "KNeighborsClassifier(algorithm='auto', leaf_size=30, metric='minkowski',\n",
       "                     metric_params=None, n_jobs=None, n_neighbors=5, p=2,\n",
       "                     weights='uniform')"
      ]
     },
     "execution_count": 1272,
     "metadata": {},
     "output_type": "execute_result"
    }
   ],
   "source": [
    "y = df['imdbscore_category']\n",
    "X = df.drop(['director_name', 'actor_2_name', 'genres', 'actor_1_name', 'movie_title', 'plot_keywords', 'imdbscore_category', 'imdb_score', 'imdbscores_bins'], axis = 1)\n",
    "\n",
    "X_train, X_test, y_train, y_test = train_test_split(X, y, test_size=0.3, random_state=42)\n",
    "knn = KNeighborsClassifier()\n",
    "knn.fit(X_train, y_train)"
   ]
  },
  {
   "cell_type": "code",
   "execution_count": 1273,
   "metadata": {
    "slideshow": {
     "slide_type": "subslide"
    }
   },
   "outputs": [
    {
     "name": "stdout",
     "output_type": "stream",
     "text": [
      "0.5684870188003581\n",
      "--------------------------------------------------------\n",
      "[[  0   2  27   0]\n",
      " [  0  96 226   1]\n",
      " [  2 150 536   9]\n",
      " [  0  10  55   3]]\n",
      "--------------------------------------------------------\n",
      "              precision    recall  f1-score   support\n",
      "\n",
      "           0       0.00      0.00      0.00        29\n",
      "           1       0.37      0.30      0.33       323\n",
      "           2       0.64      0.77      0.70       697\n",
      "           3       0.23      0.04      0.07        68\n",
      "\n",
      "    accuracy                           0.57      1117\n",
      "   macro avg       0.31      0.28      0.28      1117\n",
      "weighted avg       0.52      0.57      0.53      1117\n",
      "\n",
      "--------------------------------------------------------\n"
     ]
    }
   ],
   "source": [
    "print(metrics.accuracy_score(y_test, knn.predict(X_test)))\n",
    "print(\"--------------------------------------------------------\")\n",
    "print(metrics.confusion_matrix(y_test, knn.predict(X_test))) \n",
    "print(\"--------------------------------------------------------\")\n",
    "print(metrics.classification_report(y_test, knn.predict(X_test)))\n",
    "print(\"--------------------------------------------------------\")"
   ]
  },
  {
   "cell_type": "markdown",
   "metadata": {
    "slideshow": {
     "slide_type": "slide"
    }
   },
   "source": [
    "#### evaluate KNN using 10 fold cross validation"
   ]
  },
  {
   "cell_type": "code",
   "execution_count": 1274,
   "metadata": {
    "slideshow": {
     "slide_type": "subslide"
    }
   },
   "outputs": [
    {
     "name": "stdout",
     "output_type": "stream",
     "text": [
      "[0.55495979 0.43967828 0.49061662 0.47580645 0.44892473 0.37365591\n",
      " 0.39516129 0.39784946 0.4690027  0.64420485]\n",
      "0.46898600883211844\n"
     ]
    }
   ],
   "source": [
    "scores = cross_val_score(KNeighborsClassifier(), X, y, scoring='accuracy', cv=10)\n",
    "print(scores)\n",
    "print(scores.mean())"
   ]
  },
  {
   "cell_type": "markdown",
   "metadata": {
    "slideshow": {
     "slide_type": "slide"
    }
   },
   "source": [
    "### Feature Selection"
   ]
  },
  {
   "cell_type": "code",
   "execution_count": 1275,
   "metadata": {
    "slideshow": {
     "slide_type": "skip"
    }
   },
   "outputs": [
    {
     "name": "stdout",
     "output_type": "stream",
     "text": [
      "(3721, 15) (3721,)\n"
     ]
    }
   ],
   "source": [
    "y = df['imdbscore_category']\n",
    "X = df.drop(['director_name', 'actor_2_name', 'genres', 'actor_1_name', 'movie_title', 'plot_keywords', 'imdbscore_category', 'imdb_score', 'imdbscores_bins', 'profit', 'return_investment'], axis = 1)\n",
    "\n",
    "print(X.shape, y.shape)"
   ]
  },
  {
   "cell_type": "code",
   "execution_count": 1276,
   "metadata": {
    "slideshow": {
     "slide_type": "subslide"
    }
   },
   "outputs": [
    {
     "name": "stdout",
     "output_type": "stream",
     "text": [
      "[[760505847    886204 237000000]\n",
      " [309404152    471220 300000000]\n",
      " [200074175    275868 245000000]\n",
      " ...\n",
      " [   424760     72639      7000]\n",
      " [  2040920     52055      7000]\n",
      " [    85222      4285      1100]]\n"
     ]
    }
   ],
   "source": [
    "X_new = SelectKBest(chi2, k=3).fit_transform(X, y)\n",
    "print(X_new)"
   ]
  },
  {
   "cell_type": "code",
   "execution_count": 1277,
   "metadata": {
    "slideshow": {
     "slide_type": "subslide"
    }
   },
   "outputs": [
    {
     "name": "stdout",
     "output_type": "stream",
     "text": [
      "[4 5 7]\n"
     ]
    }
   ],
   "source": [
    "selector = SelectKBest(chi2, k=3).fit(X, y)\n",
    "idxs_selected = selector.get_support(indices=True)\n",
    "print(idxs_selected)"
   ]
  },
  {
   "cell_type": "code",
   "execution_count": 1278,
   "metadata": {
    "slideshow": {
     "slide_type": "subslide"
    }
   },
   "outputs": [
    {
     "data": {
      "text/html": [
       "<div>\n",
       "<style scoped>\n",
       "    .dataframe tbody tr th:only-of-type {\n",
       "        vertical-align: middle;\n",
       "    }\n",
       "\n",
       "    .dataframe tbody tr th {\n",
       "        vertical-align: top;\n",
       "    }\n",
       "\n",
       "    .dataframe thead th {\n",
       "        text-align: right;\n",
       "    }\n",
       "</style>\n",
       "<table border=\"1\" class=\"dataframe\">\n",
       "  <thead>\n",
       "    <tr style=\"text-align: right;\">\n",
       "      <th></th>\n",
       "      <th>num_critic_for_reviews</th>\n",
       "      <th>duration</th>\n",
       "      <th>director_facebook_likes</th>\n",
       "      <th>actor_1_facebook_likes</th>\n",
       "      <th>gross</th>\n",
       "      <th>num_voted_users</th>\n",
       "      <th>num_user_for_reviews</th>\n",
       "      <th>budget</th>\n",
       "      <th>title_year</th>\n",
       "      <th>country_UK</th>\n",
       "      <th>country_USA</th>\n",
       "      <th>content_rating_NC-17</th>\n",
       "      <th>content_rating_PG</th>\n",
       "      <th>content_rating_PG-13</th>\n",
       "      <th>content_rating_R</th>\n",
       "    </tr>\n",
       "  </thead>\n",
       "  <tbody>\n",
       "    <tr>\n",
       "      <th>0</th>\n",
       "      <td>723</td>\n",
       "      <td>178</td>\n",
       "      <td>0</td>\n",
       "      <td>1000</td>\n",
       "      <td>760505847</td>\n",
       "      <td>886204</td>\n",
       "      <td>3054</td>\n",
       "      <td>237000000</td>\n",
       "      <td>2009</td>\n",
       "      <td>0</td>\n",
       "      <td>1</td>\n",
       "      <td>0</td>\n",
       "      <td>0</td>\n",
       "      <td>1</td>\n",
       "      <td>0</td>\n",
       "    </tr>\n",
       "  </tbody>\n",
       "</table>\n",
       "</div>"
      ],
      "text/plain": [
       "   num_critic_for_reviews  duration  director_facebook_likes  \\\n",
       "0                     723       178                        0   \n",
       "\n",
       "   actor_1_facebook_likes      gross  num_voted_users  num_user_for_reviews  \\\n",
       "0                    1000  760505847           886204                  3054   \n",
       "\n",
       "      budget  title_year  country_UK  country_USA  content_rating_NC-17  \\\n",
       "0  237000000        2009           0            1                     0   \n",
       "\n",
       "   content_rating_PG  content_rating_PG-13  content_rating_R  \n",
       "0                  0                     1                 0  "
      ]
     },
     "execution_count": 1278,
     "metadata": {},
     "output_type": "execute_result"
    }
   ],
   "source": [
    "X.head(1)"
   ]
  },
  {
   "cell_type": "code",
   "execution_count": 1279,
   "metadata": {
    "slideshow": {
     "slide_type": "skip"
    }
   },
   "outputs": [],
   "source": [
    "X_train, X_test, y_train, y_test = train_test_split(X_new, y, test_size=0.3, random_state=0)\n",
    "\n",
    "dt = DecisionTreeClassifier()\n",
    "\n",
    "dt = dt.fit(X_train, y_train)"
   ]
  },
  {
   "cell_type": "code",
   "execution_count": 1280,
   "metadata": {
    "slideshow": {
     "slide_type": "subslide"
    }
   },
   "outputs": [
    {
     "name": "stdout",
     "output_type": "stream",
     "text": [
      "0.6195165622202328\n",
      "--------------------------------------------------------\n",
      "[[  2  10   9   0]\n",
      " [ 12 158 148   3]\n",
      " [ 20 165 496  28]\n",
      " [  0   3  27  36]]\n",
      "--------------------------------------------------------\n",
      "              precision    recall  f1-score   support\n",
      "\n",
      "           0       0.06      0.10      0.07        21\n",
      "           1       0.47      0.49      0.48       321\n",
      "           2       0.73      0.70      0.71       709\n",
      "           3       0.54      0.55      0.54        66\n",
      "\n",
      "    accuracy                           0.62      1117\n",
      "   macro avg       0.45      0.46      0.45      1117\n",
      "weighted avg       0.63      0.62      0.62      1117\n",
      "\n",
      "--------------------------------------------------------\n"
     ]
    }
   ],
   "source": [
    "print(metrics.accuracy_score(y_test, dt.predict(X_test)))\n",
    "print(\"--------------------------------------------------------\")\n",
    "print(metrics.confusion_matrix(y_test, dt.predict(X_test))) \n",
    "print(\"--------------------------------------------------------\")\n",
    "print(metrics.classification_report(y_test, dt.predict(X_test)))\n",
    "print(\"--------------------------------------------------------\")"
   ]
  },
  {
   "cell_type": "code",
   "execution_count": 1281,
   "metadata": {
    "slideshow": {
     "slide_type": "skip"
    }
   },
   "outputs": [
    {
     "name": "stdout",
     "output_type": "stream",
     "text": [
      "0.6016114592658908\n",
      "[[  0   2  19   0]\n",
      " [  0  15 303   3]\n",
      " [  0  10 621  78]\n",
      " [  0   0  30  36]]\n",
      "              precision    recall  f1-score   support\n",
      "\n",
      "           0       0.00      0.00      0.00        21\n",
      "           1       0.56      0.05      0.09       321\n",
      "           2       0.64      0.88      0.74       709\n",
      "           3       0.31      0.55      0.39        66\n",
      "\n",
      "    accuracy                           0.60      1117\n",
      "   macro avg       0.38      0.37      0.30      1117\n",
      "weighted avg       0.58      0.60      0.52      1117\n",
      "\n"
     ]
    }
   ],
   "source": [
    "X_train, X_test, y_train, y_test = train_test_split(X_new, y, test_size=0.3, random_state=0)\n",
    "lr = LogisticRegression()\n",
    "lr.fit(X_train, y_train)\n",
    "\n",
    "\n",
    "#Model evaluation\n",
    "print(metrics.accuracy_score(y_test, lr.predict(X_test)))\n",
    "print(metrics.confusion_matrix(y_test, lr.predict(X_test)))\n",
    "print(metrics.classification_report(y_test, lr.predict(X_test)))\n",
    "import warnings\n",
    "warnings.filterwarnings(\"ignore\")"
   ]
  },
  {
   "cell_type": "markdown",
   "metadata": {
    "slideshow": {
     "slide_type": "slide"
    }
   },
   "source": [
    "### Recursive Feature Selection"
   ]
  },
  {
   "cell_type": "code",
   "execution_count": 1282,
   "metadata": {
    "slideshow": {
     "slide_type": "subslide"
    }
   },
   "outputs": [
    {
     "name": "stdout",
     "output_type": "stream",
     "text": [
      "[False False False False False False False False False  True  True False\n",
      "  True  True  True]\n",
      "[ 3  2  6  7  9  8  5 11  4  1  1 10  1  1  1]\n"
     ]
    }
   ],
   "source": [
    "model = LogisticRegression()\n",
    "rfe = RFE(model, 5) \n",
    "rfe = rfe.fit(X, y)\n",
    "print((rfe.support_))\n",
    "print((rfe.ranking_))\n",
    "import warnings\n",
    "warnings.filterwarnings(\"ignore\")"
   ]
  },
  {
   "cell_type": "code",
   "execution_count": 1283,
   "metadata": {
    "slideshow": {
     "slide_type": "skip"
    }
   },
   "outputs": [
    {
     "data": {
      "text/html": [
       "<div>\n",
       "<style scoped>\n",
       "    .dataframe tbody tr th:only-of-type {\n",
       "        vertical-align: middle;\n",
       "    }\n",
       "\n",
       "    .dataframe tbody tr th {\n",
       "        vertical-align: top;\n",
       "    }\n",
       "\n",
       "    .dataframe thead th {\n",
       "        text-align: right;\n",
       "    }\n",
       "</style>\n",
       "<table border=\"1\" class=\"dataframe\">\n",
       "  <thead>\n",
       "    <tr style=\"text-align: right;\">\n",
       "      <th></th>\n",
       "      <th>num_critic_for_reviews</th>\n",
       "      <th>duration</th>\n",
       "      <th>director_facebook_likes</th>\n",
       "      <th>actor_1_facebook_likes</th>\n",
       "      <th>gross</th>\n",
       "      <th>num_voted_users</th>\n",
       "      <th>num_user_for_reviews</th>\n",
       "      <th>budget</th>\n",
       "      <th>title_year</th>\n",
       "      <th>country_UK</th>\n",
       "      <th>country_USA</th>\n",
       "      <th>content_rating_NC-17</th>\n",
       "      <th>content_rating_PG</th>\n",
       "      <th>content_rating_PG-13</th>\n",
       "      <th>content_rating_R</th>\n",
       "    </tr>\n",
       "  </thead>\n",
       "  <tbody>\n",
       "    <tr>\n",
       "      <th>0</th>\n",
       "      <td>723</td>\n",
       "      <td>178</td>\n",
       "      <td>0</td>\n",
       "      <td>1000</td>\n",
       "      <td>760505847</td>\n",
       "      <td>886204</td>\n",
       "      <td>3054</td>\n",
       "      <td>237000000</td>\n",
       "      <td>2009</td>\n",
       "      <td>0</td>\n",
       "      <td>1</td>\n",
       "      <td>0</td>\n",
       "      <td>0</td>\n",
       "      <td>1</td>\n",
       "      <td>0</td>\n",
       "    </tr>\n",
       "  </tbody>\n",
       "</table>\n",
       "</div>"
      ],
      "text/plain": [
       "   num_critic_for_reviews  duration  director_facebook_likes  \\\n",
       "0                     723       178                        0   \n",
       "\n",
       "   actor_1_facebook_likes      gross  num_voted_users  num_user_for_reviews  \\\n",
       "0                    1000  760505847           886204                  3054   \n",
       "\n",
       "      budget  title_year  country_UK  country_USA  content_rating_NC-17  \\\n",
       "0  237000000        2009           0            1                     0   \n",
       "\n",
       "   content_rating_PG  content_rating_PG-13  content_rating_R  \n",
       "0                  0                     1                 0  "
      ]
     },
     "execution_count": 1283,
     "metadata": {},
     "output_type": "execute_result"
    }
   ],
   "source": [
    "X.head(1)"
   ]
  },
  {
   "cell_type": "code",
   "execution_count": 1284,
   "metadata": {
    "slideshow": {
     "slide_type": "subslide"
    }
   },
   "outputs": [
    {
     "data": {
      "text/html": [
       "<div>\n",
       "<style scoped>\n",
       "    .dataframe tbody tr th:only-of-type {\n",
       "        vertical-align: middle;\n",
       "    }\n",
       "\n",
       "    .dataframe tbody tr th {\n",
       "        vertical-align: top;\n",
       "    }\n",
       "\n",
       "    .dataframe thead th {\n",
       "        text-align: right;\n",
       "    }\n",
       "</style>\n",
       "<table border=\"1\" class=\"dataframe\">\n",
       "  <thead>\n",
       "    <tr style=\"text-align: right;\">\n",
       "      <th></th>\n",
       "      <th>feature</th>\n",
       "      <th>importance</th>\n",
       "    </tr>\n",
       "  </thead>\n",
       "  <tbody>\n",
       "    <tr>\n",
       "      <th>0</th>\n",
       "      <td>num_critic_for_reviews</td>\n",
       "      <td>3</td>\n",
       "    </tr>\n",
       "    <tr>\n",
       "      <th>1</th>\n",
       "      <td>duration</td>\n",
       "      <td>2</td>\n",
       "    </tr>\n",
       "    <tr>\n",
       "      <th>2</th>\n",
       "      <td>director_facebook_likes</td>\n",
       "      <td>6</td>\n",
       "    </tr>\n",
       "    <tr>\n",
       "      <th>3</th>\n",
       "      <td>actor_1_facebook_likes</td>\n",
       "      <td>7</td>\n",
       "    </tr>\n",
       "    <tr>\n",
       "      <th>4</th>\n",
       "      <td>gross</td>\n",
       "      <td>9</td>\n",
       "    </tr>\n",
       "    <tr>\n",
       "      <th>5</th>\n",
       "      <td>num_voted_users</td>\n",
       "      <td>8</td>\n",
       "    </tr>\n",
       "    <tr>\n",
       "      <th>6</th>\n",
       "      <td>num_user_for_reviews</td>\n",
       "      <td>5</td>\n",
       "    </tr>\n",
       "    <tr>\n",
       "      <th>7</th>\n",
       "      <td>budget</td>\n",
       "      <td>11</td>\n",
       "    </tr>\n",
       "    <tr>\n",
       "      <th>8</th>\n",
       "      <td>title_year</td>\n",
       "      <td>4</td>\n",
       "    </tr>\n",
       "    <tr>\n",
       "      <th>9</th>\n",
       "      <td>country_UK</td>\n",
       "      <td>1</td>\n",
       "    </tr>\n",
       "    <tr>\n",
       "      <th>10</th>\n",
       "      <td>country_USA</td>\n",
       "      <td>1</td>\n",
       "    </tr>\n",
       "    <tr>\n",
       "      <th>11</th>\n",
       "      <td>content_rating_NC-17</td>\n",
       "      <td>10</td>\n",
       "    </tr>\n",
       "    <tr>\n",
       "      <th>12</th>\n",
       "      <td>content_rating_PG</td>\n",
       "      <td>1</td>\n",
       "    </tr>\n",
       "    <tr>\n",
       "      <th>13</th>\n",
       "      <td>content_rating_PG-13</td>\n",
       "      <td>1</td>\n",
       "    </tr>\n",
       "    <tr>\n",
       "      <th>14</th>\n",
       "      <td>content_rating_R</td>\n",
       "      <td>1</td>\n",
       "    </tr>\n",
       "  </tbody>\n",
       "</table>\n",
       "</div>"
      ],
      "text/plain": [
       "                    feature  importance\n",
       "0    num_critic_for_reviews           3\n",
       "1                  duration           2\n",
       "2   director_facebook_likes           6\n",
       "3    actor_1_facebook_likes           7\n",
       "4                     gross           9\n",
       "5           num_voted_users           8\n",
       "6      num_user_for_reviews           5\n",
       "7                    budget          11\n",
       "8                title_year           4\n",
       "9                country_UK           1\n",
       "10              country_USA           1\n",
       "11     content_rating_NC-17          10\n",
       "12        content_rating_PG           1\n",
       "13     content_rating_PG-13           1\n",
       "14         content_rating_R           1"
      ]
     },
     "execution_count": 1284,
     "metadata": {},
     "output_type": "execute_result"
    }
   ],
   "source": [
    "pd.DataFrame({'feature':X.columns, 'importance':rfe.ranking_})"
   ]
  },
  {
   "cell_type": "code",
   "execution_count": 1285,
   "metadata": {
    "slideshow": {
     "slide_type": "skip"
    }
   },
   "outputs": [
    {
     "name": "stdout",
     "output_type": "stream",
     "text": [
      "   country_UK  country_USA  content_rating_PG  content_rating_PG-13  \\\n",
      "0           0            1                  0                     1   \n",
      "1           0            1                  0                     1   \n",
      "2           1            0                  0                     1   \n",
      "3           0            1                  0                     1   \n",
      "5           0            1                  0                     1   \n",
      "\n",
      "   content_rating_R  \n",
      "0                 0  \n",
      "1                 0  \n",
      "2                 0  \n",
      "3                 0  \n",
      "5                 0  \n"
     ]
    }
   ],
   "source": [
    "X_logistic = df[['country_UK', 'country_USA', 'content_rating_PG', 'content_rating_PG-13', 'content_rating_R']]\n",
    "print(X_logistic.head())"
   ]
  },
  {
   "cell_type": "code",
   "execution_count": 1286,
   "metadata": {
    "slideshow": {
     "slide_type": "subslide"
    }
   },
   "outputs": [
    {
     "name": "stdout",
     "output_type": "stream",
     "text": [
      "0.6347358997314234\n",
      "[[  0   0  21   0]\n",
      " [  0   0 321   0]\n",
      " [  0   0 709   0]\n",
      " [  0   0  66   0]]\n",
      "              precision    recall  f1-score   support\n",
      "\n",
      "           0       0.00      0.00      0.00        21\n",
      "           1       0.00      0.00      0.00       321\n",
      "           2       0.63      1.00      0.78       709\n",
      "           3       0.00      0.00      0.00        66\n",
      "\n",
      "    accuracy                           0.63      1117\n",
      "   macro avg       0.16      0.25      0.19      1117\n",
      "weighted avg       0.40      0.63      0.49      1117\n",
      "\n"
     ]
    }
   ],
   "source": [
    "X_train, X_test, y_train, y_test = train_test_split(X_logistic, y, test_size=0.3, random_state=0)\n",
    "lr = LogisticRegression()\n",
    "lr.fit(X_train, y_train)\n",
    "\n",
    "\n",
    "print(metrics.accuracy_score(y_test, lr.predict(X_test)))\n",
    "print(metrics.confusion_matrix(y_test, lr.predict(X_test)))\n",
    "print(metrics.classification_report(y_test, lr.predict(X_test)))"
   ]
  },
  {
   "cell_type": "markdown",
   "metadata": {
    "slideshow": {
     "slide_type": "slide"
    }
   },
   "source": [
    "### Feature importance"
   ]
  },
  {
   "cell_type": "code",
   "execution_count": 1287,
   "metadata": {
    "slideshow": {
     "slide_type": "subslide"
    }
   },
   "outputs": [
    {
     "name": "stdout",
     "output_type": "stream",
     "text": [
      "1.0\n",
      "[0.10312023 0.11580645 0.08091899 0.08153901 0.09695386 0.1732316\n",
      " 0.10112275 0.10017179 0.09022864 0.01088982 0.01497478 0.00116049\n",
      " 0.0051741  0.01175027 0.01295723]\n"
     ]
    }
   ],
   "source": [
    "model_extra = ExtraTreesClassifier()\n",
    "model_extra.fit(X, y)\n",
    "print(model_extra.score(X, y))\n",
    "\n",
    "print((model_extra.feature_importances_))"
   ]
  },
  {
   "cell_type": "code",
   "execution_count": 1288,
   "metadata": {
    "slideshow": {
     "slide_type": "subslide"
    }
   },
   "outputs": [
    {
     "name": "stdout",
     "output_type": "stream",
     "text": [
      "Features sorted by their rank:\n",
      "[(0.0012, 'content_rating_NC-17'), (0.0052, 'content_rating_PG'), (0.0109, 'country_UK'), (0.0118, 'content_rating_PG-13'), (0.013, 'content_rating_R'), (0.015, 'country_USA'), (0.0809, 'director_facebook_likes'), (0.0815, 'actor_1_facebook_likes'), (0.0902, 'title_year'), (0.097, 'gross'), (0.1002, 'budget'), (0.1011, 'num_user_for_reviews'), (0.1031, 'num_critic_for_reviews'), (0.1158, 'duration'), (0.1732, 'num_voted_users')]\n"
     ]
    }
   ],
   "source": [
    "print(\"Features sorted by their rank:\")\n",
    "print(sorted(zip([round(x, 4) for x in model_extra.feature_importances_], X.columns)))"
   ]
  },
  {
   "cell_type": "code",
   "execution_count": 1289,
   "metadata": {
    "slideshow": {
     "slide_type": "subslide"
    }
   },
   "outputs": [
    {
     "data": {
      "text/html": [
       "<div>\n",
       "<style scoped>\n",
       "    .dataframe tbody tr th:only-of-type {\n",
       "        vertical-align: middle;\n",
       "    }\n",
       "\n",
       "    .dataframe tbody tr th {\n",
       "        vertical-align: top;\n",
       "    }\n",
       "\n",
       "    .dataframe thead th {\n",
       "        text-align: right;\n",
       "    }\n",
       "</style>\n",
       "<table border=\"1\" class=\"dataframe\">\n",
       "  <thead>\n",
       "    <tr style=\"text-align: right;\">\n",
       "      <th></th>\n",
       "      <th>importance</th>\n",
       "    </tr>\n",
       "  </thead>\n",
       "  <tbody>\n",
       "    <tr>\n",
       "      <th>num_voted_users</th>\n",
       "      <td>0.173232</td>\n",
       "    </tr>\n",
       "    <tr>\n",
       "      <th>duration</th>\n",
       "      <td>0.115806</td>\n",
       "    </tr>\n",
       "    <tr>\n",
       "      <th>num_critic_for_reviews</th>\n",
       "      <td>0.103120</td>\n",
       "    </tr>\n",
       "    <tr>\n",
       "      <th>num_user_for_reviews</th>\n",
       "      <td>0.101123</td>\n",
       "    </tr>\n",
       "    <tr>\n",
       "      <th>budget</th>\n",
       "      <td>0.100172</td>\n",
       "    </tr>\n",
       "    <tr>\n",
       "      <th>gross</th>\n",
       "      <td>0.096954</td>\n",
       "    </tr>\n",
       "    <tr>\n",
       "      <th>title_year</th>\n",
       "      <td>0.090229</td>\n",
       "    </tr>\n",
       "    <tr>\n",
       "      <th>actor_1_facebook_likes</th>\n",
       "      <td>0.081539</td>\n",
       "    </tr>\n",
       "    <tr>\n",
       "      <th>director_facebook_likes</th>\n",
       "      <td>0.080919</td>\n",
       "    </tr>\n",
       "    <tr>\n",
       "      <th>country_USA</th>\n",
       "      <td>0.014975</td>\n",
       "    </tr>\n",
       "    <tr>\n",
       "      <th>content_rating_R</th>\n",
       "      <td>0.012957</td>\n",
       "    </tr>\n",
       "    <tr>\n",
       "      <th>content_rating_PG-13</th>\n",
       "      <td>0.011750</td>\n",
       "    </tr>\n",
       "    <tr>\n",
       "      <th>country_UK</th>\n",
       "      <td>0.010890</td>\n",
       "    </tr>\n",
       "    <tr>\n",
       "      <th>content_rating_PG</th>\n",
       "      <td>0.005174</td>\n",
       "    </tr>\n",
       "    <tr>\n",
       "      <th>content_rating_NC-17</th>\n",
       "      <td>0.001160</td>\n",
       "    </tr>\n",
       "  </tbody>\n",
       "</table>\n",
       "</div>"
      ],
      "text/plain": [
       "                         importance\n",
       "num_voted_users            0.173232\n",
       "duration                   0.115806\n",
       "num_critic_for_reviews     0.103120\n",
       "num_user_for_reviews       0.101123\n",
       "budget                     0.100172\n",
       "gross                      0.096954\n",
       "title_year                 0.090229\n",
       "actor_1_facebook_likes     0.081539\n",
       "director_facebook_likes    0.080919\n",
       "country_USA                0.014975\n",
       "content_rating_R           0.012957\n",
       "content_rating_PG-13       0.011750\n",
       "country_UK                 0.010890\n",
       "content_rating_PG          0.005174\n",
       "content_rating_NC-17       0.001160"
      ]
     },
     "execution_count": 1289,
     "metadata": {},
     "output_type": "execute_result"
    }
   ],
   "source": [
    "pd.DataFrame(model_extra.feature_importances_, index = X.columns,\n",
    "                                    columns=['importance']).sort_values('importance', ascending=False)"
   ]
  },
  {
   "cell_type": "markdown",
   "metadata": {
    "slideshow": {
     "slide_type": "subslide"
    }
   },
   "source": [
    "- Number of users who voted is still the most important feature "
   ]
  },
  {
   "cell_type": "code",
   "execution_count": 1290,
   "metadata": {
    "slideshow": {
     "slide_type": "subslide"
    }
   },
   "outputs": [
    {
     "data": {
      "image/png": "[encoded data removed]",
      "text/plain": [
       "<Figure size 432x288 with 1 Axes>"
      ]
     },
     "metadata": {
      "needs_background": "light"
     },
     "output_type": "display_data"
    }
   ],
   "source": [
    "pd.DataFrame(model_extra.feature_importances_, index = X.columns,\n",
    "                                    columns=['importance']).sort_values('importance', ascending=False).plot(kind='barh', \n",
    "                                                                                                            legend=None);"
   ]
  },
  {
   "cell_type": "markdown",
   "metadata": {
    "slideshow": {
     "slide_type": "subslide"
    }
   },
   "source": [
    "- Looking at this model we can see that the difference between the variables are much less. The number of users who voted still have the largest impact on the imdb scores however its not by as drastic of a margin as before"
   ]
  },
  {
   "cell_type": "markdown",
   "metadata": {
    "slideshow": {
     "slide_type": "slide"
    }
   },
   "source": [
    "# 8. Clustering"
   ]
  },
  {
   "cell_type": "code",
   "execution_count": 1291,
   "metadata": {
    "slideshow": {
     "slide_type": "skip"
    }
   },
   "outputs": [],
   "source": [
    "from sklearn.cluster import KMeans\n",
    "\n",
    "from sklearn.cluster import AgglomerativeClustering\n",
    "from sklearn.metrics import pairwise_distances\n",
    "\n",
    "from sklearn.cluster import ward_tree\n",
    "from scipy.cluster.hierarchy import dendrogram, linkage, ward\n",
    "from sklearn import tree\n",
    "\n",
    "from sklearn.metrics.pairwise import pairwise_distances_argmin\n",
    "from scipy.spatial.distance import cdist \n",
    "from sklearn import metrics\n",
    "from sklearn.metrics import silhouette_samples, silhouette_score\n",
    "import matplotlib.cm as cm\n",
    "\n",
    "from sklearn.tree import DecisionTreeClassifier\n",
    "from sklearn.externals.six import StringIO\n",
    "import pydotplus\n",
    "from IPython.display import IFrame\n",
    "from sklearn.cluster import KMeans\n",
    "\n",
    "from sklearn.cluster import AgglomerativeClustering\n",
    "from sklearn.metrics import pairwise_distances"
   ]
  },
  {
   "cell_type": "code",
   "execution_count": 1292,
   "metadata": {
    "slideshow": {
     "slide_type": "skip"
    }
   },
   "outputs": [],
   "source": [
    "del df['director_name']\n",
    "del df['actor_2_name']\n",
    "del df['genres']\n",
    "del df['actor_1_name']\n",
    "del df['movie_title']\n",
    "del df['plot_keywords']\n",
    "del df['imdbscores_bins']"
   ]
  },
  {
   "cell_type": "code",
   "execution_count": 1293,
   "metadata": {
    "slideshow": {
     "slide_type": "subslide"
    }
   },
   "outputs": [],
   "source": [
    "k_means = KMeans(init='k-means++', n_clusters=4, random_state=0)"
   ]
  },
  {
   "cell_type": "code",
   "execution_count": 1294,
   "metadata": {
    "slideshow": {
     "slide_type": "skip"
    }
   },
   "outputs": [
    {
     "data": {
      "text/plain": [
       "KMeans(algorithm='auto', copy_x=True, init='k-means++', max_iter=300,\n",
       "       n_clusters=4, n_init=10, n_jobs=None, precompute_distances='auto',\n",
       "       random_state=0, tol=0.0001, verbose=0)"
      ]
     },
     "execution_count": 1294,
     "metadata": {},
     "output_type": "execute_result"
    }
   ],
   "source": [
    "k_means.fit(df)"
   ]
  },
  {
   "cell_type": "code",
   "execution_count": 1295,
   "metadata": {
    "slideshow": {
     "slide_type": "skip"
    }
   },
   "outputs": [
    {
     "data": {
      "text/plain": [
       "array([0, 0, 0, ..., 3, 3, 3])"
      ]
     },
     "execution_count": 1295,
     "metadata": {},
     "output_type": "execute_result"
    }
   ],
   "source": [
    "k_means.labels_"
   ]
  },
  {
   "cell_type": "code",
   "execution_count": 1296,
   "metadata": {
    "slideshow": {
     "slide_type": "subslide"
    }
   },
   "outputs": [
    {
     "data": {
      "text/plain": [
       "array([[ 2.78420833e+02,  1.20862500e+02,  1.61193958e+03,\n",
       "         1.15499917e+04,  1.96654338e+08,  3.06949002e+05,\n",
       "         7.87360417e+02,  9.27937289e+07,  2.00356667e+03,\n",
       "         7.02395833e+00,  1.03860610e+08,  2.38698361e+03,\n",
       "         2.03750000e+00,  4.58333333e-02,  9.00000000e-01,\n",
       "         2.94902991e-17,  2.60416667e-01,  4.91666667e-01,\n",
       "         2.00000000e-01],\n",
       "       [ 3.63000000e+02,  1.10000000e+02,  5.84000000e+02,\n",
       "         6.29000000e+02,  2.20141200e+06,  6.88830000e+04,\n",
       "         2.79000000e+02,  1.22155000e+10,  2.00600000e+03,\n",
       "         7.00000000e+00, -1.22132986e+10, -9.99819785e+01,\n",
       "         2.00000000e+00,  0.00000000e+00,  0.00000000e+00,\n",
       "         0.00000000e+00,  0.00000000e+00,  0.00000000e+00,\n",
       "         1.00000000e+00],\n",
       "       [ 1.38500000e+02,  1.20750000e+02,  1.53075000e+03,\n",
       "         5.26750000e+02,  7.79033500e+05,  7.35975000e+04,\n",
       "         2.06250000e+02,  2.80687997e+09,  2.00275000e+03,\n",
       "         7.52500000e+00, -2.80610094e+09, -9.99680193e+01,\n",
       "         2.25000000e+00,  0.00000000e+00,  0.00000000e+00,\n",
       "         0.00000000e+00,  0.00000000e+00,  5.00000000e-01,\n",
       "         5.00000000e-01],\n",
       "       [ 1.50536465e+02,  1.08678307e+02,  6.90557787e+02,\n",
       "         7.19343480e+03,  3.11983800e+07,  7.57913959e+04,\n",
       "         2.69254326e+02,  3.21468163e+07,  2.00287392e+03,\n",
       "         6.38207664e+00, -9.48436320e+05,  2.68701201e+02,\n",
       "         1.68386897e+00,  8.99258344e-02,  7.81520396e-01,\n",
       "         4.94437577e-03,  1.36279357e-01,  3.25092707e-01,\n",
       "         5.13906057e-01]])"
      ]
     },
     "execution_count": 1296,
     "metadata": {},
     "output_type": "execute_result"
    }
   ],
   "source": [
    "k_means.cluster_centers_"
   ]
  },
  {
   "cell_type": "code",
   "execution_count": 1297,
   "metadata": {
    "slideshow": {
     "slide_type": "skip"
    }
   },
   "outputs": [
    {
     "data": {
      "text/html": [
       "<div>\n",
       "<style scoped>\n",
       "    .dataframe tbody tr th:only-of-type {\n",
       "        vertical-align: middle;\n",
       "    }\n",
       "\n",
       "    .dataframe tbody tr th {\n",
       "        vertical-align: top;\n",
       "    }\n",
       "\n",
       "    .dataframe thead th {\n",
       "        text-align: right;\n",
       "    }\n",
       "</style>\n",
       "<table border=\"1\" class=\"dataframe\">\n",
       "  <thead>\n",
       "    <tr style=\"text-align: right;\">\n",
       "      <th></th>\n",
       "      <th>cluster</th>\n",
       "    </tr>\n",
       "  </thead>\n",
       "  <tbody>\n",
       "    <tr>\n",
       "      <th>0</th>\n",
       "      <td>0</td>\n",
       "    </tr>\n",
       "    <tr>\n",
       "      <th>1</th>\n",
       "      <td>0</td>\n",
       "    </tr>\n",
       "    <tr>\n",
       "      <th>2</th>\n",
       "      <td>0</td>\n",
       "    </tr>\n",
       "    <tr>\n",
       "      <th>3</th>\n",
       "      <td>0</td>\n",
       "    </tr>\n",
       "    <tr>\n",
       "      <th>4</th>\n",
       "      <td>3</td>\n",
       "    </tr>\n",
       "  </tbody>\n",
       "</table>\n",
       "</div>"
      ],
      "text/plain": [
       "   cluster\n",
       "0        0\n",
       "1        0\n",
       "2        0\n",
       "3        0\n",
       "4        3"
      ]
     },
     "execution_count": 1297,
     "metadata": {},
     "output_type": "execute_result"
    }
   ],
   "source": [
    "df1 = pd.DataFrame(k_means.labels_, columns = ['cluster'])\n",
    "df1.head()"
   ]
  },
  {
   "cell_type": "code",
   "execution_count": 1298,
   "metadata": {
    "slideshow": {
     "slide_type": "subslide"
    }
   },
   "outputs": [
    {
     "data": {
      "text/html": [
       "<div>\n",
       "<style scoped>\n",
       "    .dataframe tbody tr th:only-of-type {\n",
       "        vertical-align: middle;\n",
       "    }\n",
       "\n",
       "    .dataframe tbody tr th {\n",
       "        vertical-align: top;\n",
       "    }\n",
       "\n",
       "    .dataframe thead th {\n",
       "        text-align: right;\n",
       "    }\n",
       "</style>\n",
       "<table border=\"1\" class=\"dataframe\">\n",
       "  <thead>\n",
       "    <tr style=\"text-align: right;\">\n",
       "      <th></th>\n",
       "      <th>num_critic_for_reviews</th>\n",
       "      <th>duration</th>\n",
       "      <th>director_facebook_likes</th>\n",
       "      <th>actor_1_facebook_likes</th>\n",
       "      <th>gross</th>\n",
       "      <th>num_voted_users</th>\n",
       "      <th>num_user_for_reviews</th>\n",
       "      <th>budget</th>\n",
       "      <th>title_year</th>\n",
       "      <th>imdb_score</th>\n",
       "      <th>profit</th>\n",
       "      <th>return_investment</th>\n",
       "      <th>imdbscore_category</th>\n",
       "      <th>country_UK</th>\n",
       "      <th>country_USA</th>\n",
       "      <th>content_rating_NC-17</th>\n",
       "      <th>content_rating_PG</th>\n",
       "      <th>content_rating_PG-13</th>\n",
       "      <th>content_rating_R</th>\n",
       "      <th>cluster</th>\n",
       "    </tr>\n",
       "  </thead>\n",
       "  <tbody>\n",
       "    <tr>\n",
       "      <th>0</th>\n",
       "      <td>723</td>\n",
       "      <td>178</td>\n",
       "      <td>0</td>\n",
       "      <td>1000</td>\n",
       "      <td>760505847</td>\n",
       "      <td>886204</td>\n",
       "      <td>3054</td>\n",
       "      <td>237000000</td>\n",
       "      <td>2009</td>\n",
       "      <td>7.9</td>\n",
       "      <td>523505847</td>\n",
       "      <td>220.888543</td>\n",
       "      <td>2</td>\n",
       "      <td>0</td>\n",
       "      <td>1</td>\n",
       "      <td>0</td>\n",
       "      <td>0</td>\n",
       "      <td>1</td>\n",
       "      <td>0</td>\n",
       "      <td>0.0</td>\n",
       "    </tr>\n",
       "    <tr>\n",
       "      <th>1</th>\n",
       "      <td>302</td>\n",
       "      <td>169</td>\n",
       "      <td>563</td>\n",
       "      <td>40000</td>\n",
       "      <td>309404152</td>\n",
       "      <td>471220</td>\n",
       "      <td>1238</td>\n",
       "      <td>300000000</td>\n",
       "      <td>2007</td>\n",
       "      <td>7.1</td>\n",
       "      <td>9404152</td>\n",
       "      <td>3.134717</td>\n",
       "      <td>2</td>\n",
       "      <td>0</td>\n",
       "      <td>1</td>\n",
       "      <td>0</td>\n",
       "      <td>0</td>\n",
       "      <td>1</td>\n",
       "      <td>0</td>\n",
       "      <td>0.0</td>\n",
       "    </tr>\n",
       "    <tr>\n",
       "      <th>2</th>\n",
       "      <td>602</td>\n",
       "      <td>148</td>\n",
       "      <td>0</td>\n",
       "      <td>11000</td>\n",
       "      <td>200074175</td>\n",
       "      <td>275868</td>\n",
       "      <td>994</td>\n",
       "      <td>245000000</td>\n",
       "      <td>2015</td>\n",
       "      <td>6.8</td>\n",
       "      <td>-44925825</td>\n",
       "      <td>-18.337071</td>\n",
       "      <td>2</td>\n",
       "      <td>1</td>\n",
       "      <td>0</td>\n",
       "      <td>0</td>\n",
       "      <td>0</td>\n",
       "      <td>1</td>\n",
       "      <td>0</td>\n",
       "      <td>0.0</td>\n",
       "    </tr>\n",
       "    <tr>\n",
       "      <th>3</th>\n",
       "      <td>813</td>\n",
       "      <td>164</td>\n",
       "      <td>22000</td>\n",
       "      <td>27000</td>\n",
       "      <td>448130642</td>\n",
       "      <td>1144337</td>\n",
       "      <td>2701</td>\n",
       "      <td>250000000</td>\n",
       "      <td>2012</td>\n",
       "      <td>8.5</td>\n",
       "      <td>198130642</td>\n",
       "      <td>79.252257</td>\n",
       "      <td>3</td>\n",
       "      <td>0</td>\n",
       "      <td>1</td>\n",
       "      <td>0</td>\n",
       "      <td>0</td>\n",
       "      <td>1</td>\n",
       "      <td>0</td>\n",
       "      <td>0.0</td>\n",
       "    </tr>\n",
       "    <tr>\n",
       "      <th>5</th>\n",
       "      <td>462</td>\n",
       "      <td>132</td>\n",
       "      <td>475</td>\n",
       "      <td>640</td>\n",
       "      <td>73058679</td>\n",
       "      <td>212204</td>\n",
       "      <td>738</td>\n",
       "      <td>263700000</td>\n",
       "      <td>2012</td>\n",
       "      <td>6.6</td>\n",
       "      <td>-190641321</td>\n",
       "      <td>-72.294775</td>\n",
       "      <td>2</td>\n",
       "      <td>0</td>\n",
       "      <td>1</td>\n",
       "      <td>0</td>\n",
       "      <td>0</td>\n",
       "      <td>1</td>\n",
       "      <td>0</td>\n",
       "      <td>0.0</td>\n",
       "    </tr>\n",
       "  </tbody>\n",
       "</table>\n",
       "</div>"
      ],
      "text/plain": [
       "   num_critic_for_reviews  duration  director_facebook_likes  \\\n",
       "0                     723       178                        0   \n",
       "1                     302       169                      563   \n",
       "2                     602       148                        0   \n",
       "3                     813       164                    22000   \n",
       "5                     462       132                      475   \n",
       "\n",
       "   actor_1_facebook_likes      gross  num_voted_users  num_user_for_reviews  \\\n",
       "0                    1000  760505847           886204                  3054   \n",
       "1                   40000  309404152           471220                  1238   \n",
       "2                   11000  200074175           275868                   994   \n",
       "3                   27000  448130642          1144337                  2701   \n",
       "5                     640   73058679           212204                   738   \n",
       "\n",
       "      budget  title_year  imdb_score     profit  return_investment  \\\n",
       "0  237000000        2009         7.9  523505847         220.888543   \n",
       "1  300000000        2007         7.1    9404152           3.134717   \n",
       "2  245000000        2015         6.8  -44925825         -18.337071   \n",
       "3  250000000        2012         8.5  198130642          79.252257   \n",
       "5  263700000        2012         6.6 -190641321         -72.294775   \n",
       "\n",
       "  imdbscore_category  country_UK  country_USA  content_rating_NC-17  \\\n",
       "0                  2           0            1                     0   \n",
       "1                  2           0            1                     0   \n",
       "2                  2           1            0                     0   \n",
       "3                  3           0            1                     0   \n",
       "5                  2           0            1                     0   \n",
       "\n",
       "   content_rating_PG  content_rating_PG-13  content_rating_R  cluster  \n",
       "0                  0                     1                 0      0.0  \n",
       "1                  0                     1                 0      0.0  \n",
       "2                  0                     1                 0      0.0  \n",
       "3                  0                     1                 0      0.0  \n",
       "5                  0                     1                 0      0.0  "
      ]
     },
     "execution_count": 1298,
     "metadata": {},
     "output_type": "execute_result"
    }
   ],
   "source": [
    "df2 = df.join(df1)\n",
    "df2.head()"
   ]
  },
  {
   "cell_type": "markdown",
   "metadata": {
    "slideshow": {
     "slide_type": "slide"
    }
   },
   "source": [
    "### Profiling each cluster"
   ]
  },
  {
   "cell_type": "code",
   "execution_count": 1299,
   "metadata": {
    "slideshow": {
     "slide_type": "subslide"
    }
   },
   "outputs": [
    {
     "data": {
      "text/html": [
       "<div>\n",
       "<style scoped>\n",
       "    .dataframe tbody tr th:only-of-type {\n",
       "        vertical-align: middle;\n",
       "    }\n",
       "\n",
       "    .dataframe tbody tr th {\n",
       "        vertical-align: top;\n",
       "    }\n",
       "\n",
       "    .dataframe thead th {\n",
       "        text-align: right;\n",
       "    }\n",
       "</style>\n",
       "<table border=\"1\" class=\"dataframe\">\n",
       "  <thead>\n",
       "    <tr style=\"text-align: right;\">\n",
       "      <th></th>\n",
       "      <th>num_critic_for_reviews</th>\n",
       "      <th>duration</th>\n",
       "      <th>director_facebook_likes</th>\n",
       "      <th>actor_1_facebook_likes</th>\n",
       "      <th>gross</th>\n",
       "      <th>num_voted_users</th>\n",
       "      <th>num_user_for_reviews</th>\n",
       "      <th>budget</th>\n",
       "      <th>title_year</th>\n",
       "      <th>imdb_score</th>\n",
       "      <th>profit</th>\n",
       "      <th>return_investment</th>\n",
       "      <th>country_UK</th>\n",
       "      <th>country_USA</th>\n",
       "      <th>content_rating_NC-17</th>\n",
       "      <th>content_rating_PG</th>\n",
       "      <th>content_rating_PG-13</th>\n",
       "      <th>content_rating_R</th>\n",
       "    </tr>\n",
       "    <tr>\n",
       "      <th>cluster</th>\n",
       "      <th></th>\n",
       "      <th></th>\n",
       "      <th></th>\n",
       "      <th></th>\n",
       "      <th></th>\n",
       "      <th></th>\n",
       "      <th></th>\n",
       "      <th></th>\n",
       "      <th></th>\n",
       "      <th></th>\n",
       "      <th></th>\n",
       "      <th></th>\n",
       "      <th></th>\n",
       "      <th></th>\n",
       "      <th></th>\n",
       "      <th></th>\n",
       "      <th></th>\n",
       "      <th></th>\n",
       "    </tr>\n",
       "  </thead>\n",
       "  <tbody>\n",
       "    <tr>\n",
       "      <th>0.0</th>\n",
       "      <td>241.468037</td>\n",
       "      <td>118.127854</td>\n",
       "      <td>1174.735160</td>\n",
       "      <td>11000.805936</td>\n",
       "      <td>1.036236e+08</td>\n",
       "      <td>182550.552511</td>\n",
       "      <td>559.079909</td>\n",
       "      <td>9.382808e+07</td>\n",
       "      <td>2006.337900</td>\n",
       "      <td>6.516895</td>\n",
       "      <td>9.795477e+06</td>\n",
       "      <td>5.698400</td>\n",
       "      <td>0.089041</td>\n",
       "      <td>0.824201</td>\n",
       "      <td>0.000000</td>\n",
       "      <td>0.198630</td>\n",
       "      <td>0.500000</td>\n",
       "      <td>0.264840</td>\n",
       "    </tr>\n",
       "    <tr>\n",
       "      <th>1.0</th>\n",
       "      <td>96.000000</td>\n",
       "      <td>106.000000</td>\n",
       "      <td>61.000000</td>\n",
       "      <td>907.000000</td>\n",
       "      <td>3.264555e+07</td>\n",
       "      <td>8427.000000</td>\n",
       "      <td>88.000000</td>\n",
       "      <td>1.400000e+07</td>\n",
       "      <td>2005.000000</td>\n",
       "      <td>6.400000</td>\n",
       "      <td>1.864555e+07</td>\n",
       "      <td>133.182471</td>\n",
       "      <td>0.000000</td>\n",
       "      <td>1.000000</td>\n",
       "      <td>0.000000</td>\n",
       "      <td>1.000000</td>\n",
       "      <td>0.000000</td>\n",
       "      <td>0.000000</td>\n",
       "    </tr>\n",
       "    <tr>\n",
       "      <th>2.0</th>\n",
       "      <td>90.000000</td>\n",
       "      <td>106.666667</td>\n",
       "      <td>5341.666667</td>\n",
       "      <td>10157.333333</td>\n",
       "      <td>2.283544e+07</td>\n",
       "      <td>32063.666667</td>\n",
       "      <td>162.333333</td>\n",
       "      <td>2.100000e+07</td>\n",
       "      <td>2000.666667</td>\n",
       "      <td>5.633333</td>\n",
       "      <td>1.835442e+06</td>\n",
       "      <td>10.021920</td>\n",
       "      <td>0.333333</td>\n",
       "      <td>0.666667</td>\n",
       "      <td>0.000000</td>\n",
       "      <td>0.333333</td>\n",
       "      <td>0.333333</td>\n",
       "      <td>0.333333</td>\n",
       "    </tr>\n",
       "    <tr>\n",
       "      <th>3.0</th>\n",
       "      <td>163.201619</td>\n",
       "      <td>110.988227</td>\n",
       "      <td>843.301325</td>\n",
       "      <td>7904.342899</td>\n",
       "      <td>5.203406e+07</td>\n",
       "      <td>104172.949963</td>\n",
       "      <td>323.814570</td>\n",
       "      <td>4.466690e+07</td>\n",
       "      <td>2003.047829</td>\n",
       "      <td>6.419169</td>\n",
       "      <td>7.367161e+06</td>\n",
       "      <td>110.362676</td>\n",
       "      <td>0.082046</td>\n",
       "      <td>0.803164</td>\n",
       "      <td>0.002575</td>\n",
       "      <td>0.158940</td>\n",
       "      <td>0.363870</td>\n",
       "      <td>0.450331</td>\n",
       "    </tr>\n",
       "  </tbody>\n",
       "</table>\n",
       "</div>"
      ],
      "text/plain": [
       "         num_critic_for_reviews    duration  director_facebook_likes  \\\n",
       "cluster                                                                \n",
       "0.0                  241.468037  118.127854              1174.735160   \n",
       "1.0                   96.000000  106.000000                61.000000   \n",
       "2.0                   90.000000  106.666667              5341.666667   \n",
       "3.0                  163.201619  110.988227               843.301325   \n",
       "\n",
       "         actor_1_facebook_likes         gross  num_voted_users  \\\n",
       "cluster                                                          \n",
       "0.0                11000.805936  1.036236e+08    182550.552511   \n",
       "1.0                  907.000000  3.264555e+07      8427.000000   \n",
       "2.0                10157.333333  2.283544e+07     32063.666667   \n",
       "3.0                 7904.342899  5.203406e+07    104172.949963   \n",
       "\n",
       "         num_user_for_reviews        budget   title_year  imdb_score  \\\n",
       "cluster                                                                \n",
       "0.0                559.079909  9.382808e+07  2006.337900    6.516895   \n",
       "1.0                 88.000000  1.400000e+07  2005.000000    6.400000   \n",
       "2.0                162.333333  2.100000e+07  2000.666667    5.633333   \n",
       "3.0                323.814570  4.466690e+07  2003.047829    6.419169   \n",
       "\n",
       "               profit  return_investment  country_UK  country_USA  \\\n",
       "cluster                                                             \n",
       "0.0      9.795477e+06           5.698400    0.089041     0.824201   \n",
       "1.0      1.864555e+07         133.182471    0.000000     1.000000   \n",
       "2.0      1.835442e+06          10.021920    0.333333     0.666667   \n",
       "3.0      7.367161e+06         110.362676    0.082046     0.803164   \n",
       "\n",
       "         content_rating_NC-17  content_rating_PG  content_rating_PG-13  \\\n",
       "cluster                                                                  \n",
       "0.0                  0.000000           0.198630              0.500000   \n",
       "1.0                  0.000000           1.000000              0.000000   \n",
       "2.0                  0.000000           0.333333              0.333333   \n",
       "3.0                  0.002575           0.158940              0.363870   \n",
       "\n",
       "         content_rating_R  \n",
       "cluster                    \n",
       "0.0              0.264840  \n",
       "1.0              0.000000  \n",
       "2.0              0.333333  \n",
       "3.0              0.450331  "
      ]
     },
     "execution_count": 1299,
     "metadata": {},
     "output_type": "execute_result"
    }
   ],
   "source": [
    "df2.groupby('cluster').mean()"
   ]
  },
  {
   "cell_type": "code",
   "execution_count": 1300,
   "metadata": {
    "slideshow": {
     "slide_type": "subslide"
    }
   },
   "outputs": [
    {
     "data": {
      "text/html": [
       "<div>\n",
       "<style scoped>\n",
       "    .dataframe tbody tr th:only-of-type {\n",
       "        vertical-align: middle;\n",
       "    }\n",
       "\n",
       "    .dataframe tbody tr th {\n",
       "        vertical-align: top;\n",
       "    }\n",
       "\n",
       "    .dataframe thead th {\n",
       "        text-align: right;\n",
       "    }\n",
       "</style>\n",
       "<table border=\"1\" class=\"dataframe\">\n",
       "  <thead>\n",
       "    <tr style=\"text-align: right;\">\n",
       "      <th></th>\n",
       "      <th>num_critic_for_reviews</th>\n",
       "      <th>duration</th>\n",
       "      <th>director_facebook_likes</th>\n",
       "      <th>actor_1_facebook_likes</th>\n",
       "      <th>gross</th>\n",
       "      <th>num_voted_users</th>\n",
       "      <th>num_user_for_reviews</th>\n",
       "      <th>budget</th>\n",
       "      <th>title_year</th>\n",
       "      <th>imdb_score</th>\n",
       "      <th>profit</th>\n",
       "      <th>return_investment</th>\n",
       "      <th>imdbscore_category</th>\n",
       "      <th>country_UK</th>\n",
       "      <th>country_USA</th>\n",
       "      <th>content_rating_NC-17</th>\n",
       "      <th>content_rating_PG</th>\n",
       "      <th>content_rating_PG-13</th>\n",
       "      <th>content_rating_R</th>\n",
       "    </tr>\n",
       "    <tr>\n",
       "      <th>cluster</th>\n",
       "      <th></th>\n",
       "      <th></th>\n",
       "      <th></th>\n",
       "      <th></th>\n",
       "      <th></th>\n",
       "      <th></th>\n",
       "      <th></th>\n",
       "      <th></th>\n",
       "      <th></th>\n",
       "      <th></th>\n",
       "      <th></th>\n",
       "      <th></th>\n",
       "      <th></th>\n",
       "      <th></th>\n",
       "      <th></th>\n",
       "      <th></th>\n",
       "      <th></th>\n",
       "      <th></th>\n",
       "      <th></th>\n",
       "    </tr>\n",
       "  </thead>\n",
       "  <tbody>\n",
       "    <tr>\n",
       "      <th>0.0</th>\n",
       "      <td>438</td>\n",
       "      <td>438</td>\n",
       "      <td>438</td>\n",
       "      <td>438</td>\n",
       "      <td>438</td>\n",
       "      <td>438</td>\n",
       "      <td>438</td>\n",
       "      <td>438</td>\n",
       "      <td>438</td>\n",
       "      <td>438</td>\n",
       "      <td>438</td>\n",
       "      <td>438</td>\n",
       "      <td>438</td>\n",
       "      <td>438</td>\n",
       "      <td>438</td>\n",
       "      <td>438</td>\n",
       "      <td>438</td>\n",
       "      <td>438</td>\n",
       "      <td>438</td>\n",
       "    </tr>\n",
       "    <tr>\n",
       "      <th>1.0</th>\n",
       "      <td>1</td>\n",
       "      <td>1</td>\n",
       "      <td>1</td>\n",
       "      <td>1</td>\n",
       "      <td>1</td>\n",
       "      <td>1</td>\n",
       "      <td>1</td>\n",
       "      <td>1</td>\n",
       "      <td>1</td>\n",
       "      <td>1</td>\n",
       "      <td>1</td>\n",
       "      <td>1</td>\n",
       "      <td>1</td>\n",
       "      <td>1</td>\n",
       "      <td>1</td>\n",
       "      <td>1</td>\n",
       "      <td>1</td>\n",
       "      <td>1</td>\n",
       "      <td>1</td>\n",
       "    </tr>\n",
       "    <tr>\n",
       "      <th>2.0</th>\n",
       "      <td>3</td>\n",
       "      <td>3</td>\n",
       "      <td>3</td>\n",
       "      <td>3</td>\n",
       "      <td>3</td>\n",
       "      <td>3</td>\n",
       "      <td>3</td>\n",
       "      <td>3</td>\n",
       "      <td>3</td>\n",
       "      <td>3</td>\n",
       "      <td>3</td>\n",
       "      <td>3</td>\n",
       "      <td>3</td>\n",
       "      <td>3</td>\n",
       "      <td>3</td>\n",
       "      <td>3</td>\n",
       "      <td>3</td>\n",
       "      <td>3</td>\n",
       "      <td>3</td>\n",
       "    </tr>\n",
       "    <tr>\n",
       "      <th>3.0</th>\n",
       "      <td>2718</td>\n",
       "      <td>2718</td>\n",
       "      <td>2718</td>\n",
       "      <td>2718</td>\n",
       "      <td>2718</td>\n",
       "      <td>2718</td>\n",
       "      <td>2718</td>\n",
       "      <td>2718</td>\n",
       "      <td>2718</td>\n",
       "      <td>2718</td>\n",
       "      <td>2718</td>\n",
       "      <td>2718</td>\n",
       "      <td>2718</td>\n",
       "      <td>2718</td>\n",
       "      <td>2718</td>\n",
       "      <td>2718</td>\n",
       "      <td>2718</td>\n",
       "      <td>2718</td>\n",
       "      <td>2718</td>\n",
       "    </tr>\n",
       "  </tbody>\n",
       "</table>\n",
       "</div>"
      ],
      "text/plain": [
       "         num_critic_for_reviews  duration  director_facebook_likes  \\\n",
       "cluster                                                              \n",
       "0.0                         438       438                      438   \n",
       "1.0                           1         1                        1   \n",
       "2.0                           3         3                        3   \n",
       "3.0                        2718      2718                     2718   \n",
       "\n",
       "         actor_1_facebook_likes  gross  num_voted_users  num_user_for_reviews  \\\n",
       "cluster                                                                         \n",
       "0.0                         438    438              438                   438   \n",
       "1.0                           1      1                1                     1   \n",
       "2.0                           3      3                3                     3   \n",
       "3.0                        2718   2718             2718                  2718   \n",
       "\n",
       "         budget  title_year  imdb_score  profit  return_investment  \\\n",
       "cluster                                                              \n",
       "0.0         438         438         438     438                438   \n",
       "1.0           1           1           1       1                  1   \n",
       "2.0           3           3           3       3                  3   \n",
       "3.0        2718        2718        2718    2718               2718   \n",
       "\n",
       "         imdbscore_category  country_UK  country_USA  content_rating_NC-17  \\\n",
       "cluster                                                                      \n",
       "0.0                     438         438          438                   438   \n",
       "1.0                       1           1            1                     1   \n",
       "2.0                       3           3            3                     3   \n",
       "3.0                    2718        2718         2718                  2718   \n",
       "\n",
       "         content_rating_PG  content_rating_PG-13  content_rating_R  \n",
       "cluster                                                             \n",
       "0.0                    438                   438               438  \n",
       "1.0                      1                     1                 1  \n",
       "2.0                      3                     3                 3  \n",
       "3.0                   2718                  2718              2718  "
      ]
     },
     "execution_count": 1300,
     "metadata": {},
     "output_type": "execute_result"
    }
   ],
   "source": [
    "df2.groupby(['cluster']).count()"
   ]
  },
  {
   "cell_type": "code",
   "execution_count": 1301,
   "metadata": {
    "slideshow": {
     "slide_type": "skip"
    }
   },
   "outputs": [
    {
     "data": {
      "image/png": "[encoded data removed]",
      "text/plain": [
       "<Figure size 360x360 with 1 Axes>"
      ]
     },
     "metadata": {
      "needs_background": "light"
     },
     "output_type": "display_data"
    }
   ],
   "source": [
    "sns.lmplot(\"cluster\", \"gross\", df2, x_jitter=.15, y_jitter=.15);"
   ]
  },
  {
   "cell_type": "code",
   "execution_count": 1302,
   "metadata": {
    "slideshow": {
     "slide_type": "skip"
    }
   },
   "outputs": [
    {
     "data": {
      "text/plain": [
       "cluster\n",
       "0.0     438\n",
       "1.0       1\n",
       "2.0       3\n",
       "3.0    2718\n",
       "dtype: int64"
      ]
     },
     "execution_count": 1302,
     "metadata": {},
     "output_type": "execute_result"
    }
   ],
   "source": [
    "df2.groupby(['cluster']).size()"
   ]
  },
  {
   "cell_type": "code",
   "execution_count": 1303,
   "metadata": {
    "slideshow": {
     "slide_type": "skip"
    }
   },
   "outputs": [
    {
     "data": {
      "text/html": [
       "<div>\n",
       "<style scoped>\n",
       "    .dataframe tbody tr th:only-of-type {\n",
       "        vertical-align: middle;\n",
       "    }\n",
       "\n",
       "    .dataframe tbody tr th {\n",
       "        vertical-align: top;\n",
       "    }\n",
       "\n",
       "    .dataframe thead th {\n",
       "        text-align: right;\n",
       "    }\n",
       "</style>\n",
       "<table border=\"1\" class=\"dataframe\">\n",
       "  <thead>\n",
       "    <tr style=\"text-align: right;\">\n",
       "      <th></th>\n",
       "      <th>num_critic_for_reviews</th>\n",
       "      <th>duration</th>\n",
       "      <th>director_facebook_likes</th>\n",
       "      <th>actor_1_facebook_likes</th>\n",
       "      <th>gross</th>\n",
       "      <th>num_voted_users</th>\n",
       "      <th>num_user_for_reviews</th>\n",
       "      <th>budget</th>\n",
       "      <th>title_year</th>\n",
       "      <th>imdb_score</th>\n",
       "      <th>profit</th>\n",
       "      <th>return_investment</th>\n",
       "      <th>country_UK</th>\n",
       "      <th>country_USA</th>\n",
       "      <th>content_rating_NC-17</th>\n",
       "      <th>content_rating_PG</th>\n",
       "      <th>content_rating_PG-13</th>\n",
       "      <th>content_rating_R</th>\n",
       "    </tr>\n",
       "    <tr>\n",
       "      <th>cluster</th>\n",
       "      <th></th>\n",
       "      <th></th>\n",
       "      <th></th>\n",
       "      <th></th>\n",
       "      <th></th>\n",
       "      <th></th>\n",
       "      <th></th>\n",
       "      <th></th>\n",
       "      <th></th>\n",
       "      <th></th>\n",
       "      <th></th>\n",
       "      <th></th>\n",
       "      <th></th>\n",
       "      <th></th>\n",
       "      <th></th>\n",
       "      <th></th>\n",
       "      <th></th>\n",
       "      <th></th>\n",
       "    </tr>\n",
       "  </thead>\n",
       "  <tbody>\n",
       "    <tr>\n",
       "      <th>0.0</th>\n",
       "      <td>241.468037</td>\n",
       "      <td>118.127854</td>\n",
       "      <td>1174.735160</td>\n",
       "      <td>11000.805936</td>\n",
       "      <td>1.036236e+08</td>\n",
       "      <td>182550.552511</td>\n",
       "      <td>559.079909</td>\n",
       "      <td>9.382808e+07</td>\n",
       "      <td>2006.337900</td>\n",
       "      <td>6.516895</td>\n",
       "      <td>9.795477e+06</td>\n",
       "      <td>5.698400</td>\n",
       "      <td>0.089041</td>\n",
       "      <td>0.824201</td>\n",
       "      <td>0.000000</td>\n",
       "      <td>0.198630</td>\n",
       "      <td>0.500000</td>\n",
       "      <td>0.264840</td>\n",
       "    </tr>\n",
       "    <tr>\n",
       "      <th>1.0</th>\n",
       "      <td>96.000000</td>\n",
       "      <td>106.000000</td>\n",
       "      <td>61.000000</td>\n",
       "      <td>907.000000</td>\n",
       "      <td>3.264555e+07</td>\n",
       "      <td>8427.000000</td>\n",
       "      <td>88.000000</td>\n",
       "      <td>1.400000e+07</td>\n",
       "      <td>2005.000000</td>\n",
       "      <td>6.400000</td>\n",
       "      <td>1.864555e+07</td>\n",
       "      <td>133.182471</td>\n",
       "      <td>0.000000</td>\n",
       "      <td>1.000000</td>\n",
       "      <td>0.000000</td>\n",
       "      <td>1.000000</td>\n",
       "      <td>0.000000</td>\n",
       "      <td>0.000000</td>\n",
       "    </tr>\n",
       "    <tr>\n",
       "      <th>2.0</th>\n",
       "      <td>90.000000</td>\n",
       "      <td>106.666667</td>\n",
       "      <td>5341.666667</td>\n",
       "      <td>10157.333333</td>\n",
       "      <td>2.283544e+07</td>\n",
       "      <td>32063.666667</td>\n",
       "      <td>162.333333</td>\n",
       "      <td>2.100000e+07</td>\n",
       "      <td>2000.666667</td>\n",
       "      <td>5.633333</td>\n",
       "      <td>1.835442e+06</td>\n",
       "      <td>10.021920</td>\n",
       "      <td>0.333333</td>\n",
       "      <td>0.666667</td>\n",
       "      <td>0.000000</td>\n",
       "      <td>0.333333</td>\n",
       "      <td>0.333333</td>\n",
       "      <td>0.333333</td>\n",
       "    </tr>\n",
       "    <tr>\n",
       "      <th>3.0</th>\n",
       "      <td>163.201619</td>\n",
       "      <td>110.988227</td>\n",
       "      <td>843.301325</td>\n",
       "      <td>7904.342899</td>\n",
       "      <td>5.203406e+07</td>\n",
       "      <td>104172.949963</td>\n",
       "      <td>323.814570</td>\n",
       "      <td>4.466690e+07</td>\n",
       "      <td>2003.047829</td>\n",
       "      <td>6.419169</td>\n",
       "      <td>7.367161e+06</td>\n",
       "      <td>110.362676</td>\n",
       "      <td>0.082046</td>\n",
       "      <td>0.803164</td>\n",
       "      <td>0.002575</td>\n",
       "      <td>0.158940</td>\n",
       "      <td>0.363870</td>\n",
       "      <td>0.450331</td>\n",
       "    </tr>\n",
       "  </tbody>\n",
       "</table>\n",
       "</div>"
      ],
      "text/plain": [
       "         num_critic_for_reviews    duration  director_facebook_likes  \\\n",
       "cluster                                                                \n",
       "0.0                  241.468037  118.127854              1174.735160   \n",
       "1.0                   96.000000  106.000000                61.000000   \n",
       "2.0                   90.000000  106.666667              5341.666667   \n",
       "3.0                  163.201619  110.988227               843.301325   \n",
       "\n",
       "         actor_1_facebook_likes         gross  num_voted_users  \\\n",
       "cluster                                                          \n",
       "0.0                11000.805936  1.036236e+08    182550.552511   \n",
       "1.0                  907.000000  3.264555e+07      8427.000000   \n",
       "2.0                10157.333333  2.283544e+07     32063.666667   \n",
       "3.0                 7904.342899  5.203406e+07    104172.949963   \n",
       "\n",
       "         num_user_for_reviews        budget   title_year  imdb_score  \\\n",
       "cluster                                                                \n",
       "0.0                559.079909  9.382808e+07  2006.337900    6.516895   \n",
       "1.0                 88.000000  1.400000e+07  2005.000000    6.400000   \n",
       "2.0                162.333333  2.100000e+07  2000.666667    5.633333   \n",
       "3.0                323.814570  4.466690e+07  2003.047829    6.419169   \n",
       "\n",
       "               profit  return_investment  country_UK  country_USA  \\\n",
       "cluster                                                             \n",
       "0.0      9.795477e+06           5.698400    0.089041     0.824201   \n",
       "1.0      1.864555e+07         133.182471    0.000000     1.000000   \n",
       "2.0      1.835442e+06          10.021920    0.333333     0.666667   \n",
       "3.0      7.367161e+06         110.362676    0.082046     0.803164   \n",
       "\n",
       "         content_rating_NC-17  content_rating_PG  content_rating_PG-13  \\\n",
       "cluster                                                                  \n",
       "0.0                  0.000000           0.198630              0.500000   \n",
       "1.0                  0.000000           1.000000              0.000000   \n",
       "2.0                  0.000000           0.333333              0.333333   \n",
       "3.0                  0.002575           0.158940              0.363870   \n",
       "\n",
       "         content_rating_R  \n",
       "cluster                    \n",
       "0.0              0.264840  \n",
       "1.0              0.000000  \n",
       "2.0              0.333333  \n",
       "3.0              0.450331  "
      ]
     },
     "execution_count": 1303,
     "metadata": {},
     "output_type": "execute_result"
    }
   ],
   "source": [
    "df2.groupby('cluster').mean()"
   ]
  },
  {
   "cell_type": "markdown",
   "metadata": {
    "slideshow": {
     "slide_type": "subslide"
    }
   },
   "source": [
    "- Cluster Two are movies that are not box office hits. These are movies that could classify as independent films or those that belong to genres that are not part of the major grouping of \"action\" \"romance\" \"comedy\" \"horror\" or \"drama\".\n",
    "- Cluster one and three are awfully similar in the fact that they are movies that are relatively popular with large budgets however cluster one are movies that are generally pg-13 and made in the US \n"
   ]
  },
  {
   "cell_type": "markdown",
   "metadata": {
    "slideshow": {
     "slide_type": "slide"
    }
   },
   "source": [
    "# 9. Storytelling"
   ]
  },
  {
   "cell_type": "markdown",
   "metadata": {
    "slideshow": {
     "slide_type": "subslide"
    }
   },
   "source": [
    "### IMDB, Gross, and Profit are just a few of many ways to represent the success of a movie. To some, a high IMDB score is what qualifies a movie as being successful; to others it depends strictly on how much money a movie brings in at the box office. Regardless of how we choose to represent a movie's success we can determine what factors play into it's outcome. That was the purpose and goal of this project. \n",
    "### In order to determine a movie's success we needed a large set of data which could be processed and analyzed. For this analysis I used the file \"movie_metadata.csv\" which contains information collected from thousands of movies containing a plethora of categories ranging from likes on an actors facebook page to whether or not the movie was released in color or black and white.\n",
    "### Once the data is imported it needs to be evaluated for any errors or inconsistencies which would prevent us from getting the most accurate results. Without completely accurate results any data preperation or business intelligence outputs could be skewed or completely wrong if there is enough poor data in our set. In reviewing the data I have found:\n",
    "- Over 1,000 missing values\n",
    "- 33 duplicated rows\n",
    "- Inaccurate information within country column (values that are not countries)\n",
    "- Content ratings from different eras (different methods of classifying rating)\n",
    "- Irrelevant informtion (imdb link, aspect ratio, etc.)\n",
    "### Information like this, if not cleaned up and taken care of, can greatly alter the results of any analysis given there is enough missing values. Understanding what is in our data is crucial in setting up for the next step which is preparing the data.\n",
    "### For prepairing the data I took all the errors and inaccuracy within the data set and fixed it using several processes including:\n",
    "- Removing rows from dataset containing mass amounts of missing values\n",
    "- Deleting duplicate rows while keeping the first set of information among the duplicates (drop_duplicates(keep='first'))\n",
    "- Changing data type of floats to int64'a\n",
    "- Created new columns in the dataframe \"profit\" and \"return_investment\" which utilize columns \"gross\", \"budget\", and \"profit\".\n",
    "- Checking value counts and creating bins for imdb scores.\n",
    "### Once the data is processed, analyzing the data can begin, this is where we gather useful information that answers business questions. In this case I am looking to find any correlations between the columns in the data frame and the success of a movie. This is the main point of the project. In running my analysis I have found several correlations and useful information which can be used to further analyze the data. For starters, I have broken down the genres column into individual genres and grouped them by their average imdb score to determine which genre is most successful. In doing so I've found \"Film-Noir\" to be the best with an average score of 7.7 However, this does not tell the complete story as there is very few movies in the dataset with that genre. Had there been hundreds the results would even out towards the middle. Along with providing charts and visuals to help analyze the data I've also created several pivot tables organized by grouping to help uncover any correlations or connections between several factors. With all being said and done these are the results I've concluded:\n",
    "- Film Noir statistically gives the best shot at a successful movie via imdb rating however, data is not completely relavant\n",
    "- Non Fiction films greatly outrank fiction in relation to average imdb rating however, do not fair as well in box office.\n",
    "- Directors Akira Kurosawa, Charles Chaplin, and Tony Kaye had the highest average imdb scores at 8.7 and 8.6 respectively\n",
    "- If one wanted to produce a successful movie in terms of profit, an action movie rated PG-13 provides highest profits\n",
    "- US ranks last in imdb scores however, after running another analysis the US has highest number of critical reviews which would result in lower average imdb scores\n",
    "- US is second in budget\n",
    "- a movie from the UK with a G rating will likely provide largest profits followed by UK movie with PG-13 rating.\n",
    "### These are just some of the information gathered through the use of analyzing the dataset. With this one could continue to analyze and come up with even more variables to predict movie success. \n",
    "### Running a correlation analysis shows that there is a relatively strong correlation between number of critical reviews and imdb score as well as user votes. Interestingly enough imdb score had little to no correlation with movie profits or gross earnings. Looking at the correlation analysis it becomes obvious how some factors are correlated such as the number of critical reviews and imdb score, however, factors such as directors, actors, and genre show to have little to no affect on profits, imdb score, gross earnings which goes against what one would assume. After viewing and analyzing the data I have concluded that trying to predict movie success is not as simple as marking a few boxes when creating a movie. There are box office hits that have poor ratings or movies that are critically acclaimed but deemed \"boring\" to the public and flop in the box office. Time period and hype going into a movie also play a role in the outcome of both imdb scores and box office success. There are so many factors and variables at play that I believe nobody can 100% predict a movie's success.\n",
    "### After running the regression models I found that the Random Forrest Regressor for Feature Selection is by far the most accurate of all the regression model at roughly 94% accurate roughly 24 percent more accurate than the next most accurate model in predicting imdb scores. \n",
    "### following this I ran classification models starting by grouping the imdb scores into four bins. bin one being scores less than 4, bin two being scores between 4 and 6, the third, scores between 6 and 8 with the last bin being scores 8 and above. After creating these bins and running classification models I found that the Random Forrest Classifier was the most accurate at 75%  accurately prediciting movies that fall into bin 3 being scores between 6-8. This model accurately predicted this 628 times.\n",
    "### Lastly, I had preformed clustering on the data set and grouping it into four clusters. I found that, there were 438 results in cluster 1 with one result in cluster 2, three results in cluster 3 and lastly, 2718 results in cluster 4. I have identified some of the clusters with cluster two being movies that are not box office hits. These are movies that could classify as independent films or those that belong to genres that are not part of the major grouping of \"action\" \"romance\" \"comedy\" \"horror\" or \"drama\". Cluster one and three are awfully similar in the fact that they are movies that are relatively popular with large budgets however cluster one are movies that are generally pg-13 and made in the US. \n",
    "### I found that the most important variables were the number of users who voted and movie duration. These had the largest affect and most importance in predicting a movies success via imdb scores. \n",
    "### my suggestions for movie producers is with number of user reviews aside, to create a movie with a decent budget and actors. these are factors that have proven to have an importance in a movies success and when thinking about it this makes sense in that a movie in this era generally needs high production value. While in order for a movie to be enjoyable enough to watch should have beloved and talented actors. "
   ]
  },
  {
   "cell_type": "markdown",
   "metadata": {
    "slideshow": {
     "slide_type": "subslide"
    }
   },
   "source": [
    "# References:\n",
    "- www.stackoverflow.com\n",
    "- pandas.pydata.org\n",
    "- www.geeksforgeeks.org\n",
    "- Class midterm discussion page"
   ]
  }
 ],
 "metadata": {
  "celltoolbar": "Slideshow",
  "kernelspec": {
   "display_name": "Python 3",
   "language": "python",
   "name": "python3"
  },
  "language_info": {
   "codemirror_mode": {
    "name": "ipython",
    "version": 3
   },
   "file_extension": ".py",
   "mimetype": "text/x-python",
   "name": "python",
   "nbconvert_exporter": "python",
   "pygments_lexer": "ipython3",
   "version": "3.7.3"
  }
 },
 "nbformat": 4,
 "nbformat_minor": 2
}
